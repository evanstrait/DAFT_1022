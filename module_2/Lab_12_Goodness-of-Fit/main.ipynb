{
 "cells": [
  {
   "cell_type": "markdown",
   "metadata": {},
   "source": [
    "## Question 1\n",
    "The following table indicates the number of 6-point scores in an American rugby match in the 1979 season.\n",
    "\n",
    "![](table1.png)\n",
    "\n",
    "Based on these results, we create a Poisson distribution with the sample mean parameter  = 2.435. Is there any reason to believe that at a .05 level the number of scores is a Poisson variable?"
   ]
  },
  {
   "cell_type": "code",
   "execution_count": 6,
   "metadata": {},
   "outputs": [
    {
     "name": "stdout",
     "output_type": "stream",
     "text": [
      "2.435267857142857\n",
      "2.169916892538265\n"
     ]
    },
    {
     "data": {
      "image/png": "[encoded data removed]",
      "text/plain": [
       "<Figure size 640x480 with 1 Axes>"
      ]
     },
     "metadata": {},
     "output_type": "display_data"
    },
    {
     "name": "stdout",
     "output_type": "stream",
     "text": [
      "0.3705692339672493\n",
      "P-value is above 0.05, so we should not reject the null hypothesis.\n"
     ]
    }
   ],
   "source": [
    "# your answer here\n",
    "import pandas as pd\n",
    "import numpy as np\n",
    "import scipy.stats as stats\n",
    "import matplotlib.pyplot as plt\n",
    "import seaborn as sns\n",
    "\n",
    "dct1 = {\n",
    "    'nb_scores':[i for i in range(0,7+1)],\n",
    "    'nb_times': [35,99,104,110,62,25,10,3]\n",
    "}\n",
    "\n",
    "data1 = pd.DataFrame(dct1)\n",
    "lst = []\n",
    "\n",
    "for i in range(len(data1)):\n",
    "    lst.extend([data1.nb_scores[i]] * data1.nb_times[i])\n",
    "\n",
    "sample1 = np.array(lst)\n",
    "print(np.mean(sample1))\n",
    "print(np.var(sample1))\n",
    "probs1 = stats.poisson.pmf(data1.nb_scores[0:-1], np.mean(sample1))\n",
    "exps1 = probs1 * data1.nb_times.sum()\n",
    "exps1 = np.append(exps1, data1.nb_times.sum() - np.sum(exps1))\n",
    "data1['exps'] = exps1\n",
    "fig = plt.figure()\n",
    "ax = fig.add_subplot(1,1,1)\n",
    "sns.barplot(data = data1, x = 'nb_scores', y = 'nb_times', ax = ax, color = 'green', alpha = 0.5)\n",
    "sns.barplot(data = data1, x = 'nb_scores', y = 'exps', ax = ax, color = 'red', alpha = 0.5)\n",
    "plt.show()\n",
    "pval1 = stats.chisquare(f_obs = data1.nb_times, f_exp=data1.exps, ddof=1)[1]\n",
    "print(pval1)\n",
    "print(\"P-value is above 0.05, so we should not reject the null hypothesis.\")"
   ]
  },
  {
   "cell_type": "markdown",
   "metadata": {},
   "source": [
    "## Question 2\n",
    "The following are the ordered values of a random sample of SAT scores (university entrance exam) for several students: 852, 875, 910, 933, 957, 963, 981, 998, 1010, 1015, 1018, 1023, 1035, 1048, 1063. In previous years, the scores were presented by N (985,50). Based on the sample, is there any reason to believe that there has been a change in the distribution of scores this year? Use the level alpha = 0.05. "
   ]
  },
  {
   "cell_type": "code",
   "execution_count": 7,
   "metadata": {},
   "outputs": [
    {
     "name": "stdout",
     "output_type": "stream",
     "text": [
      "978.7333333333333\n",
      "0.7059102752345553\n",
      "0.8919140563821657\n",
      "Both P-values are above 0.05, so we should not reject either null hypothesis.\n"
     ]
    }
   ],
   "source": [
    "#your answer here\n",
    "obs2 = [852, 875, 910, 933, 957, 963, 981, 998, 1010, 1015, 1018, 1023, 1035, 1048, 1063]\n",
    "print(np.mean(obs2))\n",
    "pval2a = stats.ttest_1samp(obs2, 985)[1]\n",
    "print(pval2a)\n",
    "np.std(obs2)\n",
    "df = len(obs2) - 1\n",
    "test_stat = ( df * np.std(obs2)**2 ) / (50**2)\n",
    "pval2b = stats.chi2.cdf(test_stat, df = df)\n",
    "print(pval2b)\n",
    "print(\"Both P-values are above 0.05, so we should not reject either null hypothesis.\")"
   ]
  },
  {
   "cell_type": "markdown",
   "metadata": {},
   "source": [
    "## Question 3\n",
    "Let's analyze a discrete distribution. To analyze the number of defective items in a factory in the city of Medellín, we took a random sample of n = 60 articles and observed the number of defectives in the following table:\n",
    "\n",
    "![](table4.png)\n",
    "\n",
    "A poissón distribution was proposed since it is defined for x = 0,1,2,3, .... using the following model:\n",
    "\n",
    "![](image1.png)\n",
    "\n",
    "Does the distribution of defective items follow this distribution?"
   ]
  },
  {
   "cell_type": "code",
   "execution_count": 9,
   "metadata": {},
   "outputs": [
    {
     "name": "stdout",
     "output_type": "stream",
     "text": [
      "0.9666666666666667\n",
      "1.7322222222222228\n",
      "[22.8209254  22.06022788  3.43567623  0.83028842 10.85288207]\n",
      "2.9431706468587253e-08\n",
      "The P-value is below 0.05, so we should reject the null hypothesis.\n"
     ]
    }
   ],
   "source": [
    "# your code here\n",
    "dct3 = {\n",
    "    'nb_defects':[0,1,3,4,5],\n",
    "    'obs_freq': [32,15,9,4,0]\n",
    "}\n",
    "\n",
    "data3 = pd.DataFrame(dct3)\n",
    "lst = []\n",
    "\n",
    "for i in range(len(data3)):\n",
    "    lst.extend([data3.nb_defects[i]] * data3.obs_freq[i])\n",
    "\n",
    "sample3 = np.array(lst)\n",
    "print(np.mean(sample3))\n",
    "print(np.var(sample3))\n",
    "probs3 = stats.poisson.pmf(data3.nb_defects[0:-1], np.mean(sample3))\n",
    "exps3 = probs3 * data3.obs_freq.sum()\n",
    "exps3 = np.append(exps3, data3.obs_freq.sum() - np.sum(exps3))\n",
    "print(exps3)\n",
    "data3['exp_freq'] = exps3\n",
    "pval3 = stats.chisquare(f_obs = data3.obs_freq, f_exp=data3.exp_freq, ddof=1)[1]\n",
    "print(pval3)\n",
    "print(\"The P-value is below 0.05, so we should reject the null hypothesis.\")\n"
   ]
  },
  {
   "cell_type": "markdown",
   "metadata": {},
   "source": [
    "## Question 4\n",
    "A quality control engineer takes a simple of 10 tires that come out of an assembly line, and would like to verify on the basis of the data that follows, if the number of tires with defects observed over 200 days, if it is true that 5% of all tires have defects (that is, if the sample comes from a binomial population with n = 10 and p = 0.05). "
   ]
  },
  {
   "cell_type": "code",
   "execution_count": 10,
   "metadata": {},
   "outputs": [
    {
     "data": {
      "text/plain": [
       "array([0, 0, 1, 0, 0, 0, 0, 0, 0, 0, 0, 1, 0, 0, 1, 1, 0, 0, 0, 1, 0, 1,\n",
       "       1, 1, 1, 1, 0, 1, 2, 0, 3, 1, 0, 0, 1, 0, 1, 1, 0, 2, 2, 1, 2, 0,\n",
       "       1, 0, 0, 0, 0, 0, 0, 1, 1, 0, 0, 1, 0, 0, 0, 0, 0, 1, 0, 0, 1, 1,\n",
       "       0, 1, 0, 0, 0, 0, 1, 0, 1, 1, 0, 0, 1, 0, 0, 0, 0, 0, 1, 2, 1, 1,\n",
       "       0, 0, 1, 0, 1, 2, 1, 0, 1, 0, 0, 0, 2, 1, 1, 0, 1, 0, 0, 0, 0, 2,\n",
       "       0, 1, 1, 0, 0, 0, 0, 0, 0, 3, 1, 0, 0, 0, 1, 0, 1, 1, 1, 0, 0, 1,\n",
       "       0, 0, 0, 0, 0, 1, 0, 0, 0, 0, 0, 0, 0, 1, 0, 0, 0, 0, 0, 0, 2, 0,\n",
       "       1, 0, 0, 1, 1, 1, 1, 1, 1, 0, 1, 0, 0, 0, 1, 0, 0, 0, 1, 0, 1, 1,\n",
       "       0, 0, 3, 0, 1, 0, 0, 0, 0, 2, 0, 0, 0, 1, 0, 0, 0, 0, 0, 1, 0, 0,\n",
       "       0, 1])"
      ]
     },
     "execution_count": 10,
     "metadata": {},
     "output_type": "execute_result"
    }
   ],
   "source": [
    "# your answer here\n",
    "sample = np.random.binomial(n=10,p=0.05, size=200)\n",
    "sample"
   ]
  },
  {
   "cell_type": "markdown",
   "metadata": {},
   "source": [
    "## Question 5\n",
    "A researcher gathers information about the patterns of physical activity (AF) of children in the fifth grade of primary school of a public school. He defines three categories of physical activity (1 = Low, 2 = Medium, 3 = High). He also inquires about the regular consumption of sugary drinks at school, and defines two categories (1 = consumed, 0 = not consumed). We would like to evaluate if there is an association between patterns of physical activity and the consumption of sugary drinks for the children of this school, at a level of 5% significance. The results are in the following table: \n",
    "\n",
    "![](table5.png)"
   ]
  },
  {
   "cell_type": "code",
   "execution_count": null,
   "metadata": {},
   "outputs": [],
   "source": [
    "#your answer here"
   ]
  }
 ],
 "metadata": {
  "kernelspec": {
   "display_name": "Python 3.9.12 ('base')",
   "language": "python",
   "name": "python3"
  },
  "language_info": {
   "codemirror_mode": {
    "name": "ipython",
    "version": 3
   },
   "file_extension": ".py",
   "mimetype": "text/x-python",
   "name": "python",
   "nbconvert_exporter": "python",
   "pygments_lexer": "ipython3",
   "version": "3.9.12"
  },
  "vscode": {
   "interpreter": {
    "hash": "3f9e526264d578bc1229c9acd1c854751b6b292fe01e951c245e924c89a05e3f"
   }
  }
 },
 "nbformat": 4,
 "nbformat_minor": 2
}

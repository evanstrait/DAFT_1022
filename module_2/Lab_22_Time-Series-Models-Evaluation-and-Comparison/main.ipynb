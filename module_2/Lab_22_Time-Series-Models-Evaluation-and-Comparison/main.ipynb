{
 "cells": [
  {
   "cell_type": "code",
   "execution_count": 254,
   "metadata": {},
   "outputs": [],
   "source": [
    "# IMPORT LIBRAIRIES\n",
    "\n",
    "import pandas as pd\n",
    "import numpy as np\n",
    "import matplotlib.pyplot as plt\n",
    "import seaborn as sns\n",
    "import yfinance as yf"
   ]
  },
  {
   "cell_type": "code",
   "execution_count": 255,
   "metadata": {},
   "outputs": [
    {
     "name": "stdout",
     "output_type": "stream",
     "text": [
      "[*********************100%***********************]  1 of 1 completed\n"
     ]
    }
   ],
   "source": [
    "# IMPORT DATA\n",
    "\n",
    "btc = yf.download(tickers = 'BTC-USD')[['Close']]\n",
    "btc.index = pd.DatetimeIndex(btc.index.values, freq = btc.index.inferred_freq)"
   ]
  },
  {
   "cell_type": "code",
   "execution_count": 256,
   "metadata": {},
   "outputs": [
    {
     "data": {
      "text/html": [
       "<div>\n",
       "<style scoped>\n",
       "    .dataframe tbody tr th:only-of-type {\n",
       "        vertical-align: middle;\n",
       "    }\n",
       "\n",
       "    .dataframe tbody tr th {\n",
       "        vertical-align: top;\n",
       "    }\n",
       "\n",
       "    .dataframe thead th {\n",
       "        text-align: right;\n",
       "    }\n",
       "</style>\n",
       "<table border=\"1\" class=\"dataframe\">\n",
       "  <thead>\n",
       "    <tr style=\"text-align: right;\">\n",
       "      <th></th>\n",
       "      <th>Close</th>\n",
       "    </tr>\n",
       "  </thead>\n",
       "  <tbody>\n",
       "    <tr>\n",
       "      <th>2014-09-17</th>\n",
       "      <td>457.334015</td>\n",
       "    </tr>\n",
       "    <tr>\n",
       "      <th>2014-09-18</th>\n",
       "      <td>424.440002</td>\n",
       "    </tr>\n",
       "    <tr>\n",
       "      <th>2014-09-19</th>\n",
       "      <td>394.795990</td>\n",
       "    </tr>\n",
       "    <tr>\n",
       "      <th>2014-09-20</th>\n",
       "      <td>408.903992</td>\n",
       "    </tr>\n",
       "    <tr>\n",
       "      <th>2014-09-21</th>\n",
       "      <td>398.821014</td>\n",
       "    </tr>\n",
       "  </tbody>\n",
       "</table>\n",
       "</div>"
      ],
      "text/plain": [
       "                 Close\n",
       "2014-09-17  457.334015\n",
       "2014-09-18  424.440002\n",
       "2014-09-19  394.795990\n",
       "2014-09-20  408.903992\n",
       "2014-09-21  398.821014"
      ]
     },
     "execution_count": 256,
     "metadata": {},
     "output_type": "execute_result"
    }
   ],
   "source": [
    "# CHECK DATA\n",
    "\n",
    "btc.head()"
   ]
  },
  {
   "cell_type": "code",
   "execution_count": 257,
   "metadata": {},
   "outputs": [
    {
     "data": {
      "image/png": "[encoded data removed]",
      "text/plain": [
       "<Figure size 432x288 with 1 Axes>"
      ]
     },
     "metadata": {
      "needs_background": "light"
     },
     "output_type": "display_data"
    }
   ],
   "source": [
    "# PLOT DATA\n",
    "\n",
    "fig = plt.figure()\n",
    "ax = fig.add_subplot(111)\n",
    "sns.lineplot(x = btc.index, y='Close', data = btc, ax = ax)\n",
    "ax.set_title('BTC-USD')\n",
    "ax.set_ylabel('Closing price')\n",
    "plt.show()"
   ]
  },
  {
   "cell_type": "code",
   "execution_count": 258,
   "metadata": {},
   "outputs": [
    {
     "name": "stderr",
     "output_type": "stream",
     "text": [
      "/var/folders/lc/q1lfsr356d11n9j92x9l_x080000gn/T/ipykernel_80924/562977744.py:3: SettingWithCopyWarning: \n",
      "A value is trying to be set on a copy of a slice from a DataFrame\n",
      "\n",
      "See the caveats in the documentation: https://pandas.pydata.org/pandas-docs/stable/user_guide/indexing.html#returning-a-view-versus-a-copy\n",
      "  btc.drop(idx_todrop, inplace=True)\n"
     ]
    }
   ],
   "source": [
    "# Let's consider only data since Jan 2021 only\n",
    "idx_todrop = pd.date_range(start = btc.iloc[0].name.date(), end = '2020-12-31')\n",
    "btc.drop(idx_todrop, inplace=True)"
   ]
  },
  {
   "cell_type": "code",
   "execution_count": 259,
   "metadata": {},
   "outputs": [
    {
     "data": {
      "text/html": [
       "<div>\n",
       "<style scoped>\n",
       "    .dataframe tbody tr th:only-of-type {\n",
       "        vertical-align: middle;\n",
       "    }\n",
       "\n",
       "    .dataframe tbody tr th {\n",
       "        vertical-align: top;\n",
       "    }\n",
       "\n",
       "    .dataframe thead th {\n",
       "        text-align: right;\n",
       "    }\n",
       "</style>\n",
       "<table border=\"1\" class=\"dataframe\">\n",
       "  <thead>\n",
       "    <tr style=\"text-align: right;\">\n",
       "      <th></th>\n",
       "      <th>Close</th>\n",
       "    </tr>\n",
       "  </thead>\n",
       "  <tbody>\n",
       "    <tr>\n",
       "      <th>2021-01-01</th>\n",
       "      <td>29374.152344</td>\n",
       "    </tr>\n",
       "    <tr>\n",
       "      <th>2021-01-02</th>\n",
       "      <td>32127.267578</td>\n",
       "    </tr>\n",
       "    <tr>\n",
       "      <th>2021-01-03</th>\n",
       "      <td>32782.023438</td>\n",
       "    </tr>\n",
       "    <tr>\n",
       "      <th>2021-01-04</th>\n",
       "      <td>31971.914062</td>\n",
       "    </tr>\n",
       "    <tr>\n",
       "      <th>2021-01-05</th>\n",
       "      <td>33992.429688</td>\n",
       "    </tr>\n",
       "  </tbody>\n",
       "</table>\n",
       "</div>"
      ],
      "text/plain": [
       "                   Close\n",
       "2021-01-01  29374.152344\n",
       "2021-01-02  32127.267578\n",
       "2021-01-03  32782.023438\n",
       "2021-01-04  31971.914062\n",
       "2021-01-05  33992.429688"
      ]
     },
     "execution_count": 259,
     "metadata": {},
     "output_type": "execute_result"
    }
   ],
   "source": [
    "btc.head()"
   ]
  },
  {
   "cell_type": "code",
   "execution_count": 260,
   "metadata": {},
   "outputs": [
    {
     "data": {
      "image/png": "[encoded data removed]",
      "text/plain": [
       "<Figure size 432x288 with 1 Axes>"
      ]
     },
     "metadata": {
      "needs_background": "light"
     },
     "output_type": "display_data"
    }
   ],
   "source": [
    "fig = plt.figure()\n",
    "ax = fig.add_subplot(111)\n",
    "sns.lineplot(x = btc.index, y='Close', data = btc, ax = ax)\n",
    "ax.set_title('BTC-USD')\n",
    "ax.set_ylabel('Closing price')\n",
    "plt.show()"
   ]
  },
  {
   "cell_type": "code",
   "execution_count": 261,
   "metadata": {},
   "outputs": [
    {
     "name": "stdout",
     "output_type": "stream",
     "text": [
      "ADF Test Statistic: -2.51\n",
      "5% Critical Value: -2.87\n",
      "p-value: 0.11\n"
     ]
    }
   ],
   "source": [
    "# CHECK STATIONARITY\n",
    "# From the graph above, we can definitely conclude that there is no stationarity.\n",
    "# Let's confirm this with ADFULLER and KPSS tests.\n",
    "\n",
    "# ADFULLER\n",
    "from statsmodels.tsa.stattools import adfuller\n",
    "\n",
    "result = adfuller(btc.Close)\n",
    "print('ADF Test Statistic: %.2f' % result[0])\n",
    "print('5%% Critical Value: %.2f' % result[4]['5%'])\n",
    "print('p-value: %.2f' % result[1])"
   ]
  },
  {
   "cell_type": "code",
   "execution_count": 262,
   "metadata": {},
   "outputs": [],
   "source": [
    "# p-value of 0.11: the time series is not stationary."
   ]
  },
  {
   "cell_type": "code",
   "execution_count": 263,
   "metadata": {},
   "outputs": [
    {
     "name": "stdout",
     "output_type": "stream",
     "text": [
      "(0.20386028378079604, 0.1, 12, {'10%': 0.347, '5%': 0.463, '2.5%': 0.574, '1%': 0.739})\n",
      "KPSS Test Statistic: 0.20\n",
      "5% Critical Value: 0.46\n",
      "p-value: 0.10\n"
     ]
    },
    {
     "name": "stderr",
     "output_type": "stream",
     "text": [
      "/Users/ericmartinet/opt/anaconda3/lib/python3.9/site-packages/statsmodels/tsa/stattools.py:2022: InterpolationWarning: The test statistic is outside of the range of p-values available in the\n",
      "look-up table. The actual p-value is greater than the p-value returned.\n",
      "\n",
      "  warnings.warn(\n"
     ]
    }
   ],
   "source": [
    "# KPSS\n",
    "from statsmodels.tsa.stattools import kpss\n",
    "\n",
    "result = kpss(btc.Close)\n",
    "print(result)\n",
    "print('KPSS Test Statistic: %.2f' % result[0])\n",
    "print('5%% Critical Value: %.2f' % result[3]['5%'])\n",
    "print('p-value: %.2f' % result[1])"
   ]
  },
  {
   "cell_type": "code",
   "execution_count": 264,
   "metadata": {},
   "outputs": [
    {
     "name": "stdout",
     "output_type": "stream",
     "text": [
      "Stationary time series found with differenciating depth of 1.\n"
     ]
    },
    {
     "name": "stderr",
     "output_type": "stream",
     "text": [
      "/Users/ericmartinet/opt/anaconda3/lib/python3.9/site-packages/statsmodels/tsa/stattools.py:2022: InterpolationWarning: The test statistic is outside of the range of p-values available in the\n",
      "look-up table. The actual p-value is greater than the p-value returned.\n",
      "\n",
      "  warnings.warn(\n",
      "/var/folders/lc/q1lfsr356d11n9j92x9l_x080000gn/T/ipykernel_80924/1061917828.py:15: SettingWithCopyWarning: \n",
      "A value is trying to be set on a copy of a slice from a DataFrame.\n",
      "Try using .loc[row_indexer,col_indexer] = value instead\n",
      "\n",
      "See the caveats in the documentation: https://pandas.pydata.org/pandas-docs/stable/user_guide/indexing.html#returning-a-view-versus-a-copy\n",
      "  btc['Close_stationary'] = make_stationary(btc.Close)\n"
     ]
    }
   ],
   "source": [
    "# p-value above 0.10: the time series is stationary.\n",
    "\n",
    "# KPSS indicates stationarity and ADF indicates non-stationarity - The series is trend stationary.\n",
    "# Trend needs to be removed to make series strict stationary. \n",
    "# Let's create a function to make the time series stationary.\n",
    "\n",
    "def make_stationary(time_series, diff_depth = 10):\n",
    "    for i in range(1, diff_depth+1):\n",
    "        time_series_stationary = time_series.diff(periods = i).dropna()\n",
    "        if (adfuller(time_series_stationary)[1] < 0.05) and (kpss(time_series_stationary)[1] > 0.05):\n",
    "            print(f'Stationary time series found with differenciating depth of {i}.')\n",
    "            return time_series_stationary\n",
    "    return None\n",
    "\n",
    "btc['Close_stationary'] = make_stationary(btc.Close)\n",
    "\n",
    "if not btc.Close_stationary.any():\n",
    "    print('Please increase depth of differenciation.')"
   ]
  },
  {
   "cell_type": "code",
   "execution_count": 265,
   "metadata": {},
   "outputs": [
    {
     "data": {
      "text/html": [
       "<div>\n",
       "<style scoped>\n",
       "    .dataframe tbody tr th:only-of-type {\n",
       "        vertical-align: middle;\n",
       "    }\n",
       "\n",
       "    .dataframe tbody tr th {\n",
       "        vertical-align: top;\n",
       "    }\n",
       "\n",
       "    .dataframe thead th {\n",
       "        text-align: right;\n",
       "    }\n",
       "</style>\n",
       "<table border=\"1\" class=\"dataframe\">\n",
       "  <thead>\n",
       "    <tr style=\"text-align: right;\">\n",
       "      <th></th>\n",
       "      <th>Close</th>\n",
       "      <th>Close_stationary</th>\n",
       "    </tr>\n",
       "  </thead>\n",
       "  <tbody>\n",
       "    <tr>\n",
       "      <th>2021-01-01</th>\n",
       "      <td>29374.152344</td>\n",
       "      <td>NaN</td>\n",
       "    </tr>\n",
       "    <tr>\n",
       "      <th>2021-01-02</th>\n",
       "      <td>32127.267578</td>\n",
       "      <td>2753.115234</td>\n",
       "    </tr>\n",
       "    <tr>\n",
       "      <th>2021-01-03</th>\n",
       "      <td>32782.023438</td>\n",
       "      <td>654.755859</td>\n",
       "    </tr>\n",
       "    <tr>\n",
       "      <th>2021-01-04</th>\n",
       "      <td>31971.914062</td>\n",
       "      <td>-810.109375</td>\n",
       "    </tr>\n",
       "    <tr>\n",
       "      <th>2021-01-05</th>\n",
       "      <td>33992.429688</td>\n",
       "      <td>2020.515625</td>\n",
       "    </tr>\n",
       "  </tbody>\n",
       "</table>\n",
       "</div>"
      ],
      "text/plain": [
       "                   Close  Close_stationary\n",
       "2021-01-01  29374.152344               NaN\n",
       "2021-01-02  32127.267578       2753.115234\n",
       "2021-01-03  32782.023438        654.755859\n",
       "2021-01-04  31971.914062       -810.109375\n",
       "2021-01-05  33992.429688       2020.515625"
      ]
     },
     "execution_count": 265,
     "metadata": {},
     "output_type": "execute_result"
    }
   ],
   "source": [
    "btc.head()"
   ]
  },
  {
   "cell_type": "code",
   "execution_count": 266,
   "metadata": {},
   "outputs": [
    {
     "data": {
      "image/png": "[encoded data removed]",
      "text/plain": [
       "<Figure size 432x288 with 1 Axes>"
      ]
     },
     "metadata": {
      "needs_background": "light"
     },
     "output_type": "display_data"
    }
   ],
   "source": [
    "# PLOT DATA\n",
    "\n",
    "fig = plt.figure()\n",
    "ax = fig.add_subplot(111)\n",
    "sns.lineplot(x = btc.index, y='Close_stationary', data = btc, ax = ax)\n",
    "ax.set_title('BTC-USD')\n",
    "ax.set_ylabel('Daily variation of Closing price')\n",
    "plt.show()"
   ]
  },
  {
   "cell_type": "code",
   "execution_count": 267,
   "metadata": {},
   "outputs": [
    {
     "data": {
      "image/png": "[encoded data removed]",
      "text/plain": [
       "<Figure size 432x288 with 1 Axes>"
      ]
     },
     "metadata": {
      "needs_background": "light"
     },
     "output_type": "display_data"
    }
   ],
   "source": [
    "# CHECK AUTO-CORRELATION\n",
    "from statsmodels.graphics.tsaplots import plot_acf\n",
    "# Calculate the ACF (via statsmodel)\n",
    "plot_acf(btc.Close_stationary.dropna(), alpha =0.05, lags=30)\n",
    "# Show the data as a plot (via matplotlib)\n",
    "plt.show()"
   ]
  },
  {
   "cell_type": "code",
   "execution_count": 268,
   "metadata": {},
   "outputs": [],
   "source": [
    "# No auto-correlation of the stationary time series"
   ]
  },
  {
   "cell_type": "code",
   "execution_count": 269,
   "metadata": {},
   "outputs": [
    {
     "name": "stderr",
     "output_type": "stream",
     "text": [
      "/Users/ericmartinet/opt/anaconda3/lib/python3.9/site-packages/statsmodels/graphics/tsaplots.py:348: FutureWarning: The default method 'yw' can produce PACF values outside of the [-1,1] interval. After 0.13, the default will change tounadjusted Yule-Walker ('ywm'). You can use this method now by setting method='ywm'.\n",
      "  warnings.warn(\n"
     ]
    },
    {
     "data": {
      "image/png": "[encoded data removed]",
      "text/plain": [
       "<Figure size 432x288 with 1 Axes>"
      ]
     },
     "metadata": {
      "needs_background": "light"
     },
     "output_type": "display_data"
    }
   ],
   "source": [
    "# PARTIAL AUTO-CORRELATION\n",
    "from statsmodels.graphics.tsaplots import plot_pacf\n",
    "plot_pacf(btc.Close_stationary.dropna(), alpha =0.05, lags= 30)\n",
    "plt.show()"
   ]
  },
  {
   "cell_type": "code",
   "execution_count": 270,
   "metadata": {},
   "outputs": [],
   "source": [
    "# No partial auto-correlation of the stationary time series"
   ]
  },
  {
   "cell_type": "code",
   "execution_count": null,
   "metadata": {},
   "outputs": [],
   "source": []
  },
  {
   "cell_type": "code",
   "execution_count": 279,
   "metadata": {},
   "outputs": [
    {
     "name": "stderr",
     "output_type": "stream",
     "text": [
      "/Users/ericmartinet/opt/anaconda3/lib/python3.9/site-packages/statsmodels/tsa/statespace/sarimax.py:966: UserWarning: Non-stationary starting autoregressive parameters found. Using zeros as starting parameters.\n",
      "  warn('Non-stationary starting autoregressive parameters'\n",
      "/Users/ericmartinet/opt/anaconda3/lib/python3.9/site-packages/statsmodels/tsa/statespace/sarimax.py:978: UserWarning: Non-invertible starting MA parameters found. Using zeros as starting parameters.\n",
      "  warn('Non-invertible starting MA parameters found.'\n",
      "/Users/ericmartinet/opt/anaconda3/lib/python3.9/site-packages/statsmodels/base/model.py:604: ConvergenceWarning: Maximum Likelihood optimization failed to converge. Check mle_retvals\n",
      "  warnings.warn(\"Maximum Likelihood optimization failed to \"\n",
      "/Users/ericmartinet/opt/anaconda3/lib/python3.9/site-packages/statsmodels/base/model.py:604: ConvergenceWarning: Maximum Likelihood optimization failed to converge. Check mle_retvals\n",
      "  warnings.warn(\"Maximum Likelihood optimization failed to \"\n"
     ]
    },
    {
     "data": {
      "text/html": [
       "<div>\n",
       "<style scoped>\n",
       "    .dataframe tbody tr th:only-of-type {\n",
       "        vertical-align: middle;\n",
       "    }\n",
       "\n",
       "    .dataframe tbody tr th {\n",
       "        vertical-align: top;\n",
       "    }\n",
       "\n",
       "    .dataframe thead th {\n",
       "        text-align: right;\n",
       "    }\n",
       "</style>\n",
       "<table border=\"1\" class=\"dataframe\">\n",
       "  <thead>\n",
       "    <tr style=\"text-align: right;\">\n",
       "      <th></th>\n",
       "      <th>MAE</th>\n",
       "      <th>MAPE</th>\n",
       "      <th>MSE</th>\n",
       "      <th>RMSE</th>\n",
       "      <th>NRMSE</th>\n",
       "      <th>AIC</th>\n",
       "      <th>BIC</th>\n",
       "    </tr>\n",
       "  </thead>\n",
       "  <tbody>\n",
       "    <tr>\n",
       "      <th>AR(1)</th>\n",
       "      <td>1338.799359</td>\n",
       "      <td>1.023424</td>\n",
       "      <td>3321449.970573</td>\n",
       "      <td>1822.48456</td>\n",
       "      <td>0.122751</td>\n",
       "      <td>8075.913049</td>\n",
       "      <td>8088.254095</td>\n",
       "    </tr>\n",
       "    <tr>\n",
       "      <th>AR(2)</th>\n",
       "      <td>1338.077003</td>\n",
       "      <td>1.02415</td>\n",
       "      <td>3321323.303011</td>\n",
       "      <td>1822.449808</td>\n",
       "      <td>0.122748</td>\n",
       "      <td>8077.894301</td>\n",
       "      <td>8094.34903</td>\n",
       "    </tr>\n",
       "    <tr>\n",
       "      <th>AR(3)</th>\n",
       "      <td>1337.849065</td>\n",
       "      <td>1.025662</td>\n",
       "      <td>3321149.348339</td>\n",
       "      <td>1822.402082</td>\n",
       "      <td>0.122745</td>\n",
       "      <td>8079.870717</td>\n",
       "      <td>8100.439128</td>\n",
       "    </tr>\n",
       "    <tr>\n",
       "      <th>MA(1)</th>\n",
       "      <td>1338.649513</td>\n",
       "      <td>1.017471</td>\n",
       "      <td>3321413.166547</td>\n",
       "      <td>1822.474463</td>\n",
       "      <td>0.12275</td>\n",
       "      <td>8075.906464</td>\n",
       "      <td>8088.24751</td>\n",
       "    </tr>\n",
       "    <tr>\n",
       "      <th>MA(2)</th>\n",
       "      <td>1338.197344</td>\n",
       "      <td>1.021676</td>\n",
       "      <td>3321350.079529</td>\n",
       "      <td>1822.457154</td>\n",
       "      <td>0.122749</td>\n",
       "      <td>8077.898987</td>\n",
       "      <td>8094.353716</td>\n",
       "    </tr>\n",
       "    <tr>\n",
       "      <th>MA(3)</th>\n",
       "      <td>1337.732598</td>\n",
       "      <td>1.026462</td>\n",
       "      <td>3321006.574487</td>\n",
       "      <td>1822.36291</td>\n",
       "      <td>0.122742</td>\n",
       "      <td>8079.879387</td>\n",
       "      <td>8100.447798</td>\n",
       "    </tr>\n",
       "    <tr>\n",
       "      <th>ARMA(1,1)</th>\n",
       "      <td>1338.420658</td>\n",
       "      <td>1.017954</td>\n",
       "      <td>3321377.722604</td>\n",
       "      <td>1822.464738</td>\n",
       "      <td>0.122749</td>\n",
       "      <td>8077.901646</td>\n",
       "      <td>8094.356375</td>\n",
       "    </tr>\n",
       "    <tr>\n",
       "      <th>ARMA(1,2)</th>\n",
       "      <td>1338.132701</td>\n",
       "      <td>1.022738</td>\n",
       "      <td>3321333.213463</td>\n",
       "      <td>1822.452527</td>\n",
       "      <td>0.122748</td>\n",
       "      <td>8079.896679</td>\n",
       "      <td>8100.46509</td>\n",
       "    </tr>\n",
       "    <tr>\n",
       "      <th>ARMA(1,3)</th>\n",
       "      <td>1338.191682</td>\n",
       "      <td>1.037865</td>\n",
       "      <td>3320328.21262</td>\n",
       "      <td>1822.176779</td>\n",
       "      <td>0.12273</td>\n",
       "      <td>8081.790683</td>\n",
       "      <td>8106.472777</td>\n",
       "    </tr>\n",
       "    <tr>\n",
       "      <th>ARMA(2,1)</th>\n",
       "      <td>1338.094856</td>\n",
       "      <td>1.023765</td>\n",
       "      <td>3321328.339667</td>\n",
       "      <td>1822.45119</td>\n",
       "      <td>0.122748</td>\n",
       "      <td>8079.894938</td>\n",
       "      <td>8100.463349</td>\n",
       "    </tr>\n",
       "    <tr>\n",
       "      <th>ARMA(2,2)</th>\n",
       "      <td>1338.92121</td>\n",
       "      <td>1.02697</td>\n",
       "      <td>3321021.252528</td>\n",
       "      <td>1822.366937</td>\n",
       "      <td>0.122743</td>\n",
       "      <td>8081.854207</td>\n",
       "      <td>8106.5363</td>\n",
       "    </tr>\n",
       "    <tr>\n",
       "      <th>ARMA(2,3)</th>\n",
       "      <td>1340.202176</td>\n",
       "      <td>1.362891</td>\n",
       "      <td>3278529.401549</td>\n",
       "      <td>1810.670981</td>\n",
       "      <td>0.121955</td>\n",
       "      <td>8077.680372</td>\n",
       "      <td>8106.476147</td>\n",
       "    </tr>\n",
       "    <tr>\n",
       "      <th>ARMA(3,1)</th>\n",
       "      <td>1337.188762</td>\n",
       "      <td>1.060524</td>\n",
       "      <td>3319182.855778</td>\n",
       "      <td>1821.862469</td>\n",
       "      <td>0.122709</td>\n",
       "      <td>8081.603281</td>\n",
       "      <td>8106.285375</td>\n",
       "    </tr>\n",
       "    <tr>\n",
       "      <th>ARMA(3,2)</th>\n",
       "      <td>1339.826937</td>\n",
       "      <td>1.090687</td>\n",
       "      <td>3320841.507489</td>\n",
       "      <td>1822.31762</td>\n",
       "      <td>0.122739</td>\n",
       "      <td>8083.829891</td>\n",
       "      <td>8112.625666</td>\n",
       "    </tr>\n",
       "    <tr>\n",
       "      <th>ARMA(3,3)</th>\n",
       "      <td>1342.231254</td>\n",
       "      <td>1.266684</td>\n",
       "      <td>3273785.429679</td>\n",
       "      <td>1809.360503</td>\n",
       "      <td>0.121867</td>\n",
       "      <td>8079.184459</td>\n",
       "      <td>8112.093916</td>\n",
       "    </tr>\n",
       "  </tbody>\n",
       "</table>\n",
       "</div>"
      ],
      "text/plain": [
       "                   MAE      MAPE             MSE         RMSE     NRMSE  \\\n",
       "AR(1)      1338.799359  1.023424  3321449.970573   1822.48456  0.122751   \n",
       "AR(2)      1338.077003   1.02415  3321323.303011  1822.449808  0.122748   \n",
       "AR(3)      1337.849065  1.025662  3321149.348339  1822.402082  0.122745   \n",
       "MA(1)      1338.649513  1.017471  3321413.166547  1822.474463   0.12275   \n",
       "MA(2)      1338.197344  1.021676  3321350.079529  1822.457154  0.122749   \n",
       "MA(3)      1337.732598  1.026462  3321006.574487   1822.36291  0.122742   \n",
       "ARMA(1,1)  1338.420658  1.017954  3321377.722604  1822.464738  0.122749   \n",
       "ARMA(1,2)  1338.132701  1.022738  3321333.213463  1822.452527  0.122748   \n",
       "ARMA(1,3)  1338.191682  1.037865   3320328.21262  1822.176779   0.12273   \n",
       "ARMA(2,1)  1338.094856  1.023765  3321328.339667   1822.45119  0.122748   \n",
       "ARMA(2,2)   1338.92121   1.02697  3321021.252528  1822.366937  0.122743   \n",
       "ARMA(2,3)  1340.202176  1.362891  3278529.401549  1810.670981  0.121955   \n",
       "ARMA(3,1)  1337.188762  1.060524  3319182.855778  1821.862469  0.122709   \n",
       "ARMA(3,2)  1339.826937  1.090687  3320841.507489   1822.31762  0.122739   \n",
       "ARMA(3,3)  1342.231254  1.266684  3273785.429679  1809.360503  0.121867   \n",
       "\n",
       "                   AIC          BIC  \n",
       "AR(1)      8075.913049  8088.254095  \n",
       "AR(2)      8077.894301   8094.34903  \n",
       "AR(3)      8079.870717  8100.439128  \n",
       "MA(1)      8075.906464   8088.24751  \n",
       "MA(2)      8077.898987  8094.353716  \n",
       "MA(3)      8079.879387  8100.447798  \n",
       "ARMA(1,1)  8077.901646  8094.356375  \n",
       "ARMA(1,2)  8079.896679   8100.46509  \n",
       "ARMA(1,3)  8081.790683  8106.472777  \n",
       "ARMA(2,1)  8079.894938  8100.463349  \n",
       "ARMA(2,2)  8081.854207    8106.5363  \n",
       "ARMA(2,3)  8077.680372  8106.476147  \n",
       "ARMA(3,1)  8081.603281  8106.285375  \n",
       "ARMA(3,2)  8083.829891  8112.625666  \n",
       "ARMA(3,3)  8079.184459  8112.093916  "
      ]
     },
     "execution_count": 279,
     "metadata": {},
     "output_type": "execute_result"
    }
   ],
   "source": [
    "# The time series is now stationary and not auto-correlated, we can implement AR and MA models\n",
    "\n",
    "from statsmodels.tsa.arima.model import ARIMA\n",
    "from sklearn import metrics\n",
    "\n",
    "\n",
    "def implement_arima_model(data, order):\n",
    "    model = ARIMA(data, order = order, freq = 'D')\n",
    "    results = model.fit()\n",
    "    p = order[0]\n",
    "    d = order[1]\n",
    "    q = order[2]\n",
    "    y_true = data.values\n",
    "    y_pred = results.predict(n_periods = len(data))\n",
    "    if p>0:\n",
    "        if q>0:\n",
    "            if d>0:\n",
    "                model_name = f'ARIMA({p},{d},{q})'\n",
    "            else:\n",
    "                model_name = f'ARMA({p},{q})'\n",
    "        else:\n",
    "            model_name = f'AR({p})'\n",
    "    else:\n",
    "        model_name = f'MA({q})'\n",
    "    MAE = metrics.mean_absolute_error(y_true=y_true, y_pred = y_pred)\n",
    "    MAPE = metrics.mean_absolute_percentage_error(y_true=y_true, y_pred = y_pred)\n",
    "    MSE = metrics.mean_squared_error(y_true=y_true, y_pred = y_pred)\n",
    "    RMSE = np.sqrt(metrics.mean_squared_error(y_true=y_true, y_pred = y_pred))\n",
    "    NRMSE = np.sqrt(metrics.mean_squared_error(y_true=y_true, y_pred = y_pred)) / (np.max(y_true) - np.min(y_true))\n",
    "    AIC = results.aic\n",
    "    BIC = results.bic\n",
    "    return [model_name, MAE, MAPE, MSE, RMSE, NRMSE, AIC, BIC]\n",
    "    \n",
    "cols = ['MAE', 'MAPE', 'MSE', 'RMSE', 'NRMSE', 'AIC', 'BIC']\n",
    "\n",
    "df_model_comparison = pd.DataFrame(columns = cols)\n",
    "\n",
    "# AR(1) to AR(3)\n",
    "for p in range(1,3+1):\n",
    "    model_results = implement_arima_model(btc.Close_stationary.dropna(), order = (p,0,0))\n",
    "    df_results = pd.DataFrame([model_results[1:]], index = [model_results[0]], columns = cols)\n",
    "    df_model_comparison = pd.concat([df_model_comparison, df_results])\n",
    "\n",
    "# MA(1) to MA(3)\n",
    "for q in range(1,3+1):\n",
    "    model_results = implement_arima_model(btc.Close_stationary.dropna(), order = (0,0,q))\n",
    "    df_results = pd.DataFrame([model_results[1:]], index = [model_results[0]], columns = cols)\n",
    "    df_model_comparison = pd.concat([df_model_comparison, df_results])\n",
    "\n",
    "# ARMA(1,1) to ARMA(3,3)\n",
    "for p in range(1, 3+1):\n",
    "    for q in range(1,3+1):\n",
    "        model_results = implement_arima_model(btc.Close_stationary.dropna(), order = (p,0,q))\n",
    "        df_results = pd.DataFrame([model_results[1:]], index = [model_results[0]], columns = cols)\n",
    "        df_model_comparison = pd.concat([df_model_comparison, df_results])\n",
    "\n",
    "df_model_comparison\n"
   ]
  },
  {
   "cell_type": "code",
   "execution_count": 282,
   "metadata": {},
   "outputs": [
    {
     "data": {
      "text/html": [
       "<table class=\"simpletable\">\n",
       "<caption>SARIMAX Results</caption>\n",
       "<tr>\n",
       "  <th>Dep. Variable:</th>         <td>Close</td>      <th>  No. Observations:  </th>    <td>453</td>   \n",
       "</tr>\n",
       "<tr>\n",
       "  <th>Model:</th>            <td>ARIMA(1, 1, 1)</td>  <th>  Log Likelihood     </th> <td>-4035.279</td>\n",
       "</tr>\n",
       "<tr>\n",
       "  <th>Date:</th>            <td>Tue, 29 Mar 2022</td> <th>  AIC                </th> <td>8076.558</td> \n",
       "</tr>\n",
       "<tr>\n",
       "  <th>Time:</th>                <td>13:04:10</td>     <th>  BIC                </th> <td>8088.899</td> \n",
       "</tr>\n",
       "<tr>\n",
       "  <th>Sample:</th>             <td>01-01-2021</td>    <th>  HQIC               </th> <td>8081.421</td> \n",
       "</tr>\n",
       "<tr>\n",
       "  <th></th>                   <td>- 03-29-2022</td>   <th>                     </th>     <td> </td>    \n",
       "</tr>\n",
       "<tr>\n",
       "  <th>Covariance Type:</th>        <td>opg</td>       <th>                     </th>     <td> </td>    \n",
       "</tr>\n",
       "</table>\n",
       "<table class=\"simpletable\">\n",
       "<tr>\n",
       "     <td></td>       <th>coef</th>     <th>std err</th>      <th>z</th>      <th>P>|z|</th>  <th>[0.025</th>    <th>0.975]</th>  \n",
       "</tr>\n",
       "<tr>\n",
       "  <th>ar.L1</th>  <td>    0.0763</td> <td>    6.118</td> <td>    0.012</td> <td> 0.990</td> <td>  -11.916</td> <td>   12.068</td>\n",
       "</tr>\n",
       "<tr>\n",
       "  <th>ma.L1</th>  <td>   -0.0687</td> <td>    6.119</td> <td>   -0.011</td> <td> 0.991</td> <td>  -12.062</td> <td>   11.925</td>\n",
       "</tr>\n",
       "<tr>\n",
       "  <th>sigma2</th> <td> 3.324e+06</td> <td>  1.7e+05</td> <td>   19.593</td> <td> 0.000</td> <td> 2.99e+06</td> <td> 3.66e+06</td>\n",
       "</tr>\n",
       "</table>\n",
       "<table class=\"simpletable\">\n",
       "<tr>\n",
       "  <th>Ljung-Box (L1) (Q):</th>     <td>0.71</td> <th>  Jarque-Bera (JB):  </th> <td>44.14</td>\n",
       "</tr>\n",
       "<tr>\n",
       "  <th>Prob(Q):</th>                <td>0.40</td> <th>  Prob(JB):          </th> <td>0.00</td> \n",
       "</tr>\n",
       "<tr>\n",
       "  <th>Heteroskedasticity (H):</th> <td>0.50</td> <th>  Skew:              </th> <td>-0.10</td>\n",
       "</tr>\n",
       "<tr>\n",
       "  <th>Prob(H) (two-sided):</th>    <td>0.00</td> <th>  Kurtosis:          </th> <td>4.52</td> \n",
       "</tr>\n",
       "</table><br/><br/>Warnings:<br/>[1] Covariance matrix calculated using the outer product of gradients (complex-step)."
      ],
      "text/plain": [
       "<class 'statsmodels.iolib.summary.Summary'>\n",
       "\"\"\"\n",
       "                               SARIMAX Results                                \n",
       "==============================================================================\n",
       "Dep. Variable:                  Close   No. Observations:                  453\n",
       "Model:                 ARIMA(1, 1, 1)   Log Likelihood               -4035.279\n",
       "Date:                Tue, 29 Mar 2022   AIC                           8076.558\n",
       "Time:                        13:04:10   BIC                           8088.899\n",
       "Sample:                    01-01-2021   HQIC                          8081.421\n",
       "                         - 03-29-2022                                         \n",
       "Covariance Type:                  opg                                         \n",
       "==============================================================================\n",
       "                 coef    std err          z      P>|z|      [0.025      0.975]\n",
       "------------------------------------------------------------------------------\n",
       "ar.L1          0.0763      6.118      0.012      0.990     -11.916      12.068\n",
       "ma.L1         -0.0687      6.119     -0.011      0.991     -12.062      11.925\n",
       "sigma2      3.324e+06    1.7e+05     19.593      0.000    2.99e+06    3.66e+06\n",
       "===================================================================================\n",
       "Ljung-Box (L1) (Q):                   0.71   Jarque-Bera (JB):                44.14\n",
       "Prob(Q):                              0.40   Prob(JB):                         0.00\n",
       "Heteroskedasticity (H):               0.50   Skew:                            -0.10\n",
       "Prob(H) (two-sided):                  0.00   Kurtosis:                         4.52\n",
       "===================================================================================\n",
       "\n",
       "Warnings:\n",
       "[1] Covariance matrix calculated using the outer product of gradients (complex-step).\n",
       "\"\"\""
      ]
     },
     "execution_count": 282,
     "metadata": {},
     "output_type": "execute_result"
    }
   ],
   "source": []
  },
  {
   "cell_type": "code",
   "execution_count": null,
   "metadata": {},
   "outputs": [],
   "source": [
    "# All very similar models..."
   ]
  },
  {
   "cell_type": "code",
   "execution_count": null,
   "metadata": {},
   "outputs": [],
   "source": []
  },
  {
   "cell_type": "code",
   "execution_count": 283,
   "metadata": {},
   "outputs": [
    {
     "name": "stdout",
     "output_type": "stream",
     "text": [
      "Performing stepwise search to minimize aic\n",
      " ARIMA(2,0,2)(0,0,0)[0]             : AIC=8103.802, Time=0.32 sec\n",
      " ARIMA(0,0,0)(0,0,0)[0]             : AIC=11036.738, Time=0.01 sec\n",
      " ARIMA(1,0,0)(0,0,0)[0]             : AIC=inf, Time=0.05 sec\n",
      " ARIMA(0,0,1)(0,0,0)[0]             : AIC=inf, Time=0.06 sec\n",
      " ARIMA(1,0,2)(0,0,0)[0]             : AIC=8102.722, Time=0.04 sec\n",
      " ARIMA(0,0,2)(0,0,0)[0]             : AIC=9938.293, Time=0.28 sec\n",
      " ARIMA(1,0,1)(0,0,0)[0]             : AIC=8101.454, Time=0.03 sec\n",
      " ARIMA(2,0,1)(0,0,0)[0]             : AIC=8102.435, Time=0.07 sec\n",
      " ARIMA(2,0,0)(0,0,0)[0]             : AIC=inf, Time=0.02 sec\n",
      " ARIMA(1,0,1)(0,0,0)[0] intercept   : AIC=8095.918, Time=0.04 sec\n",
      " ARIMA(0,0,1)(0,0,0)[0] intercept   : AIC=9060.816, Time=0.11 sec\n",
      " ARIMA(1,0,0)(0,0,0)[0] intercept   : AIC=8094.275, Time=0.03 sec\n",
      " ARIMA(0,0,0)(0,0,0)[0] intercept   : AIC=9559.388, Time=0.02 sec\n",
      " ARIMA(2,0,0)(0,0,0)[0] intercept   : AIC=8095.895, Time=0.07 sec\n",
      " ARIMA(2,0,1)(0,0,0)[0] intercept   : AIC=8097.538, Time=0.13 sec\n",
      "\n",
      "Best model:  ARIMA(1,0,0)(0,0,0)[0] intercept\n",
      "Total fit time: 1.369 seconds\n"
     ]
    }
   ],
   "source": [
    "# ARIMA: using auto_arima\n",
    "import pmdarima as pm\n",
    "model = pm.arima.auto_arima(btc.Close, trace = True, error_action='ignore', suppress_warnings=True, seasonal = False)"
   ]
  },
  {
   "cell_type": "code",
   "execution_count": 275,
   "metadata": {},
   "outputs": [
    {
     "data": {
      "text/plain": [
       "ARIMA(order=(1, 0, 0), scoring_args={}, suppress_warnings=True)"
      ]
     },
     "execution_count": 275,
     "metadata": {},
     "output_type": "execute_result"
    }
   ],
   "source": [
    "model.fit(btc.Close)"
   ]
  },
  {
   "cell_type": "code",
   "execution_count": 284,
   "metadata": {},
   "outputs": [
    {
     "data": {
      "text/html": [
       "<table class=\"simpletable\">\n",
       "<caption>SARIMAX Results</caption>\n",
       "<tr>\n",
       "  <th>Dep. Variable:</th>           <td>y</td>        <th>  No. Observations:  </th>    <td>453</td>   \n",
       "</tr>\n",
       "<tr>\n",
       "  <th>Model:</th>           <td>SARIMAX(1, 0, 0)</td> <th>  Log Likelihood     </th> <td>-4044.138</td>\n",
       "</tr>\n",
       "<tr>\n",
       "  <th>Date:</th>            <td>Tue, 29 Mar 2022</td> <th>  AIC                </th> <td>8094.275</td> \n",
       "</tr>\n",
       "<tr>\n",
       "  <th>Time:</th>                <td>13:06:08</td>     <th>  BIC                </th> <td>8106.623</td> \n",
       "</tr>\n",
       "<tr>\n",
       "  <th>Sample:</th>                  <td>0</td>        <th>  HQIC               </th> <td>8099.141</td> \n",
       "</tr>\n",
       "<tr>\n",
       "  <th></th>                      <td> - 453</td>      <th>                     </th>     <td> </td>    \n",
       "</tr>\n",
       "<tr>\n",
       "  <th>Covariance Type:</th>        <td>opg</td>       <th>                     </th>     <td> </td>    \n",
       "</tr>\n",
       "</table>\n",
       "<table class=\"simpletable\">\n",
       "<tr>\n",
       "      <td></td>         <th>coef</th>     <th>std err</th>      <th>z</th>      <th>P>|z|</th>  <th>[0.025</th>    <th>0.975]</th>  \n",
       "</tr>\n",
       "<tr>\n",
       "  <th>intercept</th> <td> 1114.5679</td> <td>  369.453</td> <td>    3.017</td> <td> 0.003</td> <td>  390.453</td> <td> 1838.683</td>\n",
       "</tr>\n",
       "<tr>\n",
       "  <th>ar.L1</th>     <td>    0.9755</td> <td>    0.008</td> <td>  118.666</td> <td> 0.000</td> <td>    0.959</td> <td>    0.992</td>\n",
       "</tr>\n",
       "<tr>\n",
       "  <th>sigma2</th>    <td> 3.279e+06</td> <td>    0.064</td> <td> 5.15e+07</td> <td> 0.000</td> <td> 3.28e+06</td> <td> 3.28e+06</td>\n",
       "</tr>\n",
       "</table>\n",
       "<table class=\"simpletable\">\n",
       "<tr>\n",
       "  <th>Ljung-Box (L1) (Q):</th>     <td>0.30</td> <th>  Jarque-Bera (JB):  </th> <td>36.98</td>\n",
       "</tr>\n",
       "<tr>\n",
       "  <th>Prob(Q):</th>                <td>0.58</td> <th>  Prob(JB):          </th> <td>0.00</td> \n",
       "</tr>\n",
       "<tr>\n",
       "  <th>Heteroskedasticity (H):</th> <td>0.49</td> <th>  Skew:              </th> <td>-0.06</td>\n",
       "</tr>\n",
       "<tr>\n",
       "  <th>Prob(H) (two-sided):</th>    <td>0.00</td> <th>  Kurtosis:          </th> <td>4.39</td> \n",
       "</tr>\n",
       "</table><br/><br/>Warnings:<br/>[1] Covariance matrix calculated using the outer product of gradients (complex-step).<br/>[2] Covariance matrix is singular or near-singular, with condition number 1.57e+23. Standard errors may be unstable."
      ],
      "text/plain": [
       "<class 'statsmodels.iolib.summary.Summary'>\n",
       "\"\"\"\n",
       "                               SARIMAX Results                                \n",
       "==============================================================================\n",
       "Dep. Variable:                      y   No. Observations:                  453\n",
       "Model:               SARIMAX(1, 0, 0)   Log Likelihood               -4044.138\n",
       "Date:                Tue, 29 Mar 2022   AIC                           8094.275\n",
       "Time:                        13:06:08   BIC                           8106.623\n",
       "Sample:                             0   HQIC                          8099.141\n",
       "                                - 453                                         \n",
       "Covariance Type:                  opg                                         \n",
       "==============================================================================\n",
       "                 coef    std err          z      P>|z|      [0.025      0.975]\n",
       "------------------------------------------------------------------------------\n",
       "intercept   1114.5679    369.453      3.017      0.003     390.453    1838.683\n",
       "ar.L1          0.9755      0.008    118.666      0.000       0.959       0.992\n",
       "sigma2      3.279e+06      0.064   5.15e+07      0.000    3.28e+06    3.28e+06\n",
       "===================================================================================\n",
       "Ljung-Box (L1) (Q):                   0.30   Jarque-Bera (JB):                36.98\n",
       "Prob(Q):                              0.58   Prob(JB):                         0.00\n",
       "Heteroskedasticity (H):               0.49   Skew:                            -0.06\n",
       "Prob(H) (two-sided):                  0.00   Kurtosis:                         4.39\n",
       "===================================================================================\n",
       "\n",
       "Warnings:\n",
       "[1] Covariance matrix calculated using the outer product of gradients (complex-step).\n",
       "[2] Covariance matrix is singular or near-singular, with condition number 1.57e+23. Standard errors may be unstable.\n",
       "\"\"\""
      ]
     },
     "execution_count": 284,
     "metadata": {},
     "output_type": "execute_result"
    }
   ],
   "source": [
    "model.summary()"
   ]
  },
  {
   "cell_type": "code",
   "execution_count": 276,
   "metadata": {},
   "outputs": [
    {
     "data": {
      "text/html": [
       "<div>\n",
       "<style scoped>\n",
       "    .dataframe tbody tr th:only-of-type {\n",
       "        vertical-align: middle;\n",
       "    }\n",
       "\n",
       "    .dataframe tbody tr th {\n",
       "        vertical-align: top;\n",
       "    }\n",
       "\n",
       "    .dataframe thead th {\n",
       "        text-align: right;\n",
       "    }\n",
       "</style>\n",
       "<table border=\"1\" class=\"dataframe\">\n",
       "  <thead>\n",
       "    <tr style=\"text-align: right;\">\n",
       "      <th></th>\n",
       "      <th>Prediction</th>\n",
       "    </tr>\n",
       "  </thead>\n",
       "  <tbody>\n",
       "    <tr>\n",
       "      <th>2022-03-30</th>\n",
       "      <td>47509.217083</td>\n",
       "    </tr>\n",
       "    <tr>\n",
       "      <th>2022-03-31</th>\n",
       "      <td>47459.800294</td>\n",
       "    </tr>\n",
       "    <tr>\n",
       "      <th>2022-04-01</th>\n",
       "      <td>47411.594226</td>\n",
       "    </tr>\n",
       "    <tr>\n",
       "      <th>2022-04-02</th>\n",
       "      <td>47364.569216</td>\n",
       "    </tr>\n",
       "    <tr>\n",
       "      <th>2022-04-03</th>\n",
       "      <td>47318.696327</td>\n",
       "    </tr>\n",
       "  </tbody>\n",
       "</table>\n",
       "</div>"
      ],
      "text/plain": [
       "              Prediction\n",
       "2022-03-30  47509.217083\n",
       "2022-03-31  47459.800294\n",
       "2022-04-01  47411.594226\n",
       "2022-04-02  47364.569216\n",
       "2022-04-03  47318.696327"
      ]
     },
     "execution_count": 276,
     "metadata": {},
     "output_type": "execute_result"
    }
   ],
   "source": [
    "forecast = model.predict(n_periods = 5)\n",
    "forecast = pd.DataFrame(forecast, columns = ['Prediction'])\n",
    "forecast.set_index(pd.date_range(start = btc.iloc[-1].name.date() + pd.DateOffset(1), end = btc.iloc[-1].name.date() + pd.DateOffset(5)), inplace = True)\n",
    "forecast"
   ]
  },
  {
   "cell_type": "code",
   "execution_count": 281,
   "metadata": {},
   "outputs": [
    {
     "data": {
      "image/png": "[encoded data removed]",
      "text/plain": [
       "<Figure size 432x288 with 1 Axes>"
      ]
     },
     "metadata": {
      "needs_background": "light"
     },
     "output_type": "display_data"
    }
   ],
   "source": [
    "fig = plt.figure()\n",
    "ax = fig.add_subplot(111)\n",
    "btc_zoom = btc.tail(10)\n",
    "sns.lineplot(x = btc_zoom.index, y='Close', data = btc_zoom, ax = ax, color = \"blue\")\n",
    "sns.lineplot(x = forecast.index , y = 'Prediction', data = forecast, ax = ax, color = \"red\")\n",
    "ax.set_title('BTC-USD')\n",
    "ax.set_xlabel('Date')\n",
    "ax.set_ylabel('Closing price')\n",
    "plt.show()"
   ]
  },
  {
   "cell_type": "code",
   "execution_count": 278,
   "metadata": {},
   "outputs": [],
   "source": [
    "# According to the (not great) model, BTC price is likely to decrease, so I should not buy BTC now."
   ]
  }
 ],
 "metadata": {
  "interpreter": {
   "hash": "678a688bdded96e8eb7e1052de280531e04e436468b7fdb8e1dfed1d052c6017"
  },
  "kernelspec": {
   "display_name": "Python 3.9.7 ('base')",
   "language": "python",
   "name": "python3"
  },
  "language_info": {
   "codemirror_mode": {
    "name": "ipython",
    "version": 3
   },
   "file_extension": ".py",
   "mimetype": "text/x-python",
   "name": "python",
   "nbconvert_exporter": "python",
   "pygments_lexer": "ipython3",
   "version": "3.9.7"
  },
  "orig_nbformat": 4
 },
 "nbformat": 4,
 "nbformat_minor": 2
}

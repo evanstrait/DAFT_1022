{
  "cells": [
    {
      "cell_type": "markdown",
      "metadata": {
        "id": "view-in-github",
        "colab_type": "text"
      },
      "source": [
        "<a href=\"https://colab.research.google.com/github/evanstrait/DAFT_1022/blob/main/Module_1/Lab_24_Numpy/Lab_24_Numpy.ipynb\" target=\"_parent\"><img src=\"https://colab.research.google.com/assets/colab-badge.svg\" alt=\"Open In Colab\"/></a>"
      ]
    },
    {
      "cell_type": "markdown",
      "metadata": {
        "id": "2TaWc0tq1-Uw"
      },
      "source": [
        "# Intrduction to NumPy\n",
        "\n",
        "\n",
        "#### 1. Import NumPy under the name np."
      ]
    },
    {
      "cell_type": "code",
      "execution_count": null,
      "metadata": {
        "id": "RirNIbcj1-U8"
      },
      "outputs": [],
      "source": [
        "import numpy as np"
      ]
    },
    {
      "cell_type": "markdown",
      "metadata": {
        "id": "mv6zU5Qh1-U-"
      },
      "source": [
        "#### 2. Print your NumPy version."
      ]
    },
    {
      "cell_type": "code",
      "execution_count": null,
      "metadata": {
        "colab": {
          "base_uri": "https://localhost:8080/"
        },
        "id": "ZwIOWeGV1-U_",
        "outputId": "4ccff57c-697b-4ca7-c809-8e3be152cb79"
      },
      "outputs": [
        {
          "output_type": "stream",
          "name": "stdout",
          "text": [
            "1.21.6\n"
          ]
        }
      ],
      "source": [
        "print(np.__version__)"
      ]
    },
    {
      "cell_type": "markdown",
      "metadata": {
        "id": "a3evMYag1-VA"
      },
      "source": [
        "#### 3. Generate a 2x3x5 3-dimensional array with random values. Assign the array to variable *a*.\n",
        "**Challenge**: there are at least three easy ways that use numpy to generate random arrays. How many ways can you find?"
      ]
    },
    {
      "cell_type": "code",
      "execution_count": null,
      "metadata": {
        "colab": {
          "base_uri": "https://localhost:8080/"
        },
        "id": "tksxEC7C1-VB",
        "outputId": "ac18c2df-62b3-4e02-e353-a7a5d2337f93"
      },
      "outputs": [
        {
          "output_type": "execute_result",
          "data": {
            "text/plain": [
              "array([[[ 8, 53],\n",
              "        [17, 69],\n",
              "        [73, 35],\n",
              "        [82,  1],\n",
              "        [95, 76],\n",
              "        [80, 91],\n",
              "        [78, 54],\n",
              "        [ 3, 69],\n",
              "        [13,  3],\n",
              "        [ 9, 34]],\n",
              "\n",
              "       [[83, 10],\n",
              "        [97, 72],\n",
              "        [89, 17],\n",
              "        [52, 42],\n",
              "        [87, 97],\n",
              "        [99, 88],\n",
              "        [ 2,  0],\n",
              "        [67, 58],\n",
              "        [17, 46],\n",
              "        [68, 97]],\n",
              "\n",
              "       [[96, 19],\n",
              "        [ 8, 98],\n",
              "        [84, 80],\n",
              "        [28, 71],\n",
              "        [ 1, 83],\n",
              "        [34, 21],\n",
              "        [34, 56],\n",
              "        [ 4, 67],\n",
              "        [18, 47],\n",
              "        [ 1, 45]],\n",
              "\n",
              "       [[18, 36],\n",
              "        [74, 97],\n",
              "        [98, 74],\n",
              "        [38, 72],\n",
              "        [44, 82],\n",
              "        [42, 25],\n",
              "        [73, 37],\n",
              "        [89, 48],\n",
              "        [35,  6],\n",
              "        [88, 60]],\n",
              "\n",
              "       [[46, 88],\n",
              "        [89, 31],\n",
              "        [54,  4],\n",
              "        [34, 79],\n",
              "        [32, 90],\n",
              "        [29, 25],\n",
              "        [47, 65],\n",
              "        [ 0, 24],\n",
              "        [32, 83],\n",
              "        [99, 84]],\n",
              "\n",
              "       [[38, 94],\n",
              "        [78, 21],\n",
              "        [70, 74],\n",
              "        [93, 84],\n",
              "        [16, 41],\n",
              "        [67, 59],\n",
              "        [44, 89],\n",
              "        [14, 74],\n",
              "        [37, 59],\n",
              "        [89, 53]],\n",
              "\n",
              "       [[58, 99],\n",
              "        [71, 73],\n",
              "        [96, 83],\n",
              "        [93, 58],\n",
              "        [18,  0],\n",
              "        [73, 85],\n",
              "        [90, 23],\n",
              "        [25, 64],\n",
              "        [49,  5],\n",
              "        [53, 12]],\n",
              "\n",
              "       [[63, 89],\n",
              "        [33, 53],\n",
              "        [26, 74],\n",
              "        [96, 36],\n",
              "        [98, 31],\n",
              "        [26, 99],\n",
              "        [40, 92],\n",
              "        [59, 28],\n",
              "        [27, 75],\n",
              "        [94,  1]],\n",
              "\n",
              "       [[46, 98],\n",
              "        [27, 99],\n",
              "        [81,  0],\n",
              "        [29, 96],\n",
              "        [14, 70],\n",
              "        [99, 46],\n",
              "        [64, 62],\n",
              "        [10, 68],\n",
              "        [55, 95],\n",
              "        [88, 17]],\n",
              "\n",
              "       [[23, 20],\n",
              "        [33,  5],\n",
              "        [82, 79],\n",
              "        [93, 32],\n",
              "        [88,  6],\n",
              "        [29, 81],\n",
              "        [77, 35],\n",
              "        [90, 65],\n",
              "        [82,  7],\n",
              "        [55, 51]],\n",
              "\n",
              "       [[27, 66],\n",
              "        [71, 14],\n",
              "        [28, 82],\n",
              "        [10, 34],\n",
              "        [79, 43],\n",
              "        [99, 93],\n",
              "        [92,  1],\n",
              "        [64, 51],\n",
              "        [49, 75],\n",
              "        [10, 87]],\n",
              "\n",
              "       [[23, 74],\n",
              "        [65, 80],\n",
              "        [81, 75],\n",
              "        [11, 50],\n",
              "        [95, 74],\n",
              "        [12, 93],\n",
              "        [45, 49],\n",
              "        [14, 60],\n",
              "        [86, 27],\n",
              "        [79, 36]],\n",
              "\n",
              "       [[53, 21],\n",
              "        [59, 60],\n",
              "        [53, 11],\n",
              "        [73, 47],\n",
              "        [68, 34],\n",
              "        [26, 77],\n",
              "        [84, 87],\n",
              "        [24, 25],\n",
              "        [36, 53],\n",
              "        [90, 58]],\n",
              "\n",
              "       [[22, 97],\n",
              "        [ 8, 65],\n",
              "        [74, 13],\n",
              "        [42, 56],\n",
              "        [ 3, 44],\n",
              "        [27, 53],\n",
              "        [68, 39],\n",
              "        [ 8,  9],\n",
              "        [19, 79],\n",
              "        [28, 85]],\n",
              "\n",
              "       [[74, 53],\n",
              "        [74,  8],\n",
              "        [16, 15],\n",
              "        [19,  5],\n",
              "        [37, 45],\n",
              "        [95, 36],\n",
              "        [51, 78],\n",
              "        [61, 47],\n",
              "        [47, 15],\n",
              "        [41, 41]],\n",
              "\n",
              "       [[46, 40],\n",
              "        [84, 53],\n",
              "        [91, 57],\n",
              "        [76, 13],\n",
              "        [85, 88],\n",
              "        [32, 10],\n",
              "        [50, 45],\n",
              "        [82, 12],\n",
              "        [26, 37],\n",
              "        [41, 18]],\n",
              "\n",
              "       [[50, 77],\n",
              "        [10, 77],\n",
              "        [52, 64],\n",
              "        [92, 72],\n",
              "        [44, 44],\n",
              "        [41, 92],\n",
              "        [23, 73],\n",
              "        [22, 29],\n",
              "        [65, 19],\n",
              "        [63, 28]],\n",
              "\n",
              "       [[49, 82],\n",
              "        [48,  3],\n",
              "        [35, 49],\n",
              "        [ 9,  5],\n",
              "        [44,  6],\n",
              "        [95, 27],\n",
              "        [24, 56],\n",
              "        [ 3, 36],\n",
              "        [86, 76],\n",
              "        [73, 41]],\n",
              "\n",
              "       [[94, 69],\n",
              "        [47, 19],\n",
              "        [92, 90],\n",
              "        [65, 48],\n",
              "        [32,  4],\n",
              "        [ 4, 80],\n",
              "        [ 1, 95],\n",
              "        [16, 80],\n",
              "        [20, 39],\n",
              "        [24, 11]],\n",
              "\n",
              "       [[32, 97],\n",
              "        [12, 39],\n",
              "        [27, 50],\n",
              "        [44, 67],\n",
              "        [62, 62],\n",
              "        [57, 31],\n",
              "        [15, 77],\n",
              "        [ 4, 45],\n",
              "        [88, 43],\n",
              "        [74, 51]],\n",
              "\n",
              "       [[10, 12],\n",
              "        [62, 46],\n",
              "        [18, 23],\n",
              "        [35, 76],\n",
              "        [ 1, 93],\n",
              "        [95, 86],\n",
              "        [96, 35],\n",
              "        [74, 82],\n",
              "        [13, 33],\n",
              "        [22, 26]],\n",
              "\n",
              "       [[40, 84],\n",
              "        [14, 63],\n",
              "        [37, 70],\n",
              "        [ 5, 78],\n",
              "        [31, 43],\n",
              "        [75,  1],\n",
              "        [85, 98],\n",
              "        [36, 30],\n",
              "        [20, 78],\n",
              "        [39, 76]],\n",
              "\n",
              "       [[10, 55],\n",
              "        [ 6, 93],\n",
              "        [60, 92],\n",
              "        [73, 32],\n",
              "        [62, 98],\n",
              "        [34, 36],\n",
              "        [74, 93],\n",
              "        [87, 86],\n",
              "        [42, 52],\n",
              "        [49, 91]],\n",
              "\n",
              "       [[82, 96],\n",
              "        [81, 54],\n",
              "        [ 9,  6],\n",
              "        [20, 29],\n",
              "        [21, 78],\n",
              "        [82, 76],\n",
              "        [92, 20],\n",
              "        [34, 17],\n",
              "        [33, 86],\n",
              "        [29,  0]],\n",
              "\n",
              "       [[91, 33],\n",
              "        [25, 74],\n",
              "        [22,  5],\n",
              "        [59, 13],\n",
              "        [59,  0],\n",
              "        [ 9, 93],\n",
              "        [53, 82],\n",
              "        [ 8, 41],\n",
              "        [79, 79],\n",
              "        [39, 29]],\n",
              "\n",
              "       [[83, 98],\n",
              "        [91, 68],\n",
              "        [50,  2],\n",
              "        [69, 59],\n",
              "        [94,  5],\n",
              "        [79, 83],\n",
              "        [ 3, 72],\n",
              "        [79, 82],\n",
              "        [10, 31],\n",
              "        [16, 74]],\n",
              "\n",
              "       [[99, 37],\n",
              "        [ 3, 64],\n",
              "        [51, 75],\n",
              "        [17, 38],\n",
              "        [54, 84],\n",
              "        [14, 16],\n",
              "        [63, 46],\n",
              "        [90, 27],\n",
              "        [ 6, 67],\n",
              "        [32, 94]],\n",
              "\n",
              "       [[13, 58],\n",
              "        [30, 58],\n",
              "        [19, 72],\n",
              "        [26, 25],\n",
              "        [36, 94],\n",
              "        [51, 48],\n",
              "        [38, 49],\n",
              "        [37, 45],\n",
              "        [82, 10],\n",
              "        [94, 46]],\n",
              "\n",
              "       [[22, 10],\n",
              "        [13,  2],\n",
              "        [13, 24],\n",
              "        [61, 11],\n",
              "        [20, 83],\n",
              "        [ 9, 59],\n",
              "        [56, 66],\n",
              "        [ 6, 97],\n",
              "        [86, 78],\n",
              "        [34,  0]],\n",
              "\n",
              "       [[ 5, 97],\n",
              "        [46, 42],\n",
              "        [47,  3],\n",
              "        [23, 49],\n",
              "        [56, 51],\n",
              "        [70, 86],\n",
              "        [40, 87],\n",
              "        [63, 42],\n",
              "        [89, 34],\n",
              "        [49, 40]]])"
            ]
          },
          "metadata": {},
          "execution_count": 6
        }
      ],
      "source": [
        "a = np.random.randint(0, 100, size=(30, 10, 2))\n",
        "a"
      ]
    },
    {
      "cell_type": "code",
      "execution_count": null,
      "metadata": {
        "colab": {
          "base_uri": "https://localhost:8080/"
        },
        "id": "iBsfIQkx1-VD",
        "outputId": "f20f56a8-d6e0-4bfc-8cfe-1e701ce0e9e5"
      },
      "outputs": [
        {
          "output_type": "execute_result",
          "data": {
            "text/plain": [
              "array([[[0.2047125 , 0.70057063, 0.4383161 , 0.23968729, 0.77735451],\n",
              "        [0.69594071, 0.34993801, 0.54283286, 0.76602819, 0.32146841],\n",
              "        [0.12630958, 0.64686627, 0.26902696, 0.62085578, 0.38882065]],\n",
              "\n",
              "       [[0.25736836, 0.12776343, 0.88467585, 0.29177428, 0.87111674],\n",
              "        [0.26855656, 0.13596461, 0.74796036, 0.76913368, 0.59722095],\n",
              "        [0.92600308, 0.95705134, 0.17365072, 0.06811664, 0.25065037]]])"
            ]
          },
          "metadata": {},
          "execution_count": 7
        }
      ],
      "source": [
        "a = np.random.random((2,3,5))\n",
        "a"
      ]
    },
    {
      "cell_type": "code",
      "execution_count": null,
      "metadata": {
        "id": "wiOJHhNp1-VE",
        "outputId": "dced6183-db08-431f-9593-c8a6895e9f1c"
      },
      "outputs": [
        {
          "data": {
            "text/plain": [
              "array([[[0.60773982, 0.15454453, 0.7286028 , 0.4382703 , 0.57226058],\n",
              "        [0.74526347, 0.71310251, 0.89617673, 0.8456983 , 0.65007401],\n",
              "        [0.0024545 , 0.76118549, 0.35503609, 0.92606635, 0.06236549]],\n",
              "\n",
              "       [[0.51433019, 0.61905392, 0.7547112 , 0.34159115, 0.56817892],\n",
              "        [0.11320736, 0.04420043, 0.47660279, 0.00383606, 0.24512767],\n",
              "        [0.4061511 , 0.53902413, 0.88223225, 0.6232404 , 0.95817012]]])"
            ]
          },
          "execution_count": 42,
          "metadata": {},
          "output_type": "execute_result"
        }
      ],
      "source": [
        "a = np.random.sample((2, 3, 5))\n",
        "a"
      ]
    },
    {
      "cell_type": "markdown",
      "metadata": {
        "id": "Wp8Uvpwe1-VF"
      },
      "source": [
        "#### 4. Print *a*.\n"
      ]
    },
    {
      "cell_type": "code",
      "execution_count": null,
      "metadata": {
        "colab": {
          "base_uri": "https://localhost:8080/"
        },
        "id": "adCNz3m71-VH",
        "outputId": "7497fb37-c6f9-4cf1-ef37-2ebca041d271"
      },
      "outputs": [
        {
          "output_type": "execute_result",
          "data": {
            "text/plain": [
              "array([[[0.2047125 , 0.70057063, 0.4383161 , 0.23968729, 0.77735451],\n",
              "        [0.69594071, 0.34993801, 0.54283286, 0.76602819, 0.32146841],\n",
              "        [0.12630958, 0.64686627, 0.26902696, 0.62085578, 0.38882065]],\n",
              "\n",
              "       [[0.25736836, 0.12776343, 0.88467585, 0.29177428, 0.87111674],\n",
              "        [0.26855656, 0.13596461, 0.74796036, 0.76913368, 0.59722095],\n",
              "        [0.92600308, 0.95705134, 0.17365072, 0.06811664, 0.25065037]]])"
            ]
          },
          "metadata": {},
          "execution_count": 8
        }
      ],
      "source": [
        " a"
      ]
    },
    {
      "cell_type": "markdown",
      "metadata": {
        "id": "mBXrZZSx1-VI"
      },
      "source": [
        "#### 5. Create a 5x2x3 3-dimensional array with all values equaling 1. Assign the array to variable *b*."
      ]
    },
    {
      "cell_type": "code",
      "execution_count": null,
      "metadata": {
        "id": "6lUAv_YS1-VI"
      },
      "outputs": [],
      "source": [
        "b=np.ones((5,2,3))"
      ]
    },
    {
      "cell_type": "markdown",
      "metadata": {
        "id": "IfrrQBNn1-VJ"
      },
      "source": [
        "#### 6. Print *b*.\n"
      ]
    },
    {
      "cell_type": "code",
      "execution_count": null,
      "metadata": {
        "colab": {
          "base_uri": "https://localhost:8080/"
        },
        "id": "d0-aBqFz1-VJ",
        "outputId": "a8d1c54e-5a55-4b35-d56a-ca786b11d184"
      },
      "outputs": [
        {
          "output_type": "execute_result",
          "data": {
            "text/plain": [
              "array([[[1., 1., 1.],\n",
              "        [1., 1., 1.]],\n",
              "\n",
              "       [[1., 1., 1.],\n",
              "        [1., 1., 1.]],\n",
              "\n",
              "       [[1., 1., 1.],\n",
              "        [1., 1., 1.]],\n",
              "\n",
              "       [[1., 1., 1.],\n",
              "        [1., 1., 1.]],\n",
              "\n",
              "       [[1., 1., 1.],\n",
              "        [1., 1., 1.]]])"
            ]
          },
          "metadata": {},
          "execution_count": 10
        }
      ],
      "source": [
        "b"
      ]
    },
    {
      "cell_type": "markdown",
      "metadata": {
        "id": "yborAQzK1-VK"
      },
      "source": [
        "#### 7. Do *a* and *b* have the same size? How do you prove that in Python code?"
      ]
    },
    {
      "cell_type": "code",
      "execution_count": null,
      "metadata": {
        "colab": {
          "base_uri": "https://localhost:8080/"
        },
        "id": "6TOLMxmQ1-VK",
        "outputId": "6f4d71fb-44d6-49a0-ef23-de4b374852bb"
      },
      "outputs": [
        {
          "output_type": "stream",
          "name": "stdout",
          "text": [
            "They have the same size!\n"
          ]
        }
      ],
      "source": [
        "# your code here\n",
        "if a.size == b.size:\n",
        "    print(\"They have the same size!\")\n",
        "else:\n",
        "    print(\"They do not.\")\n"
      ]
    },
    {
      "cell_type": "markdown",
      "metadata": {
        "id": "1Du-URvr1-VL"
      },
      "source": [
        "#### 8. Are you able to add *a* and *b*? Why or why not?\n"
      ]
    },
    {
      "cell_type": "code",
      "execution_count": null,
      "metadata": {
        "colab": {
          "base_uri": "https://localhost:8080/"
        },
        "id": "bpw07cf51-VM",
        "outputId": "890faeed-0932-480c-c28d-00b098d461b9"
      },
      "outputs": [
        {
          "output_type": "stream",
          "name": "stdout",
          "text": [
            "No we are not able to add because even tho they have the same size they have different shapes.\n"
          ]
        }
      ],
      "source": [
        "print(\"No we are not able to add because even tho they have the same size they have different shapes.\")\n",
        "#c=a+b\n"
      ]
    },
    {
      "cell_type": "markdown",
      "metadata": {
        "id": "2bjXNDOc1-VM"
      },
      "source": [
        "#### 9. Transpose *b* so that it has the same structure of *a* (i.e. become a 2x3x5 array). Assign the transposed array to variable *c*."
      ]
    },
    {
      "cell_type": "code",
      "execution_count": null,
      "metadata": {
        "colab": {
          "base_uri": "https://localhost:8080/"
        },
        "id": "aGFQVySD1-VN",
        "outputId": "44edc5cc-31fd-4d55-e10d-90cc9a3e956a"
      },
      "outputs": [
        {
          "output_type": "execute_result",
          "data": {
            "text/plain": [
              "(2, 3, 5)"
            ]
          },
          "metadata": {},
          "execution_count": 13
        }
      ],
      "source": [
        "# your code here\n",
        "c = np.transpose(b, axes=(1, 2, 0))\n",
        "c.shape"
      ]
    },
    {
      "cell_type": "markdown",
      "metadata": {
        "id": "jrS3lLzX1-VO"
      },
      "source": [
        "#### 10. Try to add *a* and *c*. Now it should work. Assign the sum to variable *d*. But why does it work now?"
      ]
    },
    {
      "cell_type": "code",
      "execution_count": null,
      "metadata": {
        "colab": {
          "base_uri": "https://localhost:8080/"
        },
        "id": "DP3whkuT1-VO",
        "outputId": "6a719539-99c7-460c-f7e4-45486dbd7f34"
      },
      "outputs": [
        {
          "output_type": "execute_result",
          "data": {
            "text/plain": [
              "(2, 3, 5)"
            ]
          },
          "metadata": {},
          "execution_count": 14
        }
      ],
      "source": [
        "# your code/answer here\n",
        "d = a + c\n",
        "d.shape"
      ]
    },
    {
      "cell_type": "markdown",
      "metadata": {
        "id": "CoXNRG551-VP"
      },
      "source": [
        "#### 11. Print *a* and *d*. Notice the difference and relation of the two array in terms of the values? Explain."
      ]
    },
    {
      "cell_type": "code",
      "execution_count": null,
      "metadata": {
        "id": "WkMRdYQl1-VP",
        "outputId": "a232dcca-0c22-44c3-b7f4-414fdb214be2",
        "colab": {
          "base_uri": "https://localhost:8080/"
        }
      },
      "outputs": [
        {
          "output_type": "stream",
          "name": "stdout",
          "text": [
            "[[0.2047125  0.70057063 0.4383161  0.23968729 0.77735451]\n",
            " [0.69594071 0.34993801 0.54283286 0.76602819 0.32146841]\n",
            " [0.12630958 0.64686627 0.26902696 0.62085578 0.38882065]]\n",
            "[[1.2047125  1.70057063 1.4383161  1.23968729 1.77735451]\n",
            " [1.69594071 1.34993801 1.54283286 1.76602819 1.32146841]\n",
            " [1.12630958 1.64686627 1.26902696 1.62085578 1.38882065]]\n"
          ]
        }
      ],
      "source": [
        "print(a[0])\n",
        "print(d[0])"
      ]
    },
    {
      "cell_type": "markdown",
      "metadata": {
        "id": "z07mCTuj1-VQ"
      },
      "source": [
        "#### 12. Multiply *a* and *c*. Assign the result to *e*."
      ]
    },
    {
      "cell_type": "code",
      "execution_count": null,
      "metadata": {
        "id": "iCQg204_1-VQ",
        "outputId": "cf48e240-eb06-442c-bff1-fa70b334e757",
        "colab": {
          "base_uri": "https://localhost:8080/"
        }
      },
      "outputs": [
        {
          "output_type": "stream",
          "name": "stdout",
          "text": [
            "[[[0.2047125  0.70057063 0.4383161  0.23968729 0.77735451]\n",
            "  [0.69594071 0.34993801 0.54283286 0.76602819 0.32146841]\n",
            "  [0.12630958 0.64686627 0.26902696 0.62085578 0.38882065]]\n",
            "\n",
            " [[0.25736836 0.12776343 0.88467585 0.29177428 0.87111674]\n",
            "  [0.26855656 0.13596461 0.74796036 0.76913368 0.59722095]\n",
            "  [0.92600308 0.95705134 0.17365072 0.06811664 0.25065037]]]\n"
          ]
        }
      ],
      "source": [
        "e = a * c\n",
        "print(e)"
      ]
    },
    {
      "cell_type": "markdown",
      "metadata": {
        "id": "XZivnYj91-VR"
      },
      "source": [
        "#### 13. Does *e* equal to *a*? Why or why not?\n"
      ]
    },
    {
      "cell_type": "code",
      "execution_count": null,
      "metadata": {
        "id": "8u71kju01-VR",
        "outputId": "08283640-293d-4a71-e2c1-f8e431b11dc5",
        "colab": {
          "base_uri": "https://localhost:8080/"
        }
      },
      "outputs": [
        {
          "output_type": "stream",
          "name": "stdout",
          "text": [
            "Yes they're the same!\n"
          ]
        }
      ],
      "source": [
        "if np.array_equal(e, a):\n",
        "    print(\"Yes they're the same!\")"
      ]
    },
    {
      "cell_type": "markdown",
      "metadata": {
        "id": "Ui_IRHkK1-VR"
      },
      "source": [
        "#### 14. Identify the max, min, and mean values in *d*. Assign those values to variables *d_max*, *d_min* and *d_mean*."
      ]
    },
    {
      "cell_type": "code",
      "execution_count": null,
      "metadata": {
        "id": "up372bJ-1-VS",
        "outputId": "0f21d095-5e7d-473a-b25f-a2dc9cef6b1f",
        "colab": {
          "base_uri": "https://localhost:8080/"
        }
      },
      "outputs": [
        {
          "output_type": "stream",
          "name": "stdout",
          "text": [
            "1.9570513363792281\n",
            "1.068116637997068\n",
            "1.4805245133720362\n"
          ]
        }
      ],
      "source": [
        "d_max = d.max()\n",
        "d_min = d.min()\n",
        "d_mean = d.mean()\n",
        "\n",
        "print(d_max)\n",
        "print(d_min)\n",
        "print(d_mean)"
      ]
    },
    {
      "cell_type": "markdown",
      "metadata": {
        "id": "plmc8Oxd1-VS"
      },
      "source": [
        "#### 15. Now we want to label the values in *d*. First create an empty array *f* with the same shape (i.e. 2x3x5) as *d* using `np.empty`.\n"
      ]
    },
    {
      "cell_type": "code",
      "execution_count": null,
      "metadata": {
        "colab": {
          "base_uri": "https://localhost:8080/"
        },
        "id": "0KiK4usC1-VT",
        "outputId": "2d1cd4ca-495f-43ee-d8d0-cad8130bc52c"
      },
      "outputs": [
        {
          "output_type": "execute_result",
          "data": {
            "text/plain": [
              "array([[[0.2047125 , 0.70057063, 0.4383161 , 0.23968729, 0.77735451],\n",
              "        [0.69594071, 0.34993801, 0.54283286, 0.76602819, 0.32146841],\n",
              "        [0.12630958, 0.64686627, 0.26902696, 0.62085578, 0.38882065]],\n",
              "\n",
              "       [[0.25736836, 0.12776343, 0.88467585, 0.29177428, 0.87111674],\n",
              "        [0.26855656, 0.13596461, 0.74796036, 0.76913368, 0.59722095],\n",
              "        [0.92600308, 0.95705134, 0.17365072, 0.06811664, 0.25065037]]])"
            ]
          },
          "metadata": {},
          "execution_count": 19
        }
      ],
      "source": [
        "# your code here\n",
        "f = np.empty([2, 3, 5])\n",
        "f"
      ]
    },
    {
      "cell_type": "markdown",
      "metadata": {
        "id": "ljxeTtMm1-VT"
      },
      "source": [
        "#### 16. Populate the values in *f*. \n",
        "\n",
        "For each value in *d*, if it's larger than *d_min* but smaller than *d_mean*, assign 25 to the corresponding value in *f*. If a value in *d* is larger than *d_mean* but smaller than *d_max*, assign 75 to the corresponding value in *f*. If a value equals to *d_mean*, assign 50 to the corresponding value in *f*. Assign 0 to the corresponding value(s) in *f* for *d_min* in *d*. Assign 100 to the corresponding value(s) in *f* for *d_max* in *d*. In the end, f should have only the following values: 0, 25, 50, 75, and 100.\n",
        "\n",
        "**Note**: you don't have to use Numpy in this question."
      ]
    },
    {
      "cell_type": "code",
      "execution_count": null,
      "metadata": {
        "id": "fDR6nekJ1-VU",
        "outputId": "03b8da6e-c687-403a-8029-c20aa1397f89",
        "colab": {
          "base_uri": "https://localhost:8080/"
        }
      },
      "outputs": [
        {
          "output_type": "stream",
          "name": "stdout",
          "text": [
            "[[[ 25  75  25  25  75]\n",
            "  [ 75  25  75  75  25]\n",
            "  [ 25  75  25  75  25]]\n",
            "\n",
            " [[ 25  25  75  25  75]\n",
            "  [ 25  25  75  75  75]\n",
            "  [ 75 100  25   0  25]]]\n"
          ]
        }
      ],
      "source": [
        "f = []\n",
        "for x in np.nditer(d):\n",
        "    if d_min < x < d_mean:\n",
        "        f += [25]\n",
        "    if d_mean < x < d_max:\n",
        "        f += [75]\n",
        "    if x == d_mean:\n",
        "        f += [50]\n",
        "    if x == d_min:\n",
        "        f += [0]\n",
        "    if x == d_max:\n",
        "        f += [100]\n",
        "    \n",
        "        \n",
        "f = np.reshape(f, d.shape) \n",
        "print(f)"
      ]
    },
    {
      "cell_type": "markdown",
      "metadata": {
        "id": "4PjZcuMm1-VU"
      },
      "source": [
        "#### 17. Print *d* and *f*. Do you have your expected *f*?\n",
        "For instance, if your *d* is:\n",
        "```python\n",
        "[[[1.85836099, 1.67064465, 1.62576044, 1.40243961, 1.88454931],\n",
        "[1.75354326, 1.69403643, 1.36729252, 1.61415071, 1.12104981],\n",
        "[1.72201435, 1.1862918 , 1.87078449, 1.7726778 , 1.88180042]],\n",
        "[[1.44747908, 1.31673383, 1.02000951, 1.52218947, 1.97066381],\n",
        "[1.79129243, 1.74983003, 1.96028037, 1.85166831, 1.65450881],\n",
        "[1.18068344, 1.9587381 , 1.00656599, 1.93402165, 1.73514584]]]\n",
        "```\n",
        "Your *f* should be:\n",
        "```python\n",
        "[[[ 75.,  75.,  75.,  25.,  75.],\n",
        "[ 75.,  75.,  25.,  25.,  25.],\n",
        "[ 75.,  25.,  75.,  75.,  75.]],\n",
        "[[ 25.,  25.,  25.,  25., 100.],\n",
        "[ 75.,  75.,  75.,  75.,  75.],\n",
        "[ 25.,  75.,   0.,  75.,  75.]]]\n",
        "```"
      ]
    },
    {
      "cell_type": "code",
      "execution_count": null,
      "metadata": {
        "id": "D_FyL8dM1-VV",
        "outputId": "de9da7b5-019e-4887-e2b6-bd6e44188cc7"
      },
      "outputs": [
        {
          "name": "stdout",
          "output_type": "stream",
          "text": [
            "[[[1.60773982 1.15454453 1.7286028  1.4382703  1.57226058]\n",
            "  [1.74526347 1.71310251 1.89617673 1.8456983  1.65007401]\n",
            "  [1.0024545  1.76118549 1.35503609 1.92606635 1.06236549]]\n",
            "\n",
            " [[1.51433019 1.61905392 1.7547112  1.34159115 1.56817892]\n",
            "  [1.11320736 1.04420043 1.47660279 1.00383606 1.24512767]\n",
            "  [1.4061511  1.53902413 1.88223225 1.6232404  1.95817012]]]\n",
            "[[[ 75  25  75  25  75]\n",
            "  [ 75  75  75  75  75]\n",
            "  [  0  75  25  75  25]]\n",
            "\n",
            " [[ 25  75  75  25  75]\n",
            "  [ 25  25  25  25  25]\n",
            "  [ 25  75  75  75 100]]]\n"
          ]
        }
      ],
      "source": [
        "# your code here\n",
        "print(d)\n",
        "print(f)"
      ]
    },
    {
      "cell_type": "markdown",
      "metadata": {
        "id": "GyrT7GQ-1-VV"
      },
      "source": [
        "#### 18. Bonus question: instead of using numbers (i.e. 0, 25, 50, 75, and 100), use string values  (\"A\", \"B\", \"C\", \"D\", and \"E\") to label the array elements. For the example above, the expected result is:\n",
        "\n",
        "```python\n",
        "[[[ 'D',  'D',  'D',  'B',  'D'],\n",
        "[ 'D',  'D',  'B',  'B',  'B'],\n",
        "[ 'D',  'B',  'D',  'D',  'D']],\n",
        "[[ 'B',  'B',  'B',  'B',  'E'],\n",
        "[ 'D',  'D',  'D',  'D',  'D'],\n",
        "[ 'B',  'D',   'A',  'D', 'D']]]\n",
        "```\n",
        "**Note**: you don't have to use Numpy in this question."
      ]
    },
    {
      "cell_type": "code",
      "execution_count": null,
      "metadata": {
        "id": "J90FaL8v1-VW",
        "outputId": "3023f57e-e129-4d3d-8e3b-c1b9ad2fea12"
      },
      "outputs": [
        {
          "name": "stdout",
          "output_type": "stream",
          "text": [
            "[[['D' 'B' 'D' 'B' 'D']\n",
            "  ['D' 'D' 'D' 'D' 'D']\n",
            "  ['A' 'D' 'B' 'D' 'B']]\n",
            "\n",
            " [['B' 'D' 'D' 'B' 'D']\n",
            "  ['B' 'B' 'B' 'B' 'B']\n",
            "  ['B' 'D' 'D' 'D' 'E']]]\n"
          ]
        }
      ],
      "source": [
        "j = []\n",
        "for x in np.nditer(d):\n",
        "    if d_min < x < d_mean:\n",
        "        j += ['B']\n",
        "    if d_mean < x < d_max:\n",
        "        j += ['D']\n",
        "    if x == d_mean:\n",
        "        j += ['C']\n",
        "    if x == d_min:\n",
        "        j += ['A']\n",
        "    if x == d_max:\n",
        "        j += ['E']\n",
        "    \n",
        "j = np.reshape(j, d.shape) \n",
        "print(j)\n"
      ]
    },
    {
      "cell_type": "code",
      "execution_count": null,
      "metadata": {
        "id": "nu-jZ94o1-VW"
      },
      "outputs": [],
      "source": []
    }
  ],
  "metadata": {
    "kernelspec": {
      "display_name": "Python 3",
      "language": "python",
      "name": "python3"
    },
    "language_info": {
      "codemirror_mode": {
        "name": "ipython",
        "version": 3
      },
      "file_extension": ".py",
      "mimetype": "text/x-python",
      "name": "python",
      "nbconvert_exporter": "python",
      "pygments_lexer": "ipython3",
      "version": "3.7.4"
    },
    "colab": {
      "provenance": [],
      "include_colab_link": true
    }
  },
  "nbformat": 4,
  "nbformat_minor": 0
}
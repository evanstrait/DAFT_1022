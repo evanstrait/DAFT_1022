{
  "cells": [
    {
      "cell_type": "markdown",
      "metadata": {
        "id": "view-in-github",
        "colab_type": "text"
      },
      "source": [
        "<a href=\"https://colab.research.google.com/github/evanstrait/DAFT_1022/blob/main/Module_1/Lab_6_String-Operations/main_checkpoint.ipynb\" target=\"_parent\"><img src=\"https://colab.research.google.com/assets/colab-badge.svg\" alt=\"Open In Colab\"/></a>"
      ]
    },
    {
      "cell_type": "markdown",
      "metadata": {
        "id": "-cHziWvStTcZ"
      },
      "source": [
        "# Before your start:\n",
        "- Read the README.md file\n",
        "- Comment as much as you can and use the resources in the README.md file\n",
        "- Happy learning!"
      ]
    },
    {
      "cell_type": "markdown",
      "metadata": {
        "id": "8gqCIEH0tTcc"
      },
      "source": [
        "# Challenge 1 - Combining Strings\n",
        "\n",
        "Combining strings is an important skill to acquire. There are multiple ways of combining strings in Python, as well as combining strings with variables. We will explore this in the first challenge. In the cell below, combine the strings in the list and add spaces between the strings (do not add a space after the last string). Insert a period after the last string."
      ]
    },
    {
      "cell_type": "code",
      "execution_count": null,
      "metadata": {
        "colab": {
          "base_uri": "https://localhost:8080/"
        },
        "id": "wxHkvF9LtTce",
        "outputId": "6ad3ab18-e05a-4abc-80b0-0b155dd1959e"
      },
      "outputs": [
        {
          "output_type": "stream",
          "name": "stdout",
          "text": [
            "Durante un tiempo no estuvo segura de si su marido era su marido.\n"
          ]
        }
      ],
      "source": [
        "str_list = ['Durante', 'un', 'tiempo', 'no', 'estuvo', 'segura', 'de', 'si', 'su', 'marido', 'era', 'su', 'marido']\n",
        "str_list.pop(-1)\n",
        "stringlist = str_list+[\"marido.\"]\n",
        "strings=\" \".join(stringlist)\n",
        "print(strings)\n",
        "\n"
      ]
    },
    {
      "cell_type": "markdown",
      "metadata": {
        "id": "YqNa8gMEtTcf"
      },
      "source": [
        "In the cell below, use the list of strings to create a grocery list. Start the list with the string `Grocery list: ` and include a comma and a space between each item except for the last one. Include a period at the end. Only include foods in the list that start with the letter 'b' and ensure all foods are lower case."
      ]
    },
    {
      "cell_type": "code",
      "execution_count": null,
      "metadata": {
        "colab": {
          "base_uri": "https://localhost:8080/"
        },
        "id": "da9qasW9tTcg",
        "outputId": "d8b67b45-cb25-4d73-ef25-7045736fd39c"
      },
      "outputs": [
        {
          "output_type": "stream",
          "name": "stdout",
          "text": [
            "['bananas', 'bread, brownie mix', 'broccoli.']\n"
          ]
        }
      ],
      "source": [
        "food_list = ['Bananas', 'Chocolate', 'bread', 'diapers', 'Ice Cream', 'Brownie Mix', 'broccoli']\n",
        "food_list.pop(4)\n",
        "food_list.pop(3)\n",
        "food_list.pop(1)\n",
        "food_list.pop(0)\n",
        "food_list.pop(-1)\n",
        "for i in range(len(food_list)):\n",
        "    food_list[i] = food_list[i].lower()\n",
        "groceries=\", \".join(str(elem) for elem in food_list)\n",
        "foodlist = [\"bananas\"]+[groceries]+[\"broccoli.\"]\n",
        "print(foodlist)"
      ]
    },
    {
      "cell_type": "markdown",
      "metadata": {
        "id": "NixRwJt-tTcg"
      },
      "source": [
        "In the cell below, write a function that computes the area of a circle using its radius. Compute the area of the circle and insert the radius and the area between the two strings. Make sure to include spaces between the variable and the strings. \n",
        "\n",
        "Note: You can use the techniques we have learned so far or use f-strings. F-strings allow us to embed code inside strings. You can read more about f-strings [here](https://www.python.org/dev/peps/pep-0498/)."
      ]
    },
    {
      "cell_type": "code",
      "execution_count": null,
      "metadata": {
        "colab": {
          "base_uri": "https://localhost:8080/"
        },
        "id": "OJPBMnlxtTch",
        "outputId": "3d61b03d-1a7d-4d2a-d9a8-f4f00cb3b3a8"
      },
      "outputs": [
        {
          "output_type": "stream",
          "name": "stdout",
          "text": [
            "The area of the circle with radius: 4.5 is: 14.137166941154069\n"
          ]
        }
      ],
      "source": [
        "import math\n",
        "\n",
        "string1 = \"The area of the circle with radius:\"\n",
        "string2  = \"is:\"\n",
        "radius = 4.5\n",
        "\n",
        "def area(x, pi = math.pi):\n",
        "    \"\"\"\n",
        "    This function takes a radius and returns the area of a circle. \n",
        "    We also pass a default value for pi.\n",
        "    \n",
        "    Input: Float (and default value for pi)\n",
        "    Output: Float\n",
        "    \n",
        "    Sample input: 5.0\n",
        "    Sample Output: 78.53981633\n",
        "    \"\"\"\n",
        "    \n",
        "print(string1 + \" \" + str(radius)+  \" \" + string2 + \" \" + str(radius*math.pi)) \n",
        "    \n",
        "# Your output string here:"
      ]
    },
    {
      "cell_type": "markdown",
      "metadata": {
        "id": "FLz-8mO6tTci"
      },
      "source": [
        "# Challenge 2 - Splitting Strings\n",
        "\n",
        "We have first looked at combining strings into one long string. There are times where we need to do the opposite and split the string into smaller components for further analysis. \n",
        "\n",
        "In the cell below, split the string into a list of strings using the space delimiter. Count the frequency of each word in the string in a dictionary. Strip the periods, line breaks and commas from the text. Make sure to remove empty strings from your dictionary."
      ]
    },
    {
      "cell_type": "code",
      "execution_count": null,
      "metadata": {
        "colab": {
          "base_uri": "https://localhost:8080/"
        },
        "id": "VPVlyJiZtTcj",
        "outputId": "670a0d04-fc86-4387-cad9-b8824f67bbd1"
      },
      "outputs": [
        {
          "output_type": "stream",
          "name": "stdout",
          "text": [
            "['Some', 'say', 'the', 'world', 'will', 'end', 'in', 'fire,\\nSome', 'say', 'in', 'ice.\\nFrom', 'what', 'I’ve', 'tasted', 'of', 'desire\\nI', 'hold', 'with', 'those', 'who', 'favor', 'fire.\\nBut', 'if', 'it', 'had', 'to', 'perish', 'twice,\\nI', 'think', 'I', 'know', 'enough', 'of', 'hate\\nTo', 'say', 'that', 'for', 'destruction', 'ice\\nIs', 'also', 'great\\nAnd', 'would', 'suffice.']\n"
          ]
        }
      ],
      "source": [
        "poem = \"\"\"Some say the world will end in fire,\n",
        "Some say in ice.\n",
        "From what I’ve tasted of desire\n",
        "I hold with those who favor fire.\n",
        "But if it had to perish twice,\n",
        "I think I know enough of hate\n",
        "To say that for destruction ice\n",
        "Is also great\n",
        "And would suffice.\"\"\"\n",
        "plist = poem.split(\" \")\n",
        "from collections import Counter\n",
        "Counter(plist)."
      ]
    },
    {
      "cell_type": "markdown",
      "metadata": {
        "id": "Cv4SqCm9tTcj"
      },
      "source": [
        "In the cell below, find all the words that appear in the text and do not appear in the blacklist. You must parse the string but can choose any data structure you wish for the words that do not appear in the blacklist. Remove all non letter characters and convert all words to lower case."
      ]
    },
    {
      "cell_type": "code",
      "execution_count": null,
      "metadata": {
        "id": "aKasO0SytTck"
      },
      "outputs": [],
      "source": [
        "blacklist = ['and', 'as', 'an', 'a', 'the', 'in', 'it']\n",
        "\n",
        "poem = \"\"\"I was angry with my friend; \n",
        "I told my wrath, my wrath did end.\n",
        "I was angry with my foe: \n",
        "I told it not, my wrath did grow. \n",
        "\n",
        "And I waterd it in fears,\n",
        "Night & morning with my tears: \n",
        "And I sunned it with smiles,\n",
        "And with soft deceitful wiles. \n",
        "\n",
        "And it grew both day and night. \n",
        "Till it bore an apple bright. \n",
        "And my foe beheld it shine,\n",
        "And he knew that it was mine. \n",
        "\n",
        "And into my garden stole, \n",
        "When the night had veild the pole; \n",
        "In the morning glad I see; \n",
        "My foe outstretched beneath the tree.\"\"\"\n",
        "\n",
        "# Your code here:\n",
        "\n"
      ]
    }
  ],
  "metadata": {
    "kernelspec": {
      "display_name": "Python 3",
      "language": "python",
      "name": "python3"
    },
    "language_info": {
      "codemirror_mode": {
        "name": "ipython",
        "version": 3
      },
      "file_extension": ".py",
      "mimetype": "text/x-python",
      "name": "python",
      "nbconvert_exporter": "python",
      "pygments_lexer": "ipython3",
      "version": "3.7.3"
    },
    "varInspector": {
      "cols": {
        "lenName": 16,
        "lenType": 16,
        "lenVar": 40
      },
      "kernels_config": {
        "python": {
          "delete_cmd_postfix": "",
          "delete_cmd_prefix": "del ",
          "library": "var_list.py",
          "varRefreshCmd": "print(var_dic_list())"
        },
        "r": {
          "delete_cmd_postfix": ") ",
          "delete_cmd_prefix": "rm(",
          "library": "var_list.r",
          "varRefreshCmd": "cat(var_dic_list()) "
        }
      },
      "types_to_exclude": [
        "module",
        "function",
        "builtin_function_or_method",
        "instance",
        "_Feature"
      ],
      "window_display": false
    },
    "colab": {
      "provenance": [],
      "include_colab_link": true
    }
  },
  "nbformat": 4,
  "nbformat_minor": 0
}
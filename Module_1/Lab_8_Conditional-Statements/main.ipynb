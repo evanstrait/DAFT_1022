{
  "cells": [
    {
      "cell_type": "markdown",
      "metadata": {
        "id": "view-in-github",
        "colab_type": "text"
      },
      "source": [
        "<a href=\"https://colab.research.google.com/github/evanstrait/DAFT_1022/blob/main/Module_1/Lab_8_Conditional-Statements/main.ipynb\" target=\"_parent\"><img src=\"https://colab.research.google.com/assets/colab-badge.svg\" alt=\"Open In Colab\"/></a>"
      ]
    },
    {
      "cell_type": "markdown",
      "metadata": {
        "id": "6A5FJHp6cuI7"
      },
      "source": [
        "# Conditional Statements\n",
        "\n",
        "Complete the following set of exercises to solidify your knowledge for Conditional Statements."
      ]
    },
    {
      "cell_type": "markdown",
      "metadata": {
        "id": "1EznBvgIcuI9"
      },
      "source": [
        "#### 1. Write a Python program to find those numbers which are divisible by 3 and are between 1000 and 2500 (both included)."
      ]
    },
    {
      "cell_type": "code",
      "execution_count": 93,
      "metadata": {
        "colab": {
          "base_uri": "https://localhost:8080/"
        },
        "id": "_6MmvicpcuI-",
        "outputId": "09ae1e05-46c6-4728-99da-389a36e97e73"
      },
      "outputs": [
        {
          "output_type": "stream",
          "name": "stdout",
          "text": [
            "1200\n"
          ]
        }
      ],
      "source": [
        "def number(input):\n",
        "  if (input % 3 == 0) and (input >= 1000) and (input <= 2500):\n",
        "    result = print(input)\n",
        "\n",
        "number(1200)"
      ]
    },
    {
      "cell_type": "markdown",
      "metadata": {
        "id": "VR2SvCUqcuI-"
      },
      "source": [
        "#### 2. Write a Python program to convert month name to a number of days in this months."
      ]
    },
    {
      "cell_type": "code",
      "execution_count": 92,
      "metadata": {
        "colab": {
          "base_uri": "https://localhost:8080/"
        },
        "id": "Ev0vgyiPcuI-",
        "outputId": "4f3858c7-0112-437d-dc4f-088ca3af184c"
      },
      "outputs": [
        {
          "output_type": "stream",
          "name": "stdout",
          "text": [
            "List of months: January, February, March, April, May, June, July, August, September, October, November, December\n",
            "Input the name of Month: April\n",
            "No. of days: 30 days\n"
          ]
        }
      ],
      "source": [
        "print(\"List of months: January, February, March, April, May, June, July, August, September, October, November, December\")\n",
        "month_name = input(\"Input the name of Month: \")\n",
        "\n",
        "if month_name == \"February\":\n",
        "\tprint(\"No. of days: 28/29 days\")\n",
        "elif month_name in (\"April\", \"June\", \"September\", \"November\"):\n",
        "\tprint(\"No. of days: 30 days\")\n",
        "elif month_name in (\"January\", \"March\", \"May\", \"July\", \"August\", \"October\", \"December\"):\n",
        "\tprint(\"No. of days: 31 day\")\n",
        "else:\n",
        "\tprint(\"Wrong month name\") "
      ]
    },
    {
      "cell_type": "markdown",
      "metadata": {
        "id": "CrhHYABncuI-"
      },
      "source": [
        "#### 3. Write a Python program that accepts a word from the user and reverse it."
      ]
    },
    {
      "cell_type": "code",
      "execution_count": null,
      "metadata": {
        "id": "395UTfsUcuI-"
      },
      "outputs": [],
      "source": [
        "word = input(\"Input a word to reverse: \")\n",
        "\n",
        "for char in range(len(word) - 1, -1, -1):\n",
        "  print(word[char], end=\"\")\n",
        "print(\"\\n\")"
      ]
    },
    {
      "cell_type": "markdown",
      "metadata": {
        "id": "bjzP1sdFcuI_"
      },
      "source": [
        "#### 4. Write a Python program which iterates the integers from 1 to 50. For multiples of three print \"Iron\" instead of the number and for the multiples of five print \"Hack\". For numbers which are multiples of both three and five print \"Ironhack\"."
      ]
    },
    {
      "cell_type": "code",
      "execution_count": 106,
      "metadata": {
        "colab": {
          "base_uri": "https://localhost:8080/"
        },
        "id": "abBzYHskcuI_",
        "outputId": "64d1ffd5-1a19-488d-e793-073de20c93f2"
      },
      "outputs": [
        {
          "output_type": "stream",
          "name": "stdout",
          "text": [
            "1  2  Iron  4  Hack  Iron  7  8  Iron  Hack  11  Iron  13  14  Ironhack  16  17  Iron  19  Hack  Iron  22  23  Iron  Hack  26  Iron  28  29  Ironhack  31  32  Iron  34  Hack  Iron  37  38  Iron  Hack  41  Iron  43  44  Ironhack  46  47  Iron  49  Hack  "
          ]
        }
      ],
      "source": [
        "for i in range(1, 51):\n",
        "    if (i%15 == 0):\n",
        "        print(\"Ironhack\", end=\"  \")\n",
        "    elif (i%3 == 0):\n",
        "        print(\"Iron\", end=\"  \")\n",
        "    elif(i%5 == 0):\n",
        "        print(\"Hack\", end=\"  \")\n",
        "    else:\n",
        "        print(i, end=\"  \")"
      ]
    },
    {
      "cell_type": "markdown",
      "metadata": {
        "id": "_vcei-yXcuI_"
      },
      "source": [
        "#### 5.  A leap year is a calendar year containing an additional day added to keep the calendar year synchronized with the astronomical or seasonal year. In the Gregorian calendar, each leap year has 366 days instead of 365, by extending February to 29 days rather than the common 28. These extra days occur in years which are multiples of four (with the exception of centennial years not divisible by 400). Write a Python program, which asks for a year and calculates, if this year is a leap year or not."
      ]
    },
    {
      "cell_type": "code",
      "execution_count": null,
      "metadata": {
        "id": "3p99KksFcuI_"
      },
      "outputs": [],
      "source": [
        "print(input(\"Enter Year: \"))\n",
        "year = int(input(\"Enter Year: \"))\n",
        "if year % 4 == 0 and year % 100 != 0:\n",
        "    print(year, \"is a Leap Year\")\n",
        "elif year % 100 == 0:\n",
        "    print(year, \"is not a Leap Year\")\n",
        "elif year % 400 ==0:\n",
        "    print(year, \"is a Leap Year\")\n",
        "else:\n",
        "    print(year, \"is not a Leap Year\")"
      ]
    },
    {
      "cell_type": "markdown",
      "metadata": {
        "id": "aHuh6ogIcuI_"
      },
      "source": [
        "#### 6. Body mass index (BMI) is a value derived from the mass (weight) and height of a person. The BMI is defined as the body mass divided by the square of the body height, and is universally expressed in units of kg/m2, resulting from mass in kilograms and height in metres. Write a program, which asks for the length and the weight of a person and returns an evaluation string according to the following table:"
      ]
    },
    {
      "cell_type": "code",
      "execution_count": 124,
      "metadata": {
        "colab": {
          "base_uri": "https://localhost:8080/"
        },
        "id": "V-bpMuxKcuJA",
        "outputId": "990446fc-9cb2-4d35-d676-4932ba5d861f"
      },
      "outputs": [
        {
          "output_type": "stream",
          "name": "stdout",
          "text": [
            "The BMI is 27.1\n",
            "Health status = Overweight\n"
          ]
        }
      ],
      "source": [
        "height = 1.92\n",
        "weight = 100\n",
        "bmi = round(weight/(height**2),1)\n",
        "print(\"The BMI is\", bmi)\n",
        "print(\"Health status = \",end=\"\")\n",
        "if (bmi < 18.5): \n",
        "  print(\"Underweight\") \n",
        "elif ( bmi >= 18.5 and bmi < 24.9): \n",
        "  print(\"Healthy\") \n",
        "elif ( bmi >= 24.9 and bmi < 30): \n",
        "  print(\"Overweight\") \n",
        "elif ( bmi >=30): \n",
        "  print(\"Suffering from Obesity\")"
      ]
    },
    {
      "cell_type": "markdown",
      "metadata": {
        "id": "LhX5o_NacuJA"
      },
      "source": [
        "### Bonus"
      ]
    },
    {
      "cell_type": "markdown",
      "metadata": {
        "id": "BOmdI8ZzcuJA"
      },
      "source": [
        "https://realpython.com/python-conditional-statements/"
      ]
    }
  ],
  "metadata": {
    "kernelspec": {
      "display_name": "Python 3",
      "language": "python",
      "name": "python3"
    },
    "language_info": {
      "codemirror_mode": {
        "name": "ipython",
        "version": 3
      },
      "file_extension": ".py",
      "mimetype": "text/x-python",
      "name": "python",
      "nbconvert_exporter": "python",
      "pygments_lexer": "ipython3",
      "version": "3.7.4"
    },
    "colab": {
      "provenance": [],
      "include_colab_link": true
    }
  },
  "nbformat": 4,
  "nbformat_minor": 0
}
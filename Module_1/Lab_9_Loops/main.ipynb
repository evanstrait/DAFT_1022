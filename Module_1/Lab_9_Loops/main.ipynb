{
  "cells": [
    {
      "cell_type": "markdown",
      "metadata": {
        "id": "view-in-github",
        "colab_type": "text"
      },
      "source": [
        "<a href=\"https://colab.research.google.com/github/evanstrait/DAFT_1022/blob/main/Module_1/Lab_9_Loops/main.ipynb\" target=\"_parent\"><img src=\"https://colab.research.google.com/assets/colab-badge.svg\" alt=\"Open In Colab\"/></a>"
      ]
    },
    {
      "cell_type": "markdown",
      "metadata": {
        "id": "yLX7VDMGp2mC"
      },
      "source": [
        "# Loops\n",
        "\n",
        "Complete the following set of exercises to solidify your knowledge for Loops."
      ]
    },
    {
      "cell_type": "markdown",
      "metadata": {
        "id": "KmI555wIp2mE"
      },
      "source": [
        "#### 1. Print first 10 natural numbers using while loop"
      ]
    },
    {
      "cell_type": "code",
      "execution_count": 2,
      "metadata": {
        "colab": {
          "base_uri": "https://localhost:8080/"
        },
        "id": "e_ATBlvWp2mF",
        "outputId": "a84549a7-016c-4612-93eb-c83bfaf7f233"
      },
      "outputs": [
        {
          "output_type": "stream",
          "name": "stdout",
          "text": [
            "1\n",
            "2\n",
            "3\n",
            "4\n",
            "5\n",
            "6\n",
            "7\n",
            "8\n",
            "9\n",
            "10\n"
          ]
        }
      ],
      "source": [
        "i = 1\n",
        "while i<=10:\n",
        "  print(i)\n",
        "  i+=1"
      ]
    },
    {
      "cell_type": "markdown",
      "metadata": {
        "id": "1RSZDGpdp2mF"
      },
      "source": [
        "#### 2. Display numbers from a list using loop\n",
        "Write a program to display only those numbers from a list that satisfy the following conditions\n",
        "\n",
        "The number must be divisible by five\n",
        "\n",
        "If the number is greater than 150, then skip it and move to the next number\n",
        "\n",
        "If the number is greater than 500, then stop the loop\n",
        "\n",
        "numbers = [12, 75, 150, 180, 145, 525, 50]"
      ]
    },
    {
      "cell_type": "code",
      "execution_count": 55,
      "metadata": {
        "colab": {
          "base_uri": "https://localhost:8080/"
        },
        "id": "rbGFNTp6p2mF",
        "outputId": "6bc45a8a-4a78-4d09-b0f8-1a83c1569ae7"
      },
      "outputs": [
        {
          "output_type": "stream",
          "name": "stdout",
          "text": [
            "12\n",
            "75\n",
            "150\n",
            "145\n",
            "50\n"
          ]
        }
      ],
      "source": [
        "numbers = [12, 75, 150, 180, 145, 525, 50]\n",
        "for x in numbers:\n",
        "  while x == int:\n",
        "    print(x)\n",
        "  if x > 150:\n",
        "    continue\n",
        "  elif x > 500:\n",
        "    break\n",
        "  print(x)"
      ]
    },
    {
      "cell_type": "markdown",
      "metadata": {
        "id": "ZTdHLKjJp2mF"
      },
      "source": [
        "#### 3.Write a Python program to check the validity of a password (input from users).\n",
        "\n",
        "Validation :\n",
        "\n",
        "At least 1 letter between [a-z] and 1 letter between [A-Z].\n",
        "\n",
        "At least 1 number between [0-9].\n",
        "\n",
        "At least 1 character from [$#@].\n",
        "\n",
        "Minimum length 6 characters.\n",
        "\n",
        "Maximum length 16 characters."
      ]
    },
    {
      "cell_type": "code",
      "execution_count": 88,
      "metadata": {
        "colab": {
          "base_uri": "https://localhost:8080/"
        },
        "id": "xgjmnjtfp2mG",
        "outputId": "5169efe4-b4e2-4abf-9d9a-33b1dfc42b7e"
      },
      "outputs": [
        {
          "output_type": "stream",
          "name": "stdout",
          "text": [
            "Please enter password: Ballz123@\n",
            "Valid Password\n"
          ]
        }
      ],
      "source": [
        "password=input(\"Please enter password: \")\n",
        "import re\n",
        "flag = 0\n",
        "while True:\n",
        "    if (len(password)<6 and len(password)>16):\n",
        "        flag = -1\n",
        "        break\n",
        "    elif not re.search(\"[a-z]\", password):\n",
        "        flag = -1\n",
        "        break\n",
        "    elif not re.search(\"[A-Z]\", password):\n",
        "        flag = -1\n",
        "        break\n",
        "    elif not re.search(\"[0-9]\", password):\n",
        "        flag = -1\n",
        "        break\n",
        "    elif not re.search(\"[$#@]\", password):\n",
        "        flag = -1\n",
        "        break\n",
        "    elif re.search(\"\\s\", password):\n",
        "        flag = -1\n",
        "        break\n",
        "    else:\n",
        "        flag = 0\n",
        "        print(\"Valid Password\")\n",
        "        break\n",
        "if flag == -1:\n",
        "    print(\"Not a Valid Password\")"
      ]
    },
    {
      "cell_type": "markdown",
      "metadata": {
        "id": "TZDJtYmsp2mG"
      },
      "source": [
        "#### 4. Break the loop when x is 6, and see what happens with the else block"
      ]
    },
    {
      "cell_type": "code",
      "execution_count": 103,
      "metadata": {
        "colab": {
          "base_uri": "https://localhost:8080/"
        },
        "id": "GiTwwDShp2mG",
        "outputId": "b245ff38-04f6-4f9f-ccf6-20b9fd1c7782"
      },
      "outputs": [
        {
          "output_type": "stream",
          "name": "stdout",
          "text": [
            "1\n",
            "see what happens when i don't understand the instructions\n",
            "2\n",
            "see what happens when i don't understand the instructions\n",
            "3\n",
            "see what happens when i don't understand the instructions\n",
            "4\n",
            "see what happens when i don't understand the instructions\n",
            "5\n",
            "see what happens when i don't understand the instructions\n",
            "6\n"
          ]
        }
      ],
      "source": [
        "x=0\n",
        "while x <= 6:\n",
        "  x+=1\n",
        "  print(x)\n",
        "  if x == 6:\n",
        "    break\n",
        "  else:\n",
        "    print(\"see what happens when i don't understand the instructions\")\n"
      ]
    },
    {
      "cell_type": "markdown",
      "metadata": {
        "id": "crITQNr_p2mG"
      },
      "source": [
        "#### 5. Write a Python program to calculate the sum and average of n integer numbers (input from the user). Input 0 to finish.\n"
      ]
    },
    {
      "cell_type": "code",
      "execution_count": 2,
      "metadata": {
        "colab": {
          "base_uri": "https://localhost:8080/"
        },
        "id": "4NOpHMpop2mG",
        "outputId": "783ea7cd-23ec-409e-bd89-15f49e21d487"
      },
      "outputs": [
        {
          "output_type": "stream",
          "name": "stdout",
          "text": [
            "Input some integers to calculate their sum and average. Input 0 to exit.\n",
            "7\n",
            "9\n",
            "7\n",
            "0\n",
            "Average and Sum of the above numbers are:  7.666666666666667 23.0\n"
          ]
        }
      ],
      "source": [
        "print(\"Input some integers to calculate their sum and average. Input 0 to exit.\")\n",
        "\n",
        "count = 0\n",
        "sum = 0.0\n",
        "number = 1\n",
        "\n",
        "while number != 0:\n",
        "\tnumber = int(input(\"\"))\n",
        "\tsum = sum + number\n",
        "\tcount += 1\n",
        "\n",
        "if count == 0:\n",
        "\tprint(\"Input some numbers\")\n",
        "else:\n",
        "\tprint(\"Average and Sum of the above numbers are: \", sum / (count-1), sum)"
      ]
    }
  ],
  "metadata": {
    "kernelspec": {
      "display_name": "Python 3",
      "language": "python",
      "name": "python3"
    },
    "language_info": {
      "codemirror_mode": {
        "name": "ipython",
        "version": 3
      },
      "file_extension": ".py",
      "mimetype": "text/x-python",
      "name": "python",
      "nbconvert_exporter": "python",
      "pygments_lexer": "ipython3",
      "version": "3.7.4"
    },
    "colab": {
      "provenance": [],
      "include_colab_link": true
    }
  },
  "nbformat": 4,
  "nbformat_minor": 0
}
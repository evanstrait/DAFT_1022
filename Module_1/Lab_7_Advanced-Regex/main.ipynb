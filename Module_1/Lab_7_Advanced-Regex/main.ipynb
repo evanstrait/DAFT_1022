{
  "cells": [
    {
      "cell_type": "markdown",
      "metadata": {
        "id": "view-in-github",
        "colab_type": "text"
      },
      "source": [
        "<a href=\"https://colab.research.google.com/github/evanstrait/DAFT_1022/blob/main/Module_1/Lab_7_Advanced-Regex/main.ipynb\" target=\"_parent\"><img src=\"https://colab.research.google.com/assets/colab-badge.svg\" alt=\"Open In Colab\"/></a>"
      ]
    },
    {
      "cell_type": "markdown",
      "metadata": {
        "id": "yLX7VDMGp2mC"
      },
      "source": [
        "# Loops\n",
        "\n",
        "Complete the following set of exercises to solidify your knowledge for Loops."
      ]
    },
    {
      "cell_type": "markdown",
      "metadata": {
        "id": "KmI555wIp2mE"
      },
      "source": [
        "#### 1. Print first 10 natural numbers using while loop"
      ]
    },
    {
      "cell_type": "code",
      "execution_count": 2,
      "metadata": {
        "colab": {
          "base_uri": "https://localhost:8080/"
        },
        "id": "e_ATBlvWp2mF",
        "outputId": "a84549a7-016c-4612-93eb-c83bfaf7f233"
      },
      "outputs": [
        {
          "output_type": "stream",
          "name": "stdout",
          "text": [
            "1\n",
            "2\n",
            "3\n",
            "4\n",
            "5\n",
            "6\n",
            "7\n",
            "8\n",
            "9\n",
            "10\n"
          ]
        }
      ],
      "source": [
        "i = 1\n",
        "while i<=10:\n",
        "  print(i)\n",
        "  i+=1"
      ]
    },
    {
      "cell_type": "markdown",
      "metadata": {
        "id": "1RSZDGpdp2mF"
      },
      "source": [
        "#### 2. Display numbers from a list using loop\n",
        "Write a program to display only those numbers from a list that satisfy the following conditions\n",
        "\n",
        "The number must be divisible by five\n",
        "\n",
        "If the number is greater than 150, then skip it and move to the next number\n",
        "\n",
        "If the number is greater than 500, then stop the loop\n",
        "\n",
        "numbers = [12, 75, 150, 180, 145, 525, 50]"
      ]
    },
    {
      "cell_type": "code",
      "execution_count": 55,
      "metadata": {
        "colab": {
          "base_uri": "https://localhost:8080/"
        },
        "id": "rbGFNTp6p2mF",
        "outputId": "6bc45a8a-4a78-4d09-b0f8-1a83c1569ae7"
      },
      "outputs": [
        {
          "output_type": "stream",
          "name": "stdout",
          "text": [
            "12\n",
            "75\n",
            "150\n",
            "145\n",
            "50\n"
          ]
        }
      ],
      "source": [
        "numbers = [12, 75, 150, 180, 145, 525, 50]\n",
        "for x in numbers:\n",
        "  while x == int:\n",
        "    print(x)\n",
        "  if x > 150:\n",
        "    continue\n",
        "  elif x > 500:\n",
        "    break\n",
        "  print(x)"
      ]
    },
    {
      "cell_type": "markdown",
      "metadata": {
        "id": "ZTdHLKjJp2mF"
      },
      "source": [
        "#### 3.Write a Python program to check the validity of a password (input from users).\n",
        "\n",
        "Validation :\n",
        "\n",
        "At least 1 letter between [a-z] and 1 letter between [A-Z].\n",
        "\n",
        "At least 1 number between [0-9].\n",
        "\n",
        "At least 1 character from [$#@].\n",
        "\n",
        "Minimum length 6 characters.\n",
        "\n",
        "Maximum length 16 characters."
      ]
    },
    {
      "cell_type": "code",
      "execution_count": 88,
      "metadata": {
        "colab": {
          "base_uri": "https://localhost:8080/"
        },
        "id": "xgjmnjtfp2mG",
        "outputId": "5169efe4-b4e2-4abf-9d9a-33b1dfc42b7e"
      },
      "outputs": [
        {
          "output_type": "stream",
          "name": "stdout",
          "text": [
            "Please enter password: Ballz123@\n",
            "Valid Password\n"
          ]
        }
      ],
      "source": [
        "password=input(\"Please enter password: \")\n",
        "import re\n",
        "flag = 0\n",
        "while True:\n",
        "    if (len(password)<6 and len(password)>16):\n",
        "        flag = -1\n",
        "        break\n",
        "    elif not re.search(\"[a-z]\", password):\n",
        "        flag = -1\n",
        "        break\n",
        "    elif not re.search(\"[A-Z]\", password):\n",
        "        flag = -1\n",
        "        break\n",
        "    elif not re.search(\"[0-9]\", password):\n",
        "        flag = -1\n",
        "        break\n",
        "    elif not re.search(\"[$#@]\", password):\n",
        "        flag = -1\n",
        "        break\n",
        "    elif re.search(\"\\s\", password):\n",
        "        flag = -1\n",
        "        break\n",
        "    else:\n",
        "        flag = 0\n",
        "        print(\"Valid Password\")\n",
        "        break\n",
        "if flag == -1:\n",
        "    print(\"Not a Valid Password\")"
      ]
    },
    {
      "cell_type": "markdown",
      "metadata": {
        "id": "TZDJtYmsp2mG"
      },
      "source": [
        "#### 4. Break the loop when x is 6, and see what happens with the else block"
      ]
    },
    {
      "cell_type": "code",
      "execution_count": 103,
      "metadata": {
        "colab": {
          "base_uri": "https://localhost:8080/"
        },
        "id": "GiTwwDShp2mG",
        "outputId": "b245ff38-04f6-4f9f-ccf6-20b9fd1c7782"
      },
      "outputs": [
        {
          "output_type": "stream",
          "name": "stdout",
          "text": [
            "1\n",
            "see what happens when i don't understand the instructions\n",
            "2\n",
            "see what happens when i don't understand the instructions\n",
            "3\n",
            "see what happens when i don't understand the instructions\n",
            "4\n",
            "see what happens when i don't understand the instructions\n",
            "5\n",
            "see what happens when i don't understand the instructions\n",
            "6\n"
          ]
        }
      ],
      "source": [
        "x=0\n",
        "while x <= 6:\n",
        "  x+=1\n",
        "  print(x)\n",
        "  if x == 6:\n",
        "    break\n",
        "  else:\n",
        "    print(\"see what happens when i don't understand the instructions\")\n"
      ]
    },
    {
      "cell_type": "markdown",
      "metadata": {
        "id": "crITQNr_p2mG"
      },
      "source": [
        "#### 5. Write a Python program to calculate the sum and average of n integer numbers (input from the user). Input 0 to finish.\n"
      ]
    },
    {
      "cell_type": "code",
      "execution_count": 108,
      "metadata": {
        "colab": {
          "base_uri": "https://localhost:8080/",
          "height": 363
        },
        "id": "4NOpHMpop2mG",
        "outputId": "0c01dcf6-aed4-4182-eca1-50a8c8fdb130"
      },
      "outputs": [
        {
          "name": "stdout",
          "output_type": "stream",
          "text": [
            "Please enter an integer: i\n"
          ]
        },
        {
          "output_type": "error",
          "ename": "KeyboardInterrupt",
          "evalue": "ignored",
          "traceback": [
            "\u001b[0;31m---------------------------------------------------------------------------\u001b[0m",
            "\u001b[0;31mKeyboardInterrupt\u001b[0m                         Traceback (most recent call last)",
            "\u001b[0;32m<ipython-input-108-f493ed27dfb1>\u001b[0m in \u001b[0;36m<module>\u001b[0;34m\u001b[0m\n\u001b[1;32m      1\u001b[0m \u001b[0mnum1\u001b[0m\u001b[0;34m=\u001b[0m\u001b[0minput\u001b[0m\u001b[0;34m(\u001b[0m\u001b[0;34m\"Please enter an integer: \"\u001b[0m\u001b[0;34m)\u001b[0m\u001b[0;34m\u001b[0m\u001b[0;34m\u001b[0m\u001b[0m\n\u001b[1;32m      2\u001b[0m \u001b[0;32mwhile\u001b[0m \u001b[0mnum1\u001b[0m \u001b[0;34m!=\u001b[0m \u001b[0;36m0\u001b[0m\u001b[0;34m:\u001b[0m\u001b[0;34m\u001b[0m\u001b[0;34m\u001b[0m\u001b[0m\n\u001b[0;32m----> 3\u001b[0;31m   \u001b[0mprint\u001b[0m \u001b[0;34m(\u001b[0m\u001b[0mnum2\u001b[0m\u001b[0;34m=\u001b[0m\u001b[0minput\u001b[0m\u001b[0;34m(\u001b[0m\u001b[0;34m\"Please enter another integer: \"\u001b[0m\u001b[0;34m)\u001b[0m\u001b[0;34m)\u001b[0m\u001b[0;34m\u001b[0m\u001b[0;34m\u001b[0m\u001b[0m\n\u001b[0m",
            "\u001b[0;32m/usr/local/lib/python3.7/dist-packages/ipykernel/kernelbase.py\u001b[0m in \u001b[0;36mraw_input\u001b[0;34m(self, prompt)\u001b[0m\n\u001b[1;32m    861\u001b[0m             \u001b[0mself\u001b[0m\u001b[0;34m.\u001b[0m\u001b[0m_parent_ident\u001b[0m\u001b[0;34m,\u001b[0m\u001b[0;34m\u001b[0m\u001b[0;34m\u001b[0m\u001b[0m\n\u001b[1;32m    862\u001b[0m             \u001b[0mself\u001b[0m\u001b[0;34m.\u001b[0m\u001b[0m_parent_header\u001b[0m\u001b[0;34m,\u001b[0m\u001b[0;34m\u001b[0m\u001b[0;34m\u001b[0m\u001b[0m\n\u001b[0;32m--> 863\u001b[0;31m             \u001b[0mpassword\u001b[0m\u001b[0;34m=\u001b[0m\u001b[0;32mFalse\u001b[0m\u001b[0;34m,\u001b[0m\u001b[0;34m\u001b[0m\u001b[0;34m\u001b[0m\u001b[0m\n\u001b[0m\u001b[1;32m    864\u001b[0m         )\n\u001b[1;32m    865\u001b[0m \u001b[0;34m\u001b[0m\u001b[0m\n",
            "\u001b[0;32m/usr/local/lib/python3.7/dist-packages/ipykernel/kernelbase.py\u001b[0m in \u001b[0;36m_input_request\u001b[0;34m(self, prompt, ident, parent, password)\u001b[0m\n\u001b[1;32m    902\u001b[0m             \u001b[0;32mexcept\u001b[0m \u001b[0mKeyboardInterrupt\u001b[0m\u001b[0;34m:\u001b[0m\u001b[0;34m\u001b[0m\u001b[0;34m\u001b[0m\u001b[0m\n\u001b[1;32m    903\u001b[0m                 \u001b[0;31m# re-raise KeyboardInterrupt, to truncate traceback\u001b[0m\u001b[0;34m\u001b[0m\u001b[0;34m\u001b[0m\u001b[0;34m\u001b[0m\u001b[0m\n\u001b[0;32m--> 904\u001b[0;31m                 \u001b[0;32mraise\u001b[0m \u001b[0mKeyboardInterrupt\u001b[0m\u001b[0;34m(\u001b[0m\u001b[0;34m\"Interrupted by user\"\u001b[0m\u001b[0;34m)\u001b[0m \u001b[0;32mfrom\u001b[0m \u001b[0;32mNone\u001b[0m\u001b[0;34m\u001b[0m\u001b[0;34m\u001b[0m\u001b[0m\n\u001b[0m\u001b[1;32m    905\u001b[0m             \u001b[0;32mexcept\u001b[0m \u001b[0mException\u001b[0m \u001b[0;32mas\u001b[0m \u001b[0me\u001b[0m\u001b[0;34m:\u001b[0m\u001b[0;34m\u001b[0m\u001b[0;34m\u001b[0m\u001b[0m\n\u001b[1;32m    906\u001b[0m                 \u001b[0mself\u001b[0m\u001b[0;34m.\u001b[0m\u001b[0mlog\u001b[0m\u001b[0;34m.\u001b[0m\u001b[0mwarning\u001b[0m\u001b[0;34m(\u001b[0m\u001b[0;34m\"Invalid Message:\"\u001b[0m\u001b[0;34m,\u001b[0m \u001b[0mexc_info\u001b[0m\u001b[0;34m=\u001b[0m\u001b[0;32mTrue\u001b[0m\u001b[0;34m)\u001b[0m\u001b[0;34m\u001b[0m\u001b[0;34m\u001b[0m\u001b[0m\n",
            "\u001b[0;31mKeyboardInterrupt\u001b[0m: Interrupted by user"
          ]
        }
      ],
      "source": [
        "num1=input(\"Please enter an integer: \")\n",
        "while num1 != 0:\n",
        "  print (num2=input(\"Please enter another integer: \"))\n"
      ]
    }
  ],
  "metadata": {
    "kernelspec": {
      "display_name": "Python 3",
      "language": "python",
      "name": "python3"
    },
    "language_info": {
      "codemirror_mode": {
        "name": "ipython",
        "version": 3
      },
      "file_extension": ".py",
      "mimetype": "text/x-python",
      "name": "python",
      "nbconvert_exporter": "python",
      "pygments_lexer": "ipython3",
      "version": "3.7.4"
    },
    "colab": {
      "provenance": [],
      "include_colab_link": true
    }
  },
  "nbformat": 4,
  "nbformat_minor": 0
}
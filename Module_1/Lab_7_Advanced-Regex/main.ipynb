{
  "cells": [
    {
      "cell_type": "markdown",
      "metadata": {
        "id": "view-in-github",
        "colab_type": "text"
      },
      "source": [
        "<a href=\"https://colab.research.google.com/github/evanstrait/DAFT_1022/blob/main/Module_1/Lab_7_Advanced-Regex/main.ipynb\" target=\"_parent\"><img src=\"https://colab.research.google.com/assets/colab-badge.svg\" alt=\"Open In Colab\"/></a>"
      ]
    },
    {
      "cell_type": "markdown",
      "metadata": {
        "id": "A12XnhI2dnvP"
      },
      "source": [
        "# [Rr]eg[Ee]xp? Lab\n",
        "\n",
        "# Challenge 1- Regular Expressions\n",
        "\n",
        "Sometimes, we would like to perform more complex manipulations of our string. This is where regular expressions come in handy. In the cell below, return all characters that are upper case from the string specified below."
      ]
    },
    {
      "cell_type": "code",
      "execution_count": 2,
      "metadata": {
        "colab": {
          "base_uri": "https://localhost:8080/"
        },
        "id": "RsLJ2Z4udnvT",
        "outputId": "7018a4ed-26b2-4af5-d2a5-fb829487c716"
      },
      "outputs": [
        {
          "output_type": "stream",
          "name": "stdout",
          "text": [
            "['T', 'P']\n"
          ]
        }
      ],
      "source": [
        "import re\n",
        "\n",
        "poem = \"\"\"The apparition of these faces in the crowd;\n",
        "Petals on a wet, black bough.\"\"\"\n",
        "match = re.findall(r\"[A-Z]\", poem)\n",
        "print(match)\n"
      ]
    },
    {
      "cell_type": "markdown",
      "metadata": {
        "id": "iGf581uBdnvU"
      },
      "source": [
        "In the cell below, filter the list provided and return all elements of the list containing a number. To filter the list, use the `re.search` function. Check if the function does not return `None`. You can read more about the `re.search` function [here](https://docs.python.org/3/library/re.html)."
      ]
    },
    {
      "cell_type": "code",
      "execution_count": 75,
      "metadata": {
        "colab": {
          "base_uri": "https://localhost:8080/"
        },
        "id": "gA_3zXiddnvW",
        "outputId": "808d5a77-c3fa-49e3-9f87-3e13982b73c2"
      },
      "outputs": [
        {
          "output_type": "execute_result",
          "data": {
            "text/plain": [
              "['123abc', 'abc123', 'JohnSmith1', 'ABBY4']"
            ]
          },
          "metadata": {},
          "execution_count": 75
        }
      ],
      "source": [
        "data = ['123abc', 'abc123', 'JohnSmith1', 'ABBY4', 'JANE']\n",
        "[item for item in data if re.search('[0-9]+', item)]"
      ]
    },
    {
      "cell_type": "markdown",
      "metadata": {
        "id": "Ie-y9SX8dnvW"
      },
      "source": [
        "# Challenge 2 - Regular Expressions II\n",
        "\n",
        "In the cell below, filter the list provided to keep only strings containing at least one digit and at least one lower case letter. As in the previous question, use the `re.search` function and check that the result is not `None`.\n",
        "\n",
        "To read more about regular expressions, check out [this link](https://developers.google.com/edu/python/regular-expressions)."
      ]
    },
    {
      "cell_type": "code",
      "execution_count": 93,
      "metadata": {
        "colab": {
          "base_uri": "https://localhost:8080/"
        },
        "id": "O9Gb1-J4dnvX",
        "outputId": "59a550f3-63d2-42f6-c85b-c8cdaf61a723"
      },
      "outputs": [
        {
          "output_type": "execute_result",
          "data": {
            "text/plain": [
              "['123abc', 'abc123', 'JohnSmith1']"
            ]
          },
          "metadata": {},
          "execution_count": 93
        }
      ],
      "source": [
        "data = ['123abc', 'abc123', 'JohnSmith1', 'ABBY4', 'JANE']\n",
        "[item for item in data if re.search('[\"a-z\"]', item)]"
      ]
    },
    {
      "cell_type": "markdown",
      "metadata": {
        "id": "sjMAS5NBdnvY"
      },
      "source": [
        "# Challenge 3 -  Advanced Regular Expressions\n",
        "\n",
        "Complete the following set of exercises to solidify your knowledge of regular expressions."
      ]
    },
    {
      "cell_type": "code",
      "execution_count": 58,
      "metadata": {
        "id": "LYS4ln1TdnvZ"
      },
      "outputs": [],
      "source": [
        "import re"
      ]
    },
    {
      "cell_type": "markdown",
      "metadata": {
        "id": "5Zya2lw4dnvZ"
      },
      "source": [
        "### 1. Use a regular expression to find and extract all vowels in the following text."
      ]
    },
    {
      "cell_type": "code",
      "execution_count": null,
      "metadata": {
        "id": "_hPgtENEdnva"
      },
      "outputs": [],
      "source": [
        "text = \"This is going to be a sentence with a good number of vowels in it.\""
      ]
    },
    {
      "cell_type": "code",
      "execution_count": 94,
      "metadata": {
        "colab": {
          "base_uri": "https://localhost:8080/"
        },
        "id": "TFnVkPm-dnva",
        "outputId": "23e146fd-de26-4606-f881-b192cf3b7f23"
      },
      "outputs": [
        {
          "output_type": "execute_result",
          "data": {
            "text/plain": [
              "['i',\n",
              " 'i',\n",
              " 'o',\n",
              " 'i',\n",
              " 'o',\n",
              " 'e',\n",
              " 'a',\n",
              " 'e',\n",
              " 'e',\n",
              " 'e',\n",
              " 'i',\n",
              " 'a',\n",
              " 'o',\n",
              " 'o',\n",
              " 'u',\n",
              " 'e',\n",
              " 'o',\n",
              " 'o',\n",
              " 'e',\n",
              " 'i',\n",
              " 'i']"
            ]
          },
          "metadata": {},
          "execution_count": 94
        }
      ],
      "source": [
        "import re\n",
        "text = \"This is going to be a sentence with a good number of vowels in it.\"\n",
        "[item for item in text if re.search('[\"a,e,i,o,u\"]', item)]\n"
      ]
    },
    {
      "cell_type": "markdown",
      "metadata": {
        "id": "1WWvm084dnva"
      },
      "source": [
        "### 2. Use a regular expression to find and extract all occurrences and tenses (singular and plural) of the word \"puppy\" in the text below."
      ]
    },
    {
      "cell_type": "code",
      "execution_count": 101,
      "metadata": {
        "id": "cSi3aCh4dnvb"
      },
      "outputs": [],
      "source": []
    },
    {
      "cell_type": "code",
      "execution_count": 111,
      "metadata": {
        "colab": {
          "base_uri": "https://localhost:8080/"
        },
        "id": "9wYqRYIIdnvb",
        "outputId": "795b1dd7-9e24-4da5-8ac8-ef75e49a094e"
      },
      "outputs": [
        {
          "output_type": "stream",
          "name": "stdout",
          "text": [
            "['puppy', 'puppies', 'puppy']\n"
          ]
        }
      ],
      "source": [
        "text = \"The puppy saw all the rest of the puppies playing and wanted to join them. I saw this and wanted a puppy of my own!\"\n",
        "print(re.findall('puppies|puppy', text))"
      ]
    },
    {
      "cell_type": "markdown",
      "metadata": {
        "id": "4nlvtRb1dnvb"
      },
      "source": [
        "### 3. Use a regular expression to find and extract all tenses (present and past) of the word \"run\" in the text below."
      ]
    },
    {
      "cell_type": "code",
      "execution_count": 115,
      "metadata": {
        "id": "bAil2Oaednvb"
      },
      "outputs": [],
      "source": [
        "text = \"I ran the relay race the only way I knew how to run it.\""
      ]
    },
    {
      "cell_type": "code",
      "execution_count": 116,
      "metadata": {
        "colab": {
          "base_uri": "https://localhost:8080/"
        },
        "id": "FmZyfTkAdnvc",
        "outputId": "0aea03ea-d275-4c28-f251-4935ec1d1ccc"
      },
      "outputs": [
        {
          "output_type": "stream",
          "name": "stdout",
          "text": [
            "['ran', 'run']\n"
          ]
        }
      ],
      "source": [
        "print(re.findall('ran|run', text))"
      ]
    },
    {
      "cell_type": "markdown",
      "metadata": {
        "id": "JxLpOd4_dnvc"
      },
      "source": [
        "### 4. Use a regular expression to find and extract all words that begin with the letter \"r\" from the previous text."
      ]
    },
    {
      "cell_type": "code",
      "execution_count": 126,
      "metadata": {
        "colab": {
          "base_uri": "https://localhost:8080/"
        },
        "id": "xExYSVWFdnvc",
        "outputId": "122d6a07-f2f4-425f-cfa5-71ec8f9ea977"
      },
      "outputs": [
        {
          "output_type": "stream",
          "name": "stdout",
          "text": [
            "['ran', 'relay', 'race', 'run']\n"
          ]
        }
      ],
      "source": [
        "print(re.findall(\"r[a-z]*\", text))"
      ]
    },
    {
      "cell_type": "markdown",
      "metadata": {
        "id": "4_-nYWd1dnvd"
      },
      "source": [
        "### 5. Use a regular expression to find and substitute the letter \"i\" for the exclamation marks in the text below."
      ]
    },
    {
      "cell_type": "code",
      "execution_count": 127,
      "metadata": {
        "id": "-JaoTbJ7dnvd"
      },
      "outputs": [],
      "source": [
        "text = \"Th!s !s a sentence w!th spec!al characters !n !t.\""
      ]
    },
    {
      "cell_type": "code",
      "execution_count": 130,
      "metadata": {
        "colab": {
          "base_uri": "https://localhost:8080/",
          "height": 36
        },
        "id": "GCSUe7aidnvd",
        "outputId": "9644969b-4f34-48e6-b42e-66870f02d54d"
      },
      "outputs": [
        {
          "output_type": "execute_result",
          "data": {
            "text/plain": [
              "'This is a sentence with special characters in it.'"
            ],
            "application/vnd.google.colaboratory.intrinsic+json": {
              "type": "string"
            }
          },
          "metadata": {},
          "execution_count": 130
        }
      ],
      "source": [
        "re.sub(\"!\", \"i\", text) "
      ]
    },
    {
      "cell_type": "markdown",
      "metadata": {
        "id": "_69de0xddnvd"
      },
      "source": [
        "### 6. Use a regular expression to find and extract words longer than 4 characters in the text below."
      ]
    },
    {
      "cell_type": "code",
      "execution_count": 132,
      "metadata": {
        "id": "VyY-w1l7dnve"
      },
      "outputs": [],
      "source": [
        "text = \"This sentence has words of varying lengths.\""
      ]
    },
    {
      "cell_type": "code",
      "execution_count": 133,
      "metadata": {
        "colab": {
          "base_uri": "https://localhost:8080/"
        },
        "id": "Qgv0ibY6dnve",
        "outputId": "567790e9-13af-427f-a8aa-2ac26d73e68f"
      },
      "outputs": [
        {
          "output_type": "stream",
          "name": "stdout",
          "text": [
            "['sentence', 'words', 'varying', 'lengths']\n"
          ]
        }
      ],
      "source": [
        "print(re.findall(\"[a-z]{4,}\", text))"
      ]
    },
    {
      "cell_type": "markdown",
      "metadata": {
        "id": "qNHrWA1cdnvf"
      },
      "source": [
        "### 7. Use a regular expression to find and extract all occurrences of the letter \"b\", some letter(s), and then the letter \"t\" in the sentence below."
      ]
    },
    {
      "cell_type": "code",
      "execution_count": 138,
      "metadata": {
        "id": "64FsMzBadnvf"
      },
      "outputs": [],
      "source": [
        "text = \"I bet the robot couldn't beat the other bot with a bat, but instead it bit me.\""
      ]
    },
    {
      "cell_type": "code",
      "execution_count": 140,
      "metadata": {
        "colab": {
          "base_uri": "https://localhost:8080/"
        },
        "id": "ycMVZMq-dnvf",
        "outputId": "92eb12d5-b5fd-48c1-da82-b1cb883f2e48"
      },
      "outputs": [
        {
          "output_type": "stream",
          "name": "stdout",
          "text": [
            "['bet', 'bot', 'beat', 'bot', 'bat', 'but', 'bit']\n"
          ]
        }
      ],
      "source": [
        "print(re.findall(\"b+[a-z]*t\", text))"
      ]
    },
    {
      "cell_type": "markdown",
      "metadata": {
        "id": "7nkGAEtydnvf"
      },
      "source": [
        "### 8. Use a regular expression to find and extract all words that contain either \"ea\" or \"eo\" in them."
      ]
    },
    {
      "cell_type": "code",
      "execution_count": 152,
      "metadata": {
        "colab": {
          "base_uri": "https://localhost:8080/",
          "height": 130
        },
        "id": "4tHHosSsdnvf",
        "outputId": "5c1d2f0f-f9fd-4444-b70d-5352ff97ee5a"
      },
      "outputs": [
        {
          "output_type": "error",
          "ename": "SyntaxError",
          "evalue": "ignored",
          "traceback": [
            "\u001b[0;36m  File \u001b[0;32m\"<ipython-input-152-ef11dcc2d46f>\"\u001b[0;36m, line \u001b[0;32m2\u001b[0m\n\u001b[0;31m    print(re.findall(\"ea\" or \"eo\"*, text))\u001b[0m\n\u001b[0m                                  ^\u001b[0m\n\u001b[0;31mSyntaxError\u001b[0m\u001b[0;31m:\u001b[0m invalid syntax\n"
          ]
        }
      ],
      "source": [
        "text = \"During many of the peaks and troughs of history, the people living it didn't fully realize what was unfolding. But we all know we're navigating breathtaking history: Nearly every day could be — maybe will be — a book.\"\n",
        "print(re.findall(\"ea\" or \"eo\"*, text))"
      ]
    },
    {
      "cell_type": "code",
      "execution_count": null,
      "metadata": {
        "id": "7bfoQ6WGdnvg"
      },
      "outputs": [],
      "source": []
    },
    {
      "cell_type": "markdown",
      "metadata": {
        "id": "HimwOWe_dnvg"
      },
      "source": [
        "### 9. Use a regular expression to find and extract all the capitalized words in the text below individually."
      ]
    },
    {
      "cell_type": "code",
      "execution_count": null,
      "metadata": {
        "id": "yMbQDYXldnvg"
      },
      "outputs": [],
      "source": [
        "text = \"Teddy Roosevelt and Abraham Lincoln walk into a bar.\""
      ]
    },
    {
      "cell_type": "code",
      "execution_count": null,
      "metadata": {
        "id": "_LNyY9Iidnvh"
      },
      "outputs": [],
      "source": []
    },
    {
      "cell_type": "markdown",
      "metadata": {
        "id": "U4yff7Rfdnvh"
      },
      "source": [
        "### 10. Use a regular expression to find and extract all the sets of consecutive capitalized words in the text above."
      ]
    },
    {
      "cell_type": "code",
      "execution_count": null,
      "metadata": {
        "id": "Dc7T3outdnvh"
      },
      "outputs": [],
      "source": []
    },
    {
      "cell_type": "markdown",
      "metadata": {
        "id": "wDHtxFsxdnvh"
      },
      "source": [
        "### 11. Use a regular expression to find and extract all the quotes from the text below.\n",
        "\n",
        "*Hint: This one is a little more complex than the single quote example in the lesson because there are multiple quotes in the text.*"
      ]
    },
    {
      "cell_type": "code",
      "execution_count": null,
      "metadata": {
        "id": "H2f820IXdnvh"
      },
      "outputs": [],
      "source": [
        "text = 'Roosevelt says to Lincoln, \"I will bet you $50 I can get the bartender to give me a free drink.\" Lincoln says, \"I am in!\"'\n"
      ]
    },
    {
      "cell_type": "code",
      "execution_count": null,
      "metadata": {
        "id": "FfZIHfPRdnvi"
      },
      "outputs": [],
      "source": []
    },
    {
      "cell_type": "markdown",
      "metadata": {
        "id": "tdt-Ahsfdnvi"
      },
      "source": [
        "### 12. Use a regular expression to find and extract all the numbers from the text below."
      ]
    },
    {
      "cell_type": "code",
      "execution_count": null,
      "metadata": {
        "id": "zEhto4sPdnvi"
      },
      "outputs": [],
      "source": [
        "text = \"There were 30 students in the class. Of the 30 students, 14 were male and 16 were female. Only 10 students got A's on the exam.\"\n"
      ]
    },
    {
      "cell_type": "code",
      "execution_count": null,
      "metadata": {
        "id": "NsEQi1F4dnvi"
      },
      "outputs": [],
      "source": []
    },
    {
      "cell_type": "markdown",
      "metadata": {
        "id": "S0dYIwE_dnvi"
      },
      "source": [
        "### 13. Use a regular expression to find and extract all the social security numbers from the text below."
      ]
    },
    {
      "cell_type": "code",
      "execution_count": null,
      "metadata": {
        "id": "XTwtylvYdnvj"
      },
      "outputs": [],
      "source": [
        "text = \"\"\"\n",
        "Henry's social security number is 876-93-2289 and his phone number is (847)789-0984.\n",
        "Darlene's social security number is 098-32-5295 and her phone number is (987)222-0901.\n",
        "\"\"\""
      ]
    },
    {
      "cell_type": "code",
      "execution_count": null,
      "metadata": {
        "id": "mKAuzd4jdnvj"
      },
      "outputs": [],
      "source": []
    },
    {
      "cell_type": "markdown",
      "metadata": {
        "id": "4JuylnEednvj"
      },
      "source": [
        "### 14. Use a regular expression to find and extract all the phone numbers from the text below."
      ]
    },
    {
      "cell_type": "code",
      "execution_count": null,
      "metadata": {
        "id": "B8v3NX74dnvj"
      },
      "outputs": [],
      "source": []
    },
    {
      "cell_type": "markdown",
      "metadata": {
        "id": "6yz1pqe9dnvj"
      },
      "source": [
        "### 15. Use a regular expression to find and extract all the formatted numbers (both social security and phone) from the text below."
      ]
    },
    {
      "cell_type": "code",
      "execution_count": null,
      "metadata": {
        "id": "nSzz2Ps1dnvj"
      },
      "outputs": [],
      "source": []
    }
  ],
  "metadata": {
    "kernelspec": {
      "display_name": "Python 3",
      "language": "python",
      "name": "python3"
    },
    "language_info": {
      "codemirror_mode": {
        "name": "ipython",
        "version": 3
      },
      "file_extension": ".py",
      "mimetype": "text/x-python",
      "name": "python",
      "nbconvert_exporter": "python",
      "pygments_lexer": "ipython3",
      "version": "3.7.3"
    },
    "varInspector": {
      "cols": {
        "lenName": 16,
        "lenType": 16,
        "lenVar": 40
      },
      "kernels_config": {
        "python": {
          "delete_cmd_postfix": "",
          "delete_cmd_prefix": "del ",
          "library": "var_list.py",
          "varRefreshCmd": "print(var_dic_list())"
        },
        "r": {
          "delete_cmd_postfix": ") ",
          "delete_cmd_prefix": "rm(",
          "library": "var_list.r",
          "varRefreshCmd": "cat(var_dic_list()) "
        }
      },
      "types_to_exclude": [
        "module",
        "function",
        "builtin_function_or_method",
        "instance",
        "_Feature"
      ],
      "window_display": false
    },
    "colab": {
      "provenance": [],
      "include_colab_link": true
    }
  },
  "nbformat": 4,
  "nbformat_minor": 0
}
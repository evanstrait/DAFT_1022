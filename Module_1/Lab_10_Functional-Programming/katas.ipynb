{
  "nbformat": 4,
  "nbformat_minor": 0,
  "metadata": {
    "colab": {
      "provenance": [],
      "collapsed_sections": [],
      "include_colab_link": true
    },
    "kernelspec": {
      "name": "python3",
      "display_name": "Python 3"
    },
    "language_info": {
      "name": "python"
    }
  },
  "cells": [
    {
      "cell_type": "markdown",
      "metadata": {
        "id": "view-in-github",
        "colab_type": "text"
      },
      "source": [
        "<a href=\"https://colab.research.google.com/github/evanstrait/DAFT_1022/blob/main/Module_1/Lab_10_Functional-Programming/katas.ipynb\" target=\"_parent\"><img src=\"https://colab.research.google.com/assets/colab-badge.svg\" alt=\"Open In Colab\"/></a>"
      ]
    },
    {
      "cell_type": "markdown",
      "source": [
        "![logo_ironhack_blue 7](https://user-images.githubusercontent.com/23629340/40541063-a07a0a8a-601a-11e8-91b5-2f13e4e6b441.png)\n",
        "\n",
        "# Lab 10 | Functional programming\n",
        "\n",
        "## Introduction\n",
        "\n",
        "Functional programming is a programming paradigm where programs are constructed by applying and composing functions. Let's practice on this approach!\n",
        "\n",
        "\n",
        "## Getting Started\n",
        "Register [here] (https://www.codewars.com/)  and [here] (https://www.codingame.com/).\n",
        "\n",
        "You are more than suggested to practice with katas on those websites, it helps you to set up your mind and improve your coding skills.\n",
        "\n",
        "As they say: 5 katas per day keep the coronavirus away (Actually it is truth, since you spend more time in front of your laptops :D)\n",
        "\n",
        "And as for now - please join the kata challenge.\n",
        "* [Counting Sheeps] (https://www.codewars.com/kata/54edbc7200b811e956000556)\n",
        "* [Removing elements] (https://www.codewars.com/kata/5769b3802ae6f8e4890009d2)\n",
        "* [Convert number to reversed array of digits](https://www.codewars.com/kata/5583090cbe83f4fd8c000051)\n",
        "* [Square every digit] (https://www.codewars.com/kata/546e2562b03326a88e000020)\n",
        "* [Counting Total Occurence Of Specific Digits](https://www.codewars.com/kata/56311e4fdd811616810000ce)\n",
        "\n",
        "\n",
        "## Deliverables\n",
        "\n",
        "- `katas.ipynb` with solved katas.\n",
        "\n",
        "## Submission\n",
        "\n",
        "Upon completion, add your deliverables to git. Then commit git and push your branch to the remote."
      ],
      "metadata": {
        "id": "bRckGPt-UO5D"
      }
    },
    {
      "cell_type": "markdown",
      "source": [
        "**Counting Sheep...**\n",
        "\n",
        "Consider an array/list of sheep where some sheep may be missing from their place. We need a function that counts the number of sheep present in the array (true means present)."
      ],
      "metadata": {
        "id": "SrgZlR9pUrX5"
      }
    },
    {
      "cell_type": "code",
      "source": [
        "[True,  True,  True,  False,\n",
        "  True,  True,  True,  True ,\n",
        "  True,  False, True,  False,\n",
        "  True,  False, False, True ,\n",
        "  True,  True,  True,  True ,\n",
        "  False, False, True,  True]\n",
        "\n",
        "def count_sheeps(sheep):\n",
        "    return sheep.count(True)"
      ],
      "metadata": {
        "id": "zkXKuDAGUy7J"
      },
      "execution_count": null,
      "outputs": []
    },
    {
      "cell_type": "markdown",
      "source": [
        "**Removing elements** \n",
        "\n",
        "Take an array and remove every second element from the array. Always keep the first element and start removing with the next element."
      ],
      "metadata": {
        "id": "U3_TRetodFQM"
      }
    },
    {
      "cell_type": "code",
      "source": [
        "def remove_every_other(my_list):\n",
        "    return [i for e,i in enumerate(my_list) if e % 2 == 0]\n",
        "    pass\n",
        "\n",
        "print(y)"
      ],
      "metadata": {
        "colab": {
          "base_uri": "https://localhost:8080/"
        },
        "id": "IO3xabaJfKhR",
        "outputId": "ad1c4022-6dec-44df-e897-ade25b43c683"
      },
      "execution_count": null,
      "outputs": [
        {
          "output_type": "stream",
          "name": "stdout",
          "text": [
            "['Keep', 'Keep', 'Keep', 'Keep', 'Keep', 'Keep', 'Keep']\n"
          ]
        }
      ]
    },
    {
      "cell_type": "markdown",
      "source": [
        "**Convert number to reversed array of digits**\n",
        "\n",
        "Given a random non-negative number, you have to return the digits of this number within an array in reverse order.\n",
        "\n",
        "Example(Input => Output):\n",
        "35231 => [1,3,2,5,3]\n",
        "0 => [0]"
      ],
      "metadata": {
        "id": "jxOPAMK1hptB"
      }
    },
    {
      "cell_type": "code",
      "source": [
        "def digitize(n):\n",
        "    return [int(x) for x in str(n)[::-1]]"
      ],
      "metadata": {
        "id": "6p7A7fwehqQ7"
      },
      "execution_count": null,
      "outputs": []
    },
    {
      "cell_type": "markdown",
      "source": [
        "**Square every digit**\n",
        "\n",
        "Welcome. In this kata, you are asked to square every digit of a number and concatenate them.\n",
        "\n",
        "For example, if we run 9119 through the function, 811181 will come out, because 92 is 81 and 12 is 1.\n",
        "\n",
        "Note: The function accepts an integer and returns an integer"
      ],
      "metadata": {
        "id": "UGBDDRsknQt3"
      }
    },
    {
      "cell_type": "code",
      "source": [
        "def square_digits(num):\n",
        "    return int(\"\".join([str(int(n)**2) for n in str(num)]))\n",
        "    pass"
      ],
      "metadata": {
        "id": "rBZtIOAinWg6"
      },
      "execution_count": null,
      "outputs": []
    },
    {
      "cell_type": "markdown",
      "source": [
        "**Counting Total Occurence Of Specific Digits**\n",
        "\n"
      ],
      "metadata": {
        "id": "WxN-65jzqgLB"
      }
    },
    {
      "cell_type": "code",
      "source": [
        "d = 2\n",
        "n = 214215421\n",
        "\n",
        "def countoccurrences(n, d):\n",
        "    count = 0\n",
        "    while (n > 0):\n",
        "        if(n % 10 == d):\n",
        "            count = count + 1\n",
        "        n = n // 10\n",
        "    return count\n",
        "\n",
        "print(countoccurrences(n, d))"
      ],
      "metadata": {
        "colab": {
          "base_uri": "https://localhost:8080/"
        },
        "id": "bryjR8Giqpjs",
        "outputId": "f833b55c-e012-49e1-982b-10e21ef62c62"
      },
      "execution_count": null,
      "outputs": [
        {
          "output_type": "stream",
          "name": "stdout",
          "text": [
            "3\n"
          ]
        }
      ]
    }
  ]
}
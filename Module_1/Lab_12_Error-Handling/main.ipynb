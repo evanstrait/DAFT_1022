{
  "cells": [
    {
      "cell_type": "markdown",
      "metadata": {
        "id": "view-in-github",
        "colab_type": "text"
      },
      "source": [
        "<a href=\"https://colab.research.google.com/github/evanstrait/DAFT_1022/blob/main/Module_1/Lab_12_Error-Handling/main.ipynb\" target=\"_parent\"><img src=\"https://colab.research.google.com/assets/colab-badge.svg\" alt=\"Open In Colab\"/></a>"
      ]
    },
    {
      "cell_type": "markdown",
      "metadata": {
        "id": "uZ9IdQL-c-L7"
      },
      "source": [
        "# Before your start:\n",
        "- Read the README.md file\n",
        "- Comment as much as you can and use the resources in the README.md file\n",
        "- Happy learning!"
      ]
    },
    {
      "cell_type": "code",
      "execution_count": 1,
      "metadata": {
        "id": "zLZxJVCJc-L8"
      },
      "outputs": [],
      "source": [
        "# Libraries\n",
        "import math"
      ]
    },
    {
      "cell_type": "markdown",
      "metadata": {
        "id": "h_g0uwb9c-L9"
      },
      "source": [
        "# Challenge 1 - Handling Errors Using `if` Statements\n",
        "\n",
        "In many cases, we are able to identify issues that may come up in our code and handle those handlful of issues with an `if` statment. Sometimes we would like to handle different types of inputs and are aware that later in the code, we will have to write two different branches of code for the two different cases we allowed in the beginning.\n",
        "\n",
        "In the 3 cells below, add an `if` statment that will handle both types of input allowed in the functions."
      ]
    },
    {
      "cell_type": "code",
      "execution_count": 12,
      "metadata": {
        "colab": {
          "base_uri": "https://localhost:8080/"
        },
        "id": "niGQoN9Ic-L-",
        "outputId": "83b39dee-5261-4ad8-d175-b0a0093caf17"
      },
      "outputs": [
        {
          "output_type": "execute_result",
          "data": {
            "text/plain": [
              "1.0"
            ]
          },
          "metadata": {},
          "execution_count": 12
        }
      ],
      "source": [
        "# Modify the code below to handle positive and negative numbers by adding an if statement and performing a transformation:\n",
        "\n",
        "def sqrt_for_all(x):\n",
        "  if x < 0:\n",
        "   return math.sqrt(x*-1)\n",
        "  else:\n",
        "    return math.sqrt(x)\n",
        "\n",
        "sqrt_for_all(-1)"
      ]
    },
    {
      "cell_type": "code",
      "execution_count": 17,
      "metadata": {
        "colab": {
          "base_uri": "https://localhost:8080/"
        },
        "id": "CBIfePaXc-L-",
        "outputId": "51d58832-764f-4a05-b9a6-44792e2e7eec"
      },
      "outputs": [
        {
          "output_type": "execute_result",
          "data": {
            "text/plain": [
              "0"
            ]
          },
          "metadata": {},
          "execution_count": 17
        }
      ],
      "source": [
        "# Modify the code below to handle zero as well. In the case of zero, return zero\n",
        "\n",
        "def divide(x, y):\n",
        "  if y == 0 or x == 0:\n",
        "    return 0\n",
        "  else:\n",
        "    return x / y\n",
        "\n",
        "divide(5, 0)"
      ]
    },
    {
      "cell_type": "code",
      "execution_count": 25,
      "metadata": {
        "colab": {
          "base_uri": "https://localhost:8080/"
        },
        "id": "CccRoG6uc-L-",
        "outputId": "2908074e-1e9d-4518-a729-390fba5d1157"
      },
      "outputs": [
        {
          "output_type": "execute_result",
          "data": {
            "text/plain": [
              "[11]"
            ]
          },
          "metadata": {},
          "execution_count": 25
        }
      ],
      "source": [
        "# Modify the function below that it will take either an number and a list or two numbers. \n",
        "# If we take two numbers, add them together and return a list of length 1. \n",
        "# Otherwise, add the number to every element of the list and return the resulting list\n",
        "\n",
        "def add_elements(a, l):\n",
        "  if a == list or l == list:\n",
        "    return [a]+[l]\n",
        "  else:\n",
        "    return [a+l]\n",
        "            \n",
        "add_elements(5, 6)"
      ]
    },
    {
      "cell_type": "markdown",
      "metadata": {
        "id": "nEf-7jggc-L-"
      },
      "source": [
        "# Challenge 2 - Fixing Errors to Get Code to Run\n",
        "\n",
        "Sometimes the error is not caused by the input but by the code itself. In the 2 following cells below, examine the error and correct the code to avoid the error."
      ]
    },
    {
      "cell_type": "code",
      "execution_count": 27,
      "metadata": {
        "colab": {
          "base_uri": "https://localhost:8080/"
        },
        "id": "XAiezAMxc-L_",
        "outputId": "774e1776-b5ac-427c-a511-6b9d8f7548bc"
      },
      "outputs": [
        {
          "output_type": "execute_result",
          "data": {
            "text/plain": [
              "14"
            ]
          },
          "metadata": {},
          "execution_count": 27
        }
      ],
      "source": [
        "# Modify the code below:\n",
        "\n",
        "l = [1,2,3,4]\n",
        "\n",
        "sum([element + 1 for element in l])"
      ]
    },
    {
      "cell_type": "code",
      "execution_count": 29,
      "metadata": {
        "colab": {
          "base_uri": "https://localhost:8080/"
        },
        "id": "NT-0dkoJc-L_",
        "outputId": "e697a057-1942-489c-941f-6764eec1dbfe"
      },
      "outputs": [
        {
          "output_type": "stream",
          "name": "stdout",
          "text": [
            "The current element in the loop is1\n",
            "The current element in the loop is2\n",
            "The current element in the loop is3\n",
            "The current element in the loop is4\n"
          ]
        }
      ],
      "source": [
        "# Modify the code below:\n",
        "\n",
        "l = [1,2,3,4]\n",
        "\n",
        "for element in l:\n",
        "    print(\"The current element in the loop is\" + str(element))"
      ]
    },
    {
      "cell_type": "markdown",
      "metadata": {
        "id": "m1Rslf16c-L_"
      },
      "source": [
        "# Bonus Challenge - Raise Errors on Your Own\n",
        "\n",
        "There are cases where you need to alert your users of a problem even if the input will not immediately produce an error. In these cases you may want to throw an error yourself to bring attention to the problem. In the 2 cells below, write the functions as directed and add the appropriate errors using the `raise` clause. Make sure to add a meaningful error message."
      ]
    },
    {
      "cell_type": "code",
      "execution_count": null,
      "metadata": {
        "id": "mYmLDqLbc-L_"
      },
      "outputs": [],
      "source": [
        "def log_square(x):\n",
        "    \"\"\"\n",
        "    This function takes a numeric value and returns the \n",
        "    natural log of the square of the number.\n",
        "    The function raises an error if the number is equal to zero.\n",
        "    Use the math.log function in this funtion.\n",
        "    \n",
        "    Input: Real number\n",
        "    Output: Real number or error\n",
        "    \n",
        "    Sample Input: 5\n",
        "    Sample Output: 3.21887\n",
        "    \"\"\"\n",
        "    \n",
        "    # Your code here:"
      ]
    },
    {
      "cell_type": "code",
      "execution_count": null,
      "metadata": {
        "id": "5RCaejEoc-MA"
      },
      "outputs": [],
      "source": [
        "def check_capital(x):\n",
        "    \"\"\"\n",
        "    This function returns true if the string contains \n",
        "    at least one capital letter and throws an error otherwise.\n",
        "    \n",
        "    Input: String\n",
        "    Output: Bool or error message\n",
        "    \n",
        "    Sample Input: 'John'\n",
        "    Sample Output: True\n",
        "    \"\"\"\n",
        "    \n",
        "    # Your code here:"
      ]
    }
  ],
  "metadata": {
    "kernelspec": {
      "display_name": "Python 3",
      "language": "python",
      "name": "python3"
    },
    "language_info": {
      "codemirror_mode": {
        "name": "ipython",
        "version": 3
      },
      "file_extension": ".py",
      "mimetype": "text/x-python",
      "name": "python",
      "nbconvert_exporter": "python",
      "pygments_lexer": "ipython3",
      "version": "3.7.2"
    },
    "colab": {
      "provenance": [],
      "include_colab_link": true
    }
  },
  "nbformat": 4,
  "nbformat_minor": 0
}
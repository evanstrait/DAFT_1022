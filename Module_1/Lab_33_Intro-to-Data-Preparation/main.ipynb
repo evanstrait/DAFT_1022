{
 "cells": [
  {
   "cell_type": "code",
   "execution_count": 1151,
   "id": "192ded17",
   "metadata": {},
   "outputs": [],
   "source": [
    "import pandas as pd\n",
    "import numpy as np"
   ]
  },
  {
   "cell_type": "code",
   "execution_count": 1152,
   "id": "918f4927",
   "metadata": {},
   "outputs": [
    {
     "data": {
      "text/html": [
       "<div>\n",
       "<style scoped>\n",
       "    .dataframe tbody tr th:only-of-type {\n",
       "        vertical-align: middle;\n",
       "    }\n",
       "\n",
       "    .dataframe tbody tr th {\n",
       "        vertical-align: top;\n",
       "    }\n",
       "\n",
       "    .dataframe thead th {\n",
       "        text-align: right;\n",
       "    }\n",
       "</style>\n",
       "<table border=\"1\" class=\"dataframe\">\n",
       "  <thead>\n",
       "    <tr style=\"text-align: right;\">\n",
       "      <th></th>\n",
       "      <th>TransactionID</th>\n",
       "      <th>ClientID</th>\n",
       "      <th>BirthYear</th>\n",
       "      <th>Amount</th>\n",
       "      <th>Profession</th>\n",
       "      <th>Department</th>\n",
       "      <th>Risk</th>\n",
       "    </tr>\n",
       "  </thead>\n",
       "  <tbody>\n",
       "    <tr>\n",
       "      <th>0</th>\n",
       "      <td>1</td>\n",
       "      <td>34982</td>\n",
       "      <td>2013.0</td>\n",
       "      <td>12900</td>\n",
       "      <td>Student</td>\n",
       "      <td>78</td>\n",
       "      <td>Low</td>\n",
       "    </tr>\n",
       "    <tr>\n",
       "      <th>1</th>\n",
       "      <td>2</td>\n",
       "      <td>34983</td>\n",
       "      <td>2015.0</td>\n",
       "      <td>1230</td>\n",
       "      <td>barmen</td>\n",
       "      <td>78</td>\n",
       "      <td>High</td>\n",
       "    </tr>\n",
       "    <tr>\n",
       "      <th>2</th>\n",
       "      <td>3</td>\n",
       "      <td>34984</td>\n",
       "      <td>1945.0</td>\n",
       "      <td>3450</td>\n",
       "      <td>student</td>\n",
       "      <td>78</td>\n",
       "      <td>Medium</td>\n",
       "    </tr>\n",
       "    <tr>\n",
       "      <th>3</th>\n",
       "      <td>4</td>\n",
       "      <td>34985</td>\n",
       "      <td>1923.0</td>\n",
       "      <td>5670</td>\n",
       "      <td>manager</td>\n",
       "      <td>78</td>\n",
       "      <td>Low</td>\n",
       "    </tr>\n",
       "    <tr>\n",
       "      <th>4</th>\n",
       "      <td>5</td>\n",
       "      <td>34986</td>\n",
       "      <td>1978.0</td>\n",
       "      <td>7890</td>\n",
       "      <td>hr</td>\n",
       "      <td>78</td>\n",
       "      <td>High</td>\n",
       "    </tr>\n",
       "  </tbody>\n",
       "</table>\n",
       "</div>"
      ],
      "text/plain": [
       "   TransactionID  ClientID  BirthYear  Amount Profession  Department    Risk\n",
       "0              1     34982     2013.0   12900    Student          78     Low\n",
       "1              2     34983     2015.0    1230     barmen          78    High\n",
       "2              3     34984     1945.0    3450    student          78  Medium\n",
       "3              4     34985     1923.0    5670    manager          78     Low\n",
       "4              5     34986     1978.0    7890         hr          78    High"
      ]
     },
     "execution_count": 1152,
     "metadata": {},
     "output_type": "execute_result"
    }
   ],
   "source": [
    "data = pd.read_excel('./data/example_data_cleaning.xlsx')\n",
    "\n",
    "df = pd.DataFrame(data)\n",
    "df.head(5)"
   ]
  },
  {
   "cell_type": "code",
   "execution_count": 1153,
   "id": "e20f18e0",
   "metadata": {},
   "outputs": [
    {
     "data": {
      "text/html": [
       "<div>\n",
       "<style scoped>\n",
       "    .dataframe tbody tr th:only-of-type {\n",
       "        vertical-align: middle;\n",
       "    }\n",
       "\n",
       "    .dataframe tbody tr th {\n",
       "        vertical-align: top;\n",
       "    }\n",
       "\n",
       "    .dataframe thead th {\n",
       "        text-align: right;\n",
       "    }\n",
       "</style>\n",
       "<table border=\"1\" class=\"dataframe\">\n",
       "  <thead>\n",
       "    <tr style=\"text-align: right;\">\n",
       "      <th></th>\n",
       "      <th>TransactionID</th>\n",
       "      <th>ClientID</th>\n",
       "      <th>BirthYear</th>\n",
       "      <th>Amount</th>\n",
       "      <th>Department</th>\n",
       "    </tr>\n",
       "  </thead>\n",
       "  <tbody>\n",
       "    <tr>\n",
       "      <th>count</th>\n",
       "      <td>30.000000</td>\n",
       "      <td>30.000000</td>\n",
       "      <td>28.000000</td>\n",
       "      <td>3.000000e+01</td>\n",
       "      <td>30.0</td>\n",
       "    </tr>\n",
       "    <tr>\n",
       "      <th>mean</th>\n",
       "      <td>15.500000</td>\n",
       "      <td>34993.833333</td>\n",
       "      <td>1968.316327</td>\n",
       "      <td>1.010097e+05</td>\n",
       "      <td>78.0</td>\n",
       "    </tr>\n",
       "    <tr>\n",
       "      <th>std</th>\n",
       "      <td>8.803408</td>\n",
       "      <td>8.132876</td>\n",
       "      <td>27.963867</td>\n",
       "      <td>4.342616e+05</td>\n",
       "      <td>0.0</td>\n",
       "    </tr>\n",
       "    <tr>\n",
       "      <th>min</th>\n",
       "      <td>1.000000</td>\n",
       "      <td>34982.000000</td>\n",
       "      <td>1923.000000</td>\n",
       "      <td>1.230000e+03</td>\n",
       "      <td>78.0</td>\n",
       "    </tr>\n",
       "    <tr>\n",
       "      <th>25%</th>\n",
       "      <td>8.250000</td>\n",
       "      <td>34987.250000</td>\n",
       "      <td>1944.714286</td>\n",
       "      <td>1.233000e+04</td>\n",
       "      <td>78.0</td>\n",
       "    </tr>\n",
       "    <tr>\n",
       "      <th>50%</th>\n",
       "      <td>15.500000</td>\n",
       "      <td>34991.500000</td>\n",
       "      <td>1967.000000</td>\n",
       "      <td>1.899000e+04</td>\n",
       "      <td>78.0</td>\n",
       "    </tr>\n",
       "    <tr>\n",
       "      <th>75%</th>\n",
       "      <td>22.750000</td>\n",
       "      <td>34999.750000</td>\n",
       "      <td>1988.000000</td>\n",
       "      <td>2.953500e+04</td>\n",
       "      <td>78.0</td>\n",
       "    </tr>\n",
       "    <tr>\n",
       "      <th>max</th>\n",
       "      <td>30.000000</td>\n",
       "      <td>35008.000000</td>\n",
       "      <td>2017.000000</td>\n",
       "      <td>2.399090e+06</td>\n",
       "      <td>78.0</td>\n",
       "    </tr>\n",
       "  </tbody>\n",
       "</table>\n",
       "</div>"
      ],
      "text/plain": [
       "       TransactionID      ClientID    BirthYear        Amount  Department\n",
       "count      30.000000     30.000000    28.000000  3.000000e+01        30.0\n",
       "mean       15.500000  34993.833333  1968.316327  1.010097e+05        78.0\n",
       "std         8.803408      8.132876    27.963867  4.342616e+05         0.0\n",
       "min         1.000000  34982.000000  1923.000000  1.230000e+03        78.0\n",
       "25%         8.250000  34987.250000  1944.714286  1.233000e+04        78.0\n",
       "50%        15.500000  34991.500000  1967.000000  1.899000e+04        78.0\n",
       "75%        22.750000  34999.750000  1988.000000  2.953500e+04        78.0\n",
       "max        30.000000  35008.000000  2017.000000  2.399090e+06        78.0"
      ]
     },
     "execution_count": 1153,
     "metadata": {},
     "output_type": "execute_result"
    }
   ],
   "source": [
    "#1.\tProvide the descriptive statistics for the dataset\n",
    "stat = df.describe()\n",
    "stat"
   ]
  },
  {
   "cell_type": "code",
   "execution_count": 1154,
   "id": "494d0853",
   "metadata": {},
   "outputs": [],
   "source": [
    "# Department has a single value 78, so we can drop it.\n",
    "df.drop(\"Department\", axis = 1, inplace = True)"
   ]
  },
  {
   "cell_type": "code",
   "execution_count": 1155,
   "id": "0c0b0d40",
   "metadata": {},
   "outputs": [
    {
     "data": {
      "text/plain": [
       "TransactionID    0\n",
       "ClientID         0\n",
       "BirthYear        2\n",
       "Amount           0\n",
       "Profession       2\n",
       "Risk             0\n",
       "dtype: int64"
      ]
     },
     "execution_count": 1155,
     "metadata": {},
     "output_type": "execute_result"
    }
   ],
   "source": [
    "#2.\tCalculate the number of missing values.\n",
    "mv=df.isna().sum()\n",
    "mv"
   ]
  },
  {
   "cell_type": "code",
   "execution_count": 1156,
   "id": "710dbec3",
   "metadata": {},
   "outputs": [],
   "source": [
    "# TransactionID\n",
    "\n",
    "# Check if all values are unique\n",
    "df[\"TransactionID\"].is_unique\n",
    "\n",
    "# True: OK with TransactionID\n",
    "\n",
    "# Make it index\n",
    "df.set_index(\"TransactionID\", inplace = True)"
   ]
  },
  {
   "cell_type": "code",
   "execution_count": 1157,
   "id": "2bcb3d77",
   "metadata": {},
   "outputs": [],
   "source": [
    "#1. BirthYear\n",
    "\n",
    "df1 = df.copy()"
   ]
  },
  {
   "cell_type": "code",
   "execution_count": 1158,
   "id": "23fedd8e",
   "metadata": {},
   "outputs": [
    {
     "name": "stdout",
     "output_type": "stream",
     "text": [
      "True\n"
     ]
    }
   ],
   "source": [
    "#1.1. Completeness\n",
    "\n",
    "# Extract list of ClientID with missing birth years\n",
    "clientid_missing_birthyear = list(df1.loc[df1[\"BirthYear\"].isna(), \"ClientID\"])\n",
    "\n",
    "# Complete missing birth years with max BirthYear for the same clientid\n",
    "for clientid in clientid_missing_birthyear:\n",
    "    # Get max BirthYear\n",
    "    max_birthyear = df1.loc[df1[\"ClientID\"] == clientid][\"BirthYear\"].max()\n",
    "    # Fill missing values\n",
    "    df1.loc[(df1[\"ClientID\"] == clientid) & (df1[\"BirthYear\"].isna()), \"BirthYear\"] = max_birthyear\n",
    "    \n",
    "# Check if BirthYear is now complete\n",
    "print(df1[\"BirthYear\"].isna().sum() == 0)"
   ]
  },
  {
   "cell_type": "code",
   "execution_count": 1159,
   "id": "982ada7d",
   "metadata": {},
   "outputs": [
    {
     "name": "stdout",
     "output_type": "stream",
     "text": [
      "True\n"
     ]
    }
   ],
   "source": [
    "#1.2. Consistency  \n",
    "\n",
    "# Extract list of ClientID with more than a single birth year\n",
    "nb_birthyears_clientid = df1.groupby(\"ClientID\")['BirthYear'].nunique() > 1\n",
    "clientid_several_birthyears = set(nb_birthyears_clientid[nb_birthyears_clientid == True].index)\n",
    "\n",
    "# Complete with max mode (if several modes)\n",
    "for clientid in clientid_several_birthyears:\n",
    "    # Get mode\n",
    "    maxmode_birthyear = df1.loc[df1[\"ClientID\"] == clientid][\"BirthYear\"].mode().max()\n",
    "    # Fill values\n",
    "    df1.loc[(df1[\"ClientID\"] == clientid) & (df1[\"BirthYear\"] != maxmode_birthyear), \"BirthYear\"] = maxmode_birthyear\n",
    "\n",
    "#Check if BirthYear is now consistent\n",
    "print(all(df1.groupby(\"ClientID\")['BirthYear'].nunique() == 1))"
   ]
  },
  {
   "cell_type": "code",
   "execution_count": 1160,
   "id": "fbcb4c05",
   "metadata": {},
   "outputs": [],
   "source": [
    "#1.3. Outliers\n",
    "\n",
    "stats_df1 = df1.describe().transpose()\n",
    "stats_df1[\"IQR\"] = stats_df1['75%'] - stats_df1['25%']\n",
    "cutoff_birthyear = stats_df1.loc[\"BirthYear\", \"IQR\"] * 0.5\n",
    "lower_year = stats_df1.loc[\"BirthYear\", \"25%\"] - cutoff_birthyear\n",
    "upper_year = stats_df1.loc[\"BirthYear\", \"75%\"] + cutoff_birthyear\n",
    "\n",
    "# ~ to invert mask\n",
    "outliers_birthyear = df1.loc[~(df1[\"BirthYear\"].between(lower_year, upper_year))]\n",
    "df1.drop(outliers_birthyear.index, axis = 0, inplace = True)"
   ]
  },
  {
   "cell_type": "code",
   "execution_count": 1161,
   "id": "5e834501",
   "metadata": {},
   "outputs": [],
   "source": [
    "#2. Profession\n",
    "\n",
    "df2 = df1.copy()"
   ]
  },
  {
   "cell_type": "code",
   "execution_count": 1162,
   "id": "ab053e8a",
   "metadata": {},
   "outputs": [
    {
     "name": "stdout",
     "output_type": "stream",
     "text": [
      "True\n"
     ]
    }
   ],
   "source": [
    "#2.1. Completeness\n",
    "\n",
    "# Extract list of ClientID with missing Profession\n",
    "clientid_missing_prof = set(df2.loc[df2[\"Profession\"].isna(), \"ClientID\"])\n",
    "\n",
    "# Complete missing birth years with mode Profession for the same clientid\n",
    "for clientid in clientid_missing_prof:\n",
    "    # Get mode Profession\n",
    "    mode_prof = list(df2.loc[df2[\"ClientID\"] == clientid][\"Profession\"].mode(dropna = True))\n",
    "    # Fill missing values\n",
    "    df2.loc[(df2[\"ClientID\"] == clientid) & (df2[\"Profession\"].isna()), \"Profession\"] = mode_prof[0]\n",
    "\n",
    "# Check if Profession is now complete\n",
    "print(df1[\"BirthYear\"].isna().sum() == 0)"
   ]
  },
  {
   "cell_type": "code",
   "execution_count": 1163,
   "id": "c4a3c0eb",
   "metadata": {},
   "outputs": [
    {
     "name": "stdout",
     "output_type": "stream",
     "text": [
      "True\n"
     ]
    }
   ],
   "source": [
    "#2.2. Consistency\n",
    "\n",
    "# Extract list of ClientID with more than a single profession\n",
    "nb_prof_clientid = df2.groupby(\"ClientID\")['Profession'].nunique() > 1\n",
    "clientid_several_profs = set(nb_prof_clientid[nb_prof_clientid == True].index)\n",
    "\n",
    "# Complete with mode\n",
    "for clientid in clientid_several_profs:\n",
    "    # Get mode Profession\n",
    "    mode_prof = df2.loc[df2[\"ClientID\"] == clientid][\"Profession\"].mode()\n",
    "    # Fill values with first mode\n",
    "    df2.loc[(df2[\"ClientID\"] == clientid) & (df2[\"Profession\"] != mode_prof[0]), \"Profession\"] = mode_prof[0]\n",
    "\n",
    "\n",
    "#Check if Profession is now consistent\n",
    "print(all(df2.groupby(\"ClientID\")['Profession'].nunique() == 1))"
   ]
  },
  {
   "cell_type": "code",
   "execution_count": 1164,
   "id": "1ef39974",
   "metadata": {},
   "outputs": [
    {
     "data": {
      "text/plain": [
       "{'student': 'student',\n",
       " 'hr': 'hr',\n",
       " 'Manager': 'Manager',\n",
       " 'HR': 'HR',\n",
       " 'BDM': 'BDM',\n",
       " 'researcher': 'researcher',\n",
       " 'professor': 'professor',\n",
       " 'Hairdresser': 'Hairdresser',\n",
       " 'etudient': 'etudient',\n",
       " 'barmen': 'barmen',\n",
       " 'manager': 'manager',\n",
       " 'bdm': 'bdm'}"
      ]
     },
     "execution_count": 1164,
     "metadata": {},
     "output_type": "execute_result"
    }
   ],
   "source": [
    "#2.3. Homogeneity\n",
    "\n",
    "# Dictionary of Profession: goal is to get it in the form {original_prof:clean_prof}\n",
    "\n",
    "# Original dictionary\n",
    "prof_dict = {prof:prof for prof in df2.Profession.unique()}\n",
    "prof_dict"
   ]
  },
  {
   "cell_type": "code",
   "execution_count": 1165,
   "id": "d8f51eaa",
   "metadata": {},
   "outputs": [
    {
     "data": {
      "text/plain": [
       "{'student': 'student',\n",
       " 'hr': 'hr',\n",
       " 'Manager': 'manager',\n",
       " 'HR': 'hr',\n",
       " 'BDM': 'bdm',\n",
       " 'researcher': 'researcher',\n",
       " 'professor': 'professor',\n",
       " 'Hairdresser': 'hairdresser',\n",
       " 'etudient': 'etudient',\n",
       " 'barmen': 'barmen',\n",
       " 'manager': 'manager',\n",
       " 'bdm': 'bdm'}"
      ]
     },
     "execution_count": 1165,
     "metadata": {},
     "output_type": "execute_result"
    }
   ],
   "source": [
    "# The same professions have various case formats, let's make them all lower cases\n",
    "prof_dict = {org_prof:new_prof.lower() for (org_prof,new_prof) in prof_dict.items()}\n",
    "prof_dict"
   ]
  },
  {
   "cell_type": "code",
   "execution_count": 1166,
   "id": "2ec7db68",
   "metadata": {},
   "outputs": [
    {
     "data": {
      "text/plain": [
       "{'barmen',\n",
       " 'bdm',\n",
       " 'hairdresser',\n",
       " 'hr',\n",
       " 'manager',\n",
       " 'professor',\n",
       " 'researcher',\n",
       " 'student'}"
      ]
     },
     "execution_count": 1166,
     "metadata": {},
     "output_type": "execute_result"
    }
   ],
   "source": [
    "# Profession 'student' is also referenced by 'etudiant' and 'etudient'\n",
    "# Let's make it all 'student'\n",
    "prof_dict['etudiant'] = 'student'\n",
    "prof_dict['etudient'] = 'student'\n",
    "set(prof_dict.values())"
   ]
  },
  {
   "cell_type": "code",
   "execution_count": 1167,
   "id": "bcd4d2d7",
   "metadata": {},
   "outputs": [],
   "source": [
    "# Feed new professions back to dataframe\n",
    "df2[\"Profession\"] = df2[\"Profession\"].map(prof_dict)"
   ]
  },
  {
   "cell_type": "code",
   "execution_count": 1168,
   "id": "8d77f82e",
   "metadata": {},
   "outputs": [],
   "source": [
    "#3. Amount\n",
    "\n",
    "df3 = df2.copy()"
   ]
  },
  {
   "cell_type": "code",
   "execution_count": 1169,
   "id": "8e93c16d",
   "metadata": {},
   "outputs": [
    {
     "data": {
      "text/html": [
       "<div>\n",
       "<style scoped>\n",
       "    .dataframe tbody tr th:only-of-type {\n",
       "        vertical-align: middle;\n",
       "    }\n",
       "\n",
       "    .dataframe tbody tr th {\n",
       "        vertical-align: top;\n",
       "    }\n",
       "\n",
       "    .dataframe thead th {\n",
       "        text-align: right;\n",
       "    }\n",
       "</style>\n",
       "<table border=\"1\" class=\"dataframe\">\n",
       "  <thead>\n",
       "    <tr style=\"text-align: right;\">\n",
       "      <th></th>\n",
       "      <th>ClientID</th>\n",
       "      <th>BirthYear</th>\n",
       "      <th>Amount</th>\n",
       "      <th>Profession</th>\n",
       "      <th>Risk</th>\n",
       "    </tr>\n",
       "    <tr>\n",
       "      <th>TransactionID</th>\n",
       "      <th></th>\n",
       "      <th></th>\n",
       "      <th></th>\n",
       "      <th></th>\n",
       "      <th></th>\n",
       "    </tr>\n",
       "  </thead>\n",
       "  <tbody>\n",
       "  </tbody>\n",
       "</table>\n",
       "</div>"
      ],
      "text/plain": [
       "Empty DataFrame\n",
       "Columns: [ClientID, BirthYear, Amount, Profession, Risk]\n",
       "Index: []"
      ]
     },
     "execution_count": 1169,
     "metadata": {},
     "output_type": "execute_result"
    }
   ],
   "source": [
    "#3.1 Outliers\n",
    "stats_df3 = df3.describe().transpose()\n",
    "stats_df3[\"IQR\"] = stats['75%'] - stats['25%']\n",
    "cutoff_amt = stats_df3.loc[\"Amount\", \"IQR\"] * 3\n",
    "lower_amt = stats_df3.loc[\"Amount\", \"25%\"] - cutoff_amt\n",
    "upper_amt = stats_df3.loc[\"Amount\", \"75%\"] + cutoff_amt\n",
    "\n",
    "# ~ to invert mask\n",
    "outliers_amt = df3.loc[~(df3[\"Amount\"].between(lower_amt, upper_amt) )]\n",
    "outliers_amt\n",
    "# No outlier to drop"
   ]
  },
  {
   "cell_type": "code",
   "execution_count": 1170,
   "id": "9e694b56",
   "metadata": {},
   "outputs": [],
   "source": [
    "#4. Risk\n",
    "\n",
    "df4 = df3.copy()"
   ]
  },
  {
   "cell_type": "code",
   "execution_count": 1171,
   "id": "4a07a7cd",
   "metadata": {},
   "outputs": [
    {
     "data": {
      "text/plain": [
       "{'High', 'Low', 'Medium'}"
      ]
     },
     "execution_count": 1171,
     "metadata": {},
     "output_type": "execute_result"
    }
   ],
   "source": [
    "#4.1. Homogeneity\n",
    "set(df4.Risk)\n",
    "# {'High', 'Low', 'Medium'} is homogeneous"
   ]
  },
  {
   "cell_type": "code",
   "execution_count": 1172,
   "id": "3bbb4227",
   "metadata": {},
   "outputs": [],
   "source": [
    "#4.2. Consistency\n",
    "# Risk is by transaction, not by client, so no consistency check with available data"
   ]
  },
  {
   "cell_type": "code",
   "execution_count": 1173,
   "id": "898bd8cd",
   "metadata": {},
   "outputs": [
    {
     "data": {
      "text/html": [
       "<div>\n",
       "<style scoped>\n",
       "    .dataframe tbody tr th:only-of-type {\n",
       "        vertical-align: middle;\n",
       "    }\n",
       "\n",
       "    .dataframe tbody tr th {\n",
       "        vertical-align: top;\n",
       "    }\n",
       "\n",
       "    .dataframe thead th {\n",
       "        text-align: right;\n",
       "    }\n",
       "</style>\n",
       "<table border=\"1\" class=\"dataframe\">\n",
       "  <thead>\n",
       "    <tr style=\"text-align: right;\">\n",
       "      <th></th>\n",
       "      <th>ClientID</th>\n",
       "      <th>BirthYear</th>\n",
       "      <th>Amount</th>\n",
       "      <th>Profession_encode</th>\n",
       "      <th>Risk_encode</th>\n",
       "    </tr>\n",
       "    <tr>\n",
       "      <th>TransactionID</th>\n",
       "      <th></th>\n",
       "      <th></th>\n",
       "      <th></th>\n",
       "      <th></th>\n",
       "      <th></th>\n",
       "    </tr>\n",
       "  </thead>\n",
       "  <tbody>\n",
       "    <tr>\n",
       "      <th>3</th>\n",
       "      <td>34984</td>\n",
       "      <td>1945.0</td>\n",
       "      <td>3450</td>\n",
       "      <td>7</td>\n",
       "      <td>1.0</td>\n",
       "    </tr>\n",
       "    <tr>\n",
       "      <th>5</th>\n",
       "      <td>34986</td>\n",
       "      <td>1978.0</td>\n",
       "      <td>7890</td>\n",
       "      <td>3</td>\n",
       "      <td>2.0</td>\n",
       "    </tr>\n",
       "    <tr>\n",
       "      <th>6</th>\n",
       "      <td>34987</td>\n",
       "      <td>1967.0</td>\n",
       "      <td>10110</td>\n",
       "      <td>4</td>\n",
       "      <td>1.0</td>\n",
       "    </tr>\n",
       "    <tr>\n",
       "      <th>15</th>\n",
       "      <td>34987</td>\n",
       "      <td>1967.0</td>\n",
       "      <td>30090</td>\n",
       "      <td>4</td>\n",
       "      <td>0.0</td>\n",
       "    </tr>\n",
       "    <tr>\n",
       "      <th>22</th>\n",
       "      <td>34987</td>\n",
       "      <td>1967.0</td>\n",
       "      <td>18990</td>\n",
       "      <td>4</td>\n",
       "      <td>2.0</td>\n",
       "    </tr>\n",
       "  </tbody>\n",
       "</table>\n",
       "</div>"
      ],
      "text/plain": [
       "               ClientID  BirthYear  Amount  Profession_encode  Risk_encode\n",
       "TransactionID                                                             \n",
       "3                 34984     1945.0    3450                  7          1.0\n",
       "5                 34986     1978.0    7890                  3          2.0\n",
       "6                 34987     1967.0   10110                  4          1.0\n",
       "15                34987     1967.0   30090                  4          0.0\n",
       "22                34987     1967.0   18990                  4          2.0"
      ]
     },
     "execution_count": 1173,
     "metadata": {},
     "output_type": "execute_result"
    }
   ],
   "source": [
    "#5. Encoding categorical columns\n",
    "\n",
    "df5 = df4.copy()\n",
    "\n",
    "from sklearn.preprocessing import LabelEncoder, OrdinalEncoder\n",
    "\n",
    "# Label Encoder for \"Profession\"\n",
    "encoder1 = LabelEncoder()\n",
    "df5[\"Profession_encode\"]=encoder1.fit_transform(df5[\"Profession\"])\n",
    "df5.drop(columns=[\"Profession\"], inplace = True)\n",
    "\n",
    "# Ordinal Encoder for \"Risk\"\n",
    "\n",
    "encoder2 = OrdinalEncoder(categories=[['Low', 'Medium', 'High']])\n",
    "df5[\"Risk_encode\"]=encoder2.fit_transform(df5.loc[:,[\"Risk\"]])\n",
    "df5.drop(columns=[\"Risk\"], inplace = True)\n",
    "\n",
    "    \n",
    "\n",
    "df5.head(5)"
   ]
  },
  {
   "cell_type": "code",
   "execution_count": 1174,
   "id": "faae1a53",
   "metadata": {},
   "outputs": [],
   "source": [
    "#6. Save final database as CSV\n",
    "df_clean = df5.copy()\n",
    "df_clean.to_csv(\"./data/example_data_cleaning_CLEANED.csv\")"
   ]
  }
 ],
 "metadata": {
  "kernelspec": {
   "display_name": "Python 3.9.7 64-bit",
   "language": "python",
   "name": "python3"
  },
  "language_info": {
   "codemirror_mode": {
    "name": "ipython",
    "version": 3
   },
   "file_extension": ".py",
   "mimetype": "text/x-python",
   "name": "python",
   "nbconvert_exporter": "python",
   "pygments_lexer": "ipython3",
   "version": "3.9.7"
  },
  "vscode": {
   "interpreter": {
    "hash": "c347c8f9a7ef94e4c9e03b4513be7835ed18f45b99a2a817fb579f408b867b16"
   }
  }
 },
 "nbformat": 4,
 "nbformat_minor": 5
}

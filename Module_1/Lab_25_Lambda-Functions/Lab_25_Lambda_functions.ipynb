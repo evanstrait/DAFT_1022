{
  "cells": [
    {
      "cell_type": "markdown",
      "metadata": {
        "id": "view-in-github",
        "colab_type": "text"
      },
      "source": [
        "<a href=\"https://colab.research.google.com/github/evanstrait/DAFT_1022/blob/main/Module_1/Lab_25_Lambda-Functions/Lab_25_Lambda_functions.ipynb\" target=\"_parent\"><img src=\"https://colab.research.google.com/assets/colab-badge.svg\" alt=\"Open In Colab\"/></a>"
      ]
    },
    {
      "cell_type": "markdown",
      "metadata": {
        "id": "nO4fA2Y2Ijtb"
      },
      "source": [
        "# Before your start:\n",
        "- Read the README.md file\n",
        "- Comment as much as you can and use the resources in the README.md file\n",
        "- Happy learning!"
      ]
    },
    {
      "cell_type": "markdown",
      "metadata": {
        "id": "ip4T0UzvIjt1"
      },
      "source": [
        "# Challenge - Passing a Lambda Expression to a Function\n",
        "\n",
        "In the next excercise you will create a function that returns a lambda expression. Create a function called `modify_list`. The function takes two arguments, a list and a lambda expression. The function iterates through the list and applies the lambda expression to every element in the list."
      ]
    },
    {
      "cell_type": "code",
      "execution_count": null,
      "metadata": {
        "id": "rsz-BsGyIjt4"
      },
      "outputs": [],
      "source": [
        "def modify_list(lst, lmbda):\n",
        "    \"\"\"\n",
        "    Input: list and lambda expression\n",
        "    Output: the transformed list\n",
        "    \"\"\"\n",
        "    \n",
        "    return list(map(lmbda, lst))\n",
        "    \n",
        "    "
      ]
    },
    {
      "cell_type": "markdown",
      "metadata": {
        "id": "aMrX2CT1Ijt-"
      },
      "source": [
        "#### Now we will define a lambda expression that will transform the elements of the list. \n",
        "\n",
        "In the cell below, create a lambda expression that converts Celsius to Kelvin. Recall that 0°C + 273.15 = 273.15K"
      ]
    },
    {
      "cell_type": "code",
      "execution_count": null,
      "metadata": {
        "id": "KSgGyEtvIjuA"
      },
      "outputs": [],
      "source": [
        "lmbda = (lambda x: x + 273.15)"
      ]
    },
    {
      "cell_type": "markdown",
      "metadata": {
        "id": "P_glZKaGIjuC"
      },
      "source": [
        "Finally, convert the list of temperatures below from Celsius to Kelvin."
      ]
    },
    {
      "cell_type": "code",
      "execution_count": null,
      "metadata": {
        "id": "fe1yhfDzIjuE",
        "outputId": "e6d1e77c-22d3-4471-a9d5-85cd4d6146a2"
      },
      "outputs": [
        {
          "name": "stdout",
          "output_type": "stream",
          "text": [
            "[285.15, 296.15, 311.15, 218.14999999999998, 297.15]\n"
          ]
        }
      ],
      "source": [
        "temps = [12, 23, 38, -55, 24] \n",
        "temps_k = [lmbda(x) for x in temps]\n",
        "print(temps_k)"
      ]
    },
    {
      "cell_type": "markdown",
      "metadata": {
        "id": "S_ezJcG4IjuH"
      },
      "source": [
        "#### In this part, we will define a function that returns a lambda expression\n",
        "\n",
        "In the cell below, write a lambda expression that takes two numbers and returns 1 if one is divisible by the other and zero otherwise. Call the lambda expression `mod`."
      ]
    },
    {
      "cell_type": "code",
      "execution_count": null,
      "metadata": {
        "id": "JV1d1VgtIjuO",
        "outputId": "50252a78-384d-40d8-97db-bbb849fea550"
      },
      "outputs": [
        {
          "data": {
            "text/plain": [
              "1"
            ]
          },
          "execution_count": 5,
          "metadata": {},
          "output_type": "execute_result"
        }
      ],
      "source": [
        "mod = lambda x, y: 1 if y % x == 0 else 0\n",
        "\n",
        "mod(2, 6)"
      ]
    },
    {
      "cell_type": "markdown",
      "metadata": {
        "id": "HCNnniAeIjuQ"
      },
      "source": [
        "#### Now create a function that returns mod. The function only takes one argument - the first number in the `mod` lambda function. \n",
        "\n",
        "Note: the lambda function above took two arguments, the lambda function in the return statement only takes one argument but also uses the argument passed to the function."
      ]
    },
    {
      "cell_type": "code",
      "execution_count": null,
      "metadata": {
        "id": "WwKwfrtSIjuS"
      },
      "outputs": [],
      "source": [
        "def divisor(a):\n",
        "    \"\"\"\n",
        "    Input: a number\n",
        "    Output: a function that returns 1 if the number is \n",
        "    divisible by another number (to be passed later) and zero otherwise.\n",
        "    \"\"\"\n",
        "    \n",
        "    return lambda y: mod(a, y)"
      ]
    },
    {
      "cell_type": "markdown",
      "metadata": {
        "id": "niBHL3UKIjuT"
      },
      "source": [
        "Finally, pass the number 5 to `divisor`. Now the function will check whether a number is divisble by 5. Assign this function to `divisible5`"
      ]
    },
    {
      "cell_type": "code",
      "execution_count": null,
      "metadata": {
        "id": "Y_g-JEhHIjuU"
      },
      "outputs": [],
      "source": [
        "divisible5 = divisor(5)"
      ]
    },
    {
      "cell_type": "markdown",
      "metadata": {
        "id": "HIqLAzKJIjuV"
      },
      "source": [
        "Test your function with the following test cases:"
      ]
    },
    {
      "cell_type": "code",
      "execution_count": null,
      "metadata": {
        "id": "7Vq8WyZMIjuV",
        "outputId": "7a304a33-8e52-4d9e-b32f-29ff2ba13978"
      },
      "outputs": [
        {
          "data": {
            "text/plain": [
              "1"
            ]
          },
          "execution_count": 21,
          "metadata": {},
          "output_type": "execute_result"
        }
      ],
      "source": [
        "divisible5(10)"
      ]
    },
    {
      "cell_type": "code",
      "execution_count": null,
      "metadata": {
        "id": "kajXAgE1IjuW",
        "outputId": "c92915aa-787b-42d3-d782-c3e12afe04be"
      },
      "outputs": [
        {
          "data": {
            "text/plain": [
              "0"
            ]
          },
          "execution_count": 22,
          "metadata": {},
          "output_type": "execute_result"
        }
      ],
      "source": [
        "divisible5(8)"
      ]
    },
    {
      "cell_type": "markdown",
      "metadata": {
        "id": "tfvLba3mIjuX"
      },
      "source": [
        "# Bonus Challenge - Using Lambda Expressions in List Comprehensions\n",
        "\n",
        "In the following challenge, we will combine two lists using a lambda expression in a list comprehension. \n",
        "\n",
        "To do this, we will need to introduce the `zip` function. The `zip` function returns an iterator of tuples."
      ]
    },
    {
      "cell_type": "code",
      "execution_count": null,
      "metadata": {
        "colab": {
          "base_uri": "https://localhost:8080/"
        },
        "id": "noZ-FQ8qIjuX",
        "outputId": "b7dc265d-1715-4ef7-d6e7-fd8810803ba1"
      },
      "outputs": [
        {
          "output_type": "execute_result",
          "data": {
            "text/plain": [
              "[1, 2, 3, 4, 5]"
            ]
          },
          "metadata": {},
          "execution_count": 4
        }
      ],
      "source": [
        "# Here is an example of passing one list to the zip function. \n",
        "# Since the zip function returns an iterator, we need to evaluate the iterator by using a list comprehension.\n",
        "\n",
        "\n",
        "l = [1,2,3,4,5]\n",
        "[x for x in (l)]"
      ]
    },
    {
      "cell_type": "code",
      "source": [],
      "metadata": {
        "id": "kifOnpjaMAOZ"
      },
      "execution_count": null,
      "outputs": []
    },
    {
      "cell_type": "code",
      "source": [],
      "metadata": {
        "id": "P6lG_SIEMAR6"
      },
      "execution_count": null,
      "outputs": []
    },
    {
      "cell_type": "markdown",
      "metadata": {
        "id": "ip-6_KAOIjuY"
      },
      "source": [
        "Using the `zip` function, let's iterate through two lists and add the elements by position."
      ]
    },
    {
      "cell_type": "code",
      "execution_count": null,
      "metadata": {
        "id": "yRZYr_8IIjuZ",
        "outputId": "57c1e2f8-90fe-4f0d-929d-fc0c22cc37ea"
      },
      "outputs": [
        {
          "data": {
            "text/plain": [
              "[('Green', 'eggs'),\n",
              " ('cheese', 'cheese'),\n",
              " ('English', 'cucumber'),\n",
              " ('tomato', 'tomato')]"
            ]
          },
          "execution_count": 23,
          "metadata": {},
          "output_type": "execute_result"
        }
      ],
      "source": [
        "list1 = ['Green', 'cheese', 'English', 'tomato']\n",
        "list2 = ['eggs', 'cheese', 'cucumber', 'tomato']\n",
        "zipped = zip(list1,list2)\n",
        "list(zipped)"
      ]
    },
    {
      "cell_type": "code",
      "source": [
        "list1 = ['Green', 'cheese', 'English', 'tomato']\n",
        "list2 = ['eggs', 'cheese', 'cucumber', 'tomato']\n",
        "for i, j in zip(list1, list2):\n",
        "    print(i, j)"
      ],
      "metadata": {
        "colab": {
          "base_uri": "https://localhost:8080/"
        },
        "id": "Eqoxp5i8Mrlt",
        "outputId": "42eb4143-6003-4670-8efd-fe733f5a0a41"
      },
      "execution_count": null,
      "outputs": [
        {
          "output_type": "stream",
          "name": "stdout",
          "text": [
            "Green eggs\n",
            "cheese cheese\n",
            "English cucumber\n",
            "tomato tomato\n"
          ]
        }
      ]
    },
    {
      "cell_type": "markdown",
      "metadata": {
        "id": "cobbIjJbIjuc"
      },
      "source": [
        "# Bonus Challenge - Using Lambda Expressions as Arguments\n",
        "\n",
        "#### In this challenge, we will zip together two lists and sort by the resulting tuple.\n",
        "\n",
        "In the cell below, take the two lists provided, zip them together and sort by the first letter of the second element of each tuple. Do this using a lambda function."
      ]
    },
    {
      "cell_type": "code",
      "execution_count": null,
      "metadata": {
        "colab": {
          "base_uri": "https://localhost:8080/"
        },
        "id": "Xhgca9LfIjuc",
        "outputId": "2073ef80-bebc-4607-b9d7-ae0163290711"
      },
      "outputs": [
        {
          "output_type": "stream",
          "name": "stdout",
          "text": [
            "[('Political Science', 'Essay'), ('Computer Science', 'Homework'), ('Engineering', 'Lab'), ('Mathematics', 'Module')]\n"
          ]
        }
      ],
      "source": [
        "list1 = ['Engineering', 'Computer Science', 'Political Science', 'Mathematics']\n",
        "list2 = ['Lab', 'Homework', 'Essay', 'Module']\n",
        "\n",
        "list3 = list(zip(list1, list2))\n",
        "sorting = sorted(list3, key = lambda x: x[1])\n",
        "print(sorting)"
      ]
    },
    {
      "cell_type": "markdown",
      "metadata": {
        "id": "hKm0XU0QIjud"
      },
      "source": [
        "# Bonus Challenge - Sort a Dictionary by Values\n",
        "\n",
        "Given the dictionary below, sort it by values rather than by keys. Use a lambda function to specify the values as a sorting key."
      ]
    },
    {
      "cell_type": "code",
      "execution_count": null,
      "metadata": {
        "id": "hxTmePucIjud",
        "outputId": "313655e0-1406-440f-f7b5-21c1e55b7902"
      },
      "outputs": [
        {
          "name": "stdout",
          "output_type": "stream",
          "text": [
            "{'Toyota': 1995, 'Honda': 1997, 'Audi': 2001, 'BMW': 2005}\n"
          ]
        }
      ],
      "source": [
        "d = {'Honda': 1997, 'Toyota': 1995, 'Audi': 2001, 'BMW': 2005}\n",
        "var = {k : v for k, v in sorted(d.items(), key = lambda x: x[1])}\n",
        "print(var)"
      ]
    },
    {
      "cell_type": "code",
      "execution_count": null,
      "metadata": {
        "id": "Cy5fAowtIjue"
      },
      "outputs": [],
      "source": []
    }
  ],
  "metadata": {
    "kernelspec": {
      "display_name": "Python 3",
      "language": "python",
      "name": "python3"
    },
    "language_info": {
      "codemirror_mode": {
        "name": "ipython",
        "version": 3
      },
      "file_extension": ".py",
      "mimetype": "text/x-python",
      "name": "python",
      "nbconvert_exporter": "python",
      "pygments_lexer": "ipython3",
      "version": "3.7.4"
    },
    "colab": {
      "provenance": [],
      "include_colab_link": true
    }
  },
  "nbformat": 4,
  "nbformat_minor": 0
}
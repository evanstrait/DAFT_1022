{
  "nbformat": 4,
  "nbformat_minor": 0,
  "metadata": {
    "colab": {
      "provenance": [],
      "collapsed_sections": [],
      "include_colab_link": true
    },
    "kernelspec": {
      "name": "python3",
      "display_name": "Python 3"
    },
    "language_info": {
      "name": "python"
    }
  },
  "cells": [
    {
      "cell_type": "markdown",
      "metadata": {
        "id": "view-in-github",
        "colab_type": "text"
      },
      "source": [
        "<a href=\"https://colab.research.google.com/github/evanstrait/DAFT_1022/blob/main/Research_and_Planning.ipynb\" target=\"_parent\"><img src=\"https://colab.research.google.com/assets/colab-badge.svg\" alt=\"Open In Colab\"/></a>"
      ]
    },
    {
      "cell_type": "markdown",
      "source": [
        "**RESEARCH PARTS**\n",
        "\n",
        "Example of weak codes:\n",
        "\n",
        "In this case, all characters set are copied into a single string, then each character that composes the password is taken randomly from it.\n",
        "import os, random, string\n",
        "\n",
        "length = 13\n",
        "chars = string.ascii_letters + string.digits + '!$()?=^_;:,.-'\n",
        "random.seed = (os.urandom(1024))\n",
        "\n",
        "print(''.join(random.choice(chars) for i in range(length)))\n",
        "\n",
        "The character sets are divided and a random value is used to select among the sets and then, from that selected set, a random character is taken\n",
        "    import os, random, string\n",
        "\n",
        "    length = 13\n",
        "    set = [string.ascii_letters, string.digits, '!$()?=^_;:,.-']\n",
        "\n",
        "    random.seed = (os.urandom(1024))\n",
        "\n",
        "    print ''.join(random.choice(random.choice(set)) for i in range(length))"
      ],
      "metadata": {
        "id": "-qUj2Dz8p2Hn"
      }
    },
    {
      "cell_type": "code",
      "source": [
        "import os, random, string\n",
        "\n",
        "length = 13\n",
        "chars = string.ascii_letters + string.digits + '!$()?=^_;:,.-'\n",
        "random.seed = (os.urandom(1024))\n",
        "\n",
        "print(''.join(random.choice(chars) for i in range(length)))"
      ],
      "metadata": {
        "colab": {
          "base_uri": "https://localhost:8080/"
        },
        "id": "4NRXHLqyp15O",
        "outputId": "91ac0922-7d21-4d6d-9da9-beeafbdb4775"
      },
      "execution_count": null,
      "outputs": [
        {
          "output_type": "stream",
          "name": "stdout",
          "text": [
            "5U^J_riyyn8ht\n"
          ]
        }
      ]
    },
    {
      "cell_type": "code",
      "source": [
        "import os, random, string\n",
        "\n",
        "length = 13\n",
        "set = [string.ascii_letters, string.digits, '!$()?=^_;:,.-']\n",
        "\n",
        "random.seed = (os.urandom(1024))\n",
        "\n",
        "print(''.join(random.choice(random.choice(set)) for i in range(length)))"
      ],
      "metadata": {
        "colab": {
          "base_uri": "https://localhost:8080/"
        },
        "id": "g2KDcHHPrPRS",
        "outputId": "0ab972ea-27f1-4b52-a43a-7d07b3c35581"
      },
      "execution_count": null,
      "outputs": [
        {
          "output_type": "stream",
          "name": "stdout",
          "text": [
            "9Q(3.c):P?!a=\n"
          ]
        }
      ]
    },
    {
      "cell_type": "markdown",
      "source": [
        "Hello Grandma!\n",
        "\n",
        "We are so sorry your European Union account was hacked!\n",
        "\n",
        "We'll create a new STRONG password for you! ❤❤❤❤\n",
        "\n",
        "Please provide your user name (so we can exclude it from our calculations):\n",
        "\n",
        "INPUT()\n",
        "\n",
        "\n",
        "\n",
        "----------------------\n",
        "\n",
        "Print:\n",
        "Wrrrr\n",
        "\n",
        "Brrrr\n",
        "\n",
        "Bum bam bum\n",
        "\n",
        "----\n",
        "\n",
        "\"Ta dam! Please see below your NEW, STRONG, created EXCLUSIVELY for you...\" 😽\n",
        "\n",
        "PASSWORD: \"New Password\"\n",
        "\n",
        "----\n",
        "\n",
        "Do you like your new PASSWORD ?\n",
        "\n",
        "If yes - > \"Wonderfull! We are happy to help :) \"\n",
        "\n",
        "If no -> \"So sorry to hear this :(\n",
        "          Let's try again? -> Yes or No\"\n",
        "\n",
        "if yes -> Run calculation again\n",
        "\n",
        "if no -> \"Call me if you have more questions! :) \"\n",
        "\n",
        "\n",
        "\n",
        "Algorithm:\n",
        "\n",
        "Password must:\n",
        "\n",
        "1. be different from your username;\n",
        "2. contain at least one numerical character;\n",
        "3. contain at least one special character;\n",
        "3. contain at least one Capital letter;\n",
        "3. not have 3 repeated characters (e.g. aaa, 111), sequences (e.g. 123, abc) or special characters (e.g. #, *);\n",
        "8. Based on user input:\n",
        "  a. 1 word to be written starting with Capital leter\n",
        "    - to be limited by max 8 characters\n",
        "  b. 1 year in format YYYY\n",
        "    - max 4 characters\n",
        "\n",
        "How it works:\n",
        "\n",
        "User provided word and year\n",
        "\n",
        "Our Algorithm joins both into 1 string\n",
        "\n",
        "We break the user's word and number into a list\n",
        "Why not add something here?\n",
        "List is supplemented with special characters (e.g. #, *)\n",
        "\n",
        "List is reorganized into a sequence of letter => number => special character\n",
        "\n",
        "\n",
        "\n",
        "1 string, alternating letters, numbers and symbols to avoid sequences (if operation on string not possible, do it on list of characters / change into list)\n",
        "\n",
        "\n",
        "\n",
        "\n",
        "\n",
        "\n",
        "\n",
        "\n",
        "\n",
        "\n",
        "\n",
        "\n"
      ],
      "metadata": {
        "id": "RNxDK7UFuqp1"
      }
    },
    {
      "cell_type": "code",
      "source": [],
      "metadata": {
        "id": "I75jWNkVJ-AH"
      },
      "execution_count": null,
      "outputs": []
    }
  ]
}